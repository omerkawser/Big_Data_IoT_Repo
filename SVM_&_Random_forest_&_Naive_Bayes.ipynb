{
  "cells": [
    {
      "cell_type": "markdown",
      "metadata": {
        "id": "view-in-github",
        "colab_type": "text"
      },
      "source": [
        "<a href=\"https://colab.research.google.com/github/omerkawser/Big_Data_IoT_Repo/blob/main/SVM_%26_Random_forest_%26_Naive_Bayes.ipynb\" target=\"_parent\"><img src=\"https://colab.research.google.com/assets/colab-badge.svg\" alt=\"Open In Colab\"/></a>"
      ]
    },
    {
      "cell_type": "code",
      "execution_count": 4,
      "metadata": {
        "id": "NICsheK1hG9y"
      },
      "outputs": [],
      "source": [
        "import numpy as np\n",
        "import pandas as pd\n",
        "import matplotlib.pyplot as plt"
      ]
    },
    {
      "cell_type": "code",
      "execution_count": 5,
      "metadata": {
        "id": "J1Lwe88ZhG91"
      },
      "outputs": [],
      "source": [
        "df = pd.read_csv('/content/credit card.csv')"
      ]
    },
    {
      "cell_type": "code",
      "execution_count": 6,
      "metadata": {
        "id": "LsPaMPTehG92",
        "colab": {
          "base_uri": "https://localhost:8080/",
          "height": 443
        },
        "outputId": "d7888e95-4892-4b8e-a9b3-83e8cbdc0642"
      },
      "outputs": [
        {
          "output_type": "execute_result",
          "data": {
            "text/plain": [
              "          ID  LIMIT_BAL  SEX  EDUCATION  MARRIAGE   AGE  PAY_0  PAY_2  PAY_3  \\\n",
              "0          1    20000.0    2          2         1  24.0      2      2     -1   \n",
              "1          2   120000.0    2          2         2  26.0     -1      2      0   \n",
              "2          3    90000.0    2          2         2   NaN      0      0      0   \n",
              "3          4    50000.0    2          2         1   NaN      0      0      0   \n",
              "4          5    50000.0    1          2         1  57.0     -1      0     -1   \n",
              "...      ...        ...  ...        ...       ...   ...    ...    ...    ...   \n",
              "29995  29996   220000.0    1          3         1  39.0      0      0      0   \n",
              "29996  29997   150000.0    1          3         2  43.0     -1     -1     -1   \n",
              "29997  29998    30000.0    1          2         2  37.0      4      3      2   \n",
              "29998  29999    80000.0    1          3         1  41.0      1     -1      0   \n",
              "29999  30000    50000.0    1          2         1  46.0      0      0      0   \n",
              "\n",
              "       PAY_4  ...  BILL_AMT4  BILL_AMT5  BILL_AMT6  PAY_AMT1  PAY_AMT2  \\\n",
              "0         -1  ...        0.0        0.0        0.0       0.0     689.0   \n",
              "1          0  ...     3272.0     3455.0     3261.0       0.0    1000.0   \n",
              "2          0  ...    14331.0    14948.0    15549.0    1518.0    1500.0   \n",
              "3          0  ...    28314.0    28959.0    29547.0    2000.0    2018.0   \n",
              "4          0  ...    20940.0    19146.0    19131.0    2000.0   36681.0   \n",
              "...      ...  ...        ...        ...        ...       ...       ...   \n",
              "29995      0  ...    88004.0    31237.0    15980.0    8500.0   20000.0   \n",
              "29996     -1  ...     8979.0     5190.0        0.0    1837.0    3526.0   \n",
              "29997     -1  ...    20878.0    20582.0    19357.0       0.0       0.0   \n",
              "29998      0  ...    52774.0    11855.0    48944.0   85900.0    3409.0   \n",
              "29999      0  ...    36535.0    32428.0    15313.0    2078.0    1800.0   \n",
              "\n",
              "       PAY_AMT3  PAY_AMT4  PAY_AMT5  PAY_AMT6  default.payment.next.month  \n",
              "0           0.0       0.0       0.0       0.0                           1  \n",
              "1        1000.0    1000.0       0.0    2000.0                           1  \n",
              "2        1000.0    1000.0    1000.0    5000.0                           0  \n",
              "3        1200.0    1100.0    1069.0    1000.0                           0  \n",
              "4       10000.0    9000.0     689.0     679.0                           0  \n",
              "...         ...       ...       ...       ...                         ...  \n",
              "29995    5003.0    3047.0    5000.0    1000.0                           0  \n",
              "29996    8998.0     129.0       0.0       0.0                           0  \n",
              "29997   22000.0    4200.0    2000.0    3100.0                           1  \n",
              "29998    1178.0    1926.0   52964.0    1804.0                           1  \n",
              "29999    1430.0    1000.0    1000.0    1000.0                           1  \n",
              "\n",
              "[30000 rows x 25 columns]"
            ],
            "text/html": [
              "\n",
              "  <div id=\"df-3d2b2a9b-9bcb-455b-9bb8-92797c50c966\" class=\"colab-df-container\">\n",
              "    <div>\n",
              "<style scoped>\n",
              "    .dataframe tbody tr th:only-of-type {\n",
              "        vertical-align: middle;\n",
              "    }\n",
              "\n",
              "    .dataframe tbody tr th {\n",
              "        vertical-align: top;\n",
              "    }\n",
              "\n",
              "    .dataframe thead th {\n",
              "        text-align: right;\n",
              "    }\n",
              "</style>\n",
              "<table border=\"1\" class=\"dataframe\">\n",
              "  <thead>\n",
              "    <tr style=\"text-align: right;\">\n",
              "      <th></th>\n",
              "      <th>ID</th>\n",
              "      <th>LIMIT_BAL</th>\n",
              "      <th>SEX</th>\n",
              "      <th>EDUCATION</th>\n",
              "      <th>MARRIAGE</th>\n",
              "      <th>AGE</th>\n",
              "      <th>PAY_0</th>\n",
              "      <th>PAY_2</th>\n",
              "      <th>PAY_3</th>\n",
              "      <th>PAY_4</th>\n",
              "      <th>...</th>\n",
              "      <th>BILL_AMT4</th>\n",
              "      <th>BILL_AMT5</th>\n",
              "      <th>BILL_AMT6</th>\n",
              "      <th>PAY_AMT1</th>\n",
              "      <th>PAY_AMT2</th>\n",
              "      <th>PAY_AMT3</th>\n",
              "      <th>PAY_AMT4</th>\n",
              "      <th>PAY_AMT5</th>\n",
              "      <th>PAY_AMT6</th>\n",
              "      <th>default.payment.next.month</th>\n",
              "    </tr>\n",
              "  </thead>\n",
              "  <tbody>\n",
              "    <tr>\n",
              "      <th>0</th>\n",
              "      <td>1</td>\n",
              "      <td>20000.0</td>\n",
              "      <td>2</td>\n",
              "      <td>2</td>\n",
              "      <td>1</td>\n",
              "      <td>24.0</td>\n",
              "      <td>2</td>\n",
              "      <td>2</td>\n",
              "      <td>-1</td>\n",
              "      <td>-1</td>\n",
              "      <td>...</td>\n",
              "      <td>0.0</td>\n",
              "      <td>0.0</td>\n",
              "      <td>0.0</td>\n",
              "      <td>0.0</td>\n",
              "      <td>689.0</td>\n",
              "      <td>0.0</td>\n",
              "      <td>0.0</td>\n",
              "      <td>0.0</td>\n",
              "      <td>0.0</td>\n",
              "      <td>1</td>\n",
              "    </tr>\n",
              "    <tr>\n",
              "      <th>1</th>\n",
              "      <td>2</td>\n",
              "      <td>120000.0</td>\n",
              "      <td>2</td>\n",
              "      <td>2</td>\n",
              "      <td>2</td>\n",
              "      <td>26.0</td>\n",
              "      <td>-1</td>\n",
              "      <td>2</td>\n",
              "      <td>0</td>\n",
              "      <td>0</td>\n",
              "      <td>...</td>\n",
              "      <td>3272.0</td>\n",
              "      <td>3455.0</td>\n",
              "      <td>3261.0</td>\n",
              "      <td>0.0</td>\n",
              "      <td>1000.0</td>\n",
              "      <td>1000.0</td>\n",
              "      <td>1000.0</td>\n",
              "      <td>0.0</td>\n",
              "      <td>2000.0</td>\n",
              "      <td>1</td>\n",
              "    </tr>\n",
              "    <tr>\n",
              "      <th>2</th>\n",
              "      <td>3</td>\n",
              "      <td>90000.0</td>\n",
              "      <td>2</td>\n",
              "      <td>2</td>\n",
              "      <td>2</td>\n",
              "      <td>NaN</td>\n",
              "      <td>0</td>\n",
              "      <td>0</td>\n",
              "      <td>0</td>\n",
              "      <td>0</td>\n",
              "      <td>...</td>\n",
              "      <td>14331.0</td>\n",
              "      <td>14948.0</td>\n",
              "      <td>15549.0</td>\n",
              "      <td>1518.0</td>\n",
              "      <td>1500.0</td>\n",
              "      <td>1000.0</td>\n",
              "      <td>1000.0</td>\n",
              "      <td>1000.0</td>\n",
              "      <td>5000.0</td>\n",
              "      <td>0</td>\n",
              "    </tr>\n",
              "    <tr>\n",
              "      <th>3</th>\n",
              "      <td>4</td>\n",
              "      <td>50000.0</td>\n",
              "      <td>2</td>\n",
              "      <td>2</td>\n",
              "      <td>1</td>\n",
              "      <td>NaN</td>\n",
              "      <td>0</td>\n",
              "      <td>0</td>\n",
              "      <td>0</td>\n",
              "      <td>0</td>\n",
              "      <td>...</td>\n",
              "      <td>28314.0</td>\n",
              "      <td>28959.0</td>\n",
              "      <td>29547.0</td>\n",
              "      <td>2000.0</td>\n",
              "      <td>2018.0</td>\n",
              "      <td>1200.0</td>\n",
              "      <td>1100.0</td>\n",
              "      <td>1069.0</td>\n",
              "      <td>1000.0</td>\n",
              "      <td>0</td>\n",
              "    </tr>\n",
              "    <tr>\n",
              "      <th>4</th>\n",
              "      <td>5</td>\n",
              "      <td>50000.0</td>\n",
              "      <td>1</td>\n",
              "      <td>2</td>\n",
              "      <td>1</td>\n",
              "      <td>57.0</td>\n",
              "      <td>-1</td>\n",
              "      <td>0</td>\n",
              "      <td>-1</td>\n",
              "      <td>0</td>\n",
              "      <td>...</td>\n",
              "      <td>20940.0</td>\n",
              "      <td>19146.0</td>\n",
              "      <td>19131.0</td>\n",
              "      <td>2000.0</td>\n",
              "      <td>36681.0</td>\n",
              "      <td>10000.0</td>\n",
              "      <td>9000.0</td>\n",
              "      <td>689.0</td>\n",
              "      <td>679.0</td>\n",
              "      <td>0</td>\n",
              "    </tr>\n",
              "    <tr>\n",
              "      <th>...</th>\n",
              "      <td>...</td>\n",
              "      <td>...</td>\n",
              "      <td>...</td>\n",
              "      <td>...</td>\n",
              "      <td>...</td>\n",
              "      <td>...</td>\n",
              "      <td>...</td>\n",
              "      <td>...</td>\n",
              "      <td>...</td>\n",
              "      <td>...</td>\n",
              "      <td>...</td>\n",
              "      <td>...</td>\n",
              "      <td>...</td>\n",
              "      <td>...</td>\n",
              "      <td>...</td>\n",
              "      <td>...</td>\n",
              "      <td>...</td>\n",
              "      <td>...</td>\n",
              "      <td>...</td>\n",
              "      <td>...</td>\n",
              "      <td>...</td>\n",
              "    </tr>\n",
              "    <tr>\n",
              "      <th>29995</th>\n",
              "      <td>29996</td>\n",
              "      <td>220000.0</td>\n",
              "      <td>1</td>\n",
              "      <td>3</td>\n",
              "      <td>1</td>\n",
              "      <td>39.0</td>\n",
              "      <td>0</td>\n",
              "      <td>0</td>\n",
              "      <td>0</td>\n",
              "      <td>0</td>\n",
              "      <td>...</td>\n",
              "      <td>88004.0</td>\n",
              "      <td>31237.0</td>\n",
              "      <td>15980.0</td>\n",
              "      <td>8500.0</td>\n",
              "      <td>20000.0</td>\n",
              "      <td>5003.0</td>\n",
              "      <td>3047.0</td>\n",
              "      <td>5000.0</td>\n",
              "      <td>1000.0</td>\n",
              "      <td>0</td>\n",
              "    </tr>\n",
              "    <tr>\n",
              "      <th>29996</th>\n",
              "      <td>29997</td>\n",
              "      <td>150000.0</td>\n",
              "      <td>1</td>\n",
              "      <td>3</td>\n",
              "      <td>2</td>\n",
              "      <td>43.0</td>\n",
              "      <td>-1</td>\n",
              "      <td>-1</td>\n",
              "      <td>-1</td>\n",
              "      <td>-1</td>\n",
              "      <td>...</td>\n",
              "      <td>8979.0</td>\n",
              "      <td>5190.0</td>\n",
              "      <td>0.0</td>\n",
              "      <td>1837.0</td>\n",
              "      <td>3526.0</td>\n",
              "      <td>8998.0</td>\n",
              "      <td>129.0</td>\n",
              "      <td>0.0</td>\n",
              "      <td>0.0</td>\n",
              "      <td>0</td>\n",
              "    </tr>\n",
              "    <tr>\n",
              "      <th>29997</th>\n",
              "      <td>29998</td>\n",
              "      <td>30000.0</td>\n",
              "      <td>1</td>\n",
              "      <td>2</td>\n",
              "      <td>2</td>\n",
              "      <td>37.0</td>\n",
              "      <td>4</td>\n",
              "      <td>3</td>\n",
              "      <td>2</td>\n",
              "      <td>-1</td>\n",
              "      <td>...</td>\n",
              "      <td>20878.0</td>\n",
              "      <td>20582.0</td>\n",
              "      <td>19357.0</td>\n",
              "      <td>0.0</td>\n",
              "      <td>0.0</td>\n",
              "      <td>22000.0</td>\n",
              "      <td>4200.0</td>\n",
              "      <td>2000.0</td>\n",
              "      <td>3100.0</td>\n",
              "      <td>1</td>\n",
              "    </tr>\n",
              "    <tr>\n",
              "      <th>29998</th>\n",
              "      <td>29999</td>\n",
              "      <td>80000.0</td>\n",
              "      <td>1</td>\n",
              "      <td>3</td>\n",
              "      <td>1</td>\n",
              "      <td>41.0</td>\n",
              "      <td>1</td>\n",
              "      <td>-1</td>\n",
              "      <td>0</td>\n",
              "      <td>0</td>\n",
              "      <td>...</td>\n",
              "      <td>52774.0</td>\n",
              "      <td>11855.0</td>\n",
              "      <td>48944.0</td>\n",
              "      <td>85900.0</td>\n",
              "      <td>3409.0</td>\n",
              "      <td>1178.0</td>\n",
              "      <td>1926.0</td>\n",
              "      <td>52964.0</td>\n",
              "      <td>1804.0</td>\n",
              "      <td>1</td>\n",
              "    </tr>\n",
              "    <tr>\n",
              "      <th>29999</th>\n",
              "      <td>30000</td>\n",
              "      <td>50000.0</td>\n",
              "      <td>1</td>\n",
              "      <td>2</td>\n",
              "      <td>1</td>\n",
              "      <td>46.0</td>\n",
              "      <td>0</td>\n",
              "      <td>0</td>\n",
              "      <td>0</td>\n",
              "      <td>0</td>\n",
              "      <td>...</td>\n",
              "      <td>36535.0</td>\n",
              "      <td>32428.0</td>\n",
              "      <td>15313.0</td>\n",
              "      <td>2078.0</td>\n",
              "      <td>1800.0</td>\n",
              "      <td>1430.0</td>\n",
              "      <td>1000.0</td>\n",
              "      <td>1000.0</td>\n",
              "      <td>1000.0</td>\n",
              "      <td>1</td>\n",
              "    </tr>\n",
              "  </tbody>\n",
              "</table>\n",
              "<p>30000 rows × 25 columns</p>\n",
              "</div>\n",
              "    <div class=\"colab-df-buttons\">\n",
              "\n",
              "  <div class=\"colab-df-container\">\n",
              "    <button class=\"colab-df-convert\" onclick=\"convertToInteractive('df-3d2b2a9b-9bcb-455b-9bb8-92797c50c966')\"\n",
              "            title=\"Convert this dataframe to an interactive table.\"\n",
              "            style=\"display:none;\">\n",
              "\n",
              "  <svg xmlns=\"http://www.w3.org/2000/svg\" height=\"24px\" viewBox=\"0 -960 960 960\">\n",
              "    <path d=\"M120-120v-720h720v720H120Zm60-500h600v-160H180v160Zm220 220h160v-160H400v160Zm0 220h160v-160H400v160ZM180-400h160v-160H180v160Zm440 0h160v-160H620v160ZM180-180h160v-160H180v160Zm440 0h160v-160H620v160Z\"/>\n",
              "  </svg>\n",
              "    </button>\n",
              "\n",
              "  <style>\n",
              "    .colab-df-container {\n",
              "      display:flex;\n",
              "      gap: 12px;\n",
              "    }\n",
              "\n",
              "    .colab-df-convert {\n",
              "      background-color: #E8F0FE;\n",
              "      border: none;\n",
              "      border-radius: 50%;\n",
              "      cursor: pointer;\n",
              "      display: none;\n",
              "      fill: #1967D2;\n",
              "      height: 32px;\n",
              "      padding: 0 0 0 0;\n",
              "      width: 32px;\n",
              "    }\n",
              "\n",
              "    .colab-df-convert:hover {\n",
              "      background-color: #E2EBFA;\n",
              "      box-shadow: 0px 1px 2px rgba(60, 64, 67, 0.3), 0px 1px 3px 1px rgba(60, 64, 67, 0.15);\n",
              "      fill: #174EA6;\n",
              "    }\n",
              "\n",
              "    .colab-df-buttons div {\n",
              "      margin-bottom: 4px;\n",
              "    }\n",
              "\n",
              "    [theme=dark] .colab-df-convert {\n",
              "      background-color: #3B4455;\n",
              "      fill: #D2E3FC;\n",
              "    }\n",
              "\n",
              "    [theme=dark] .colab-df-convert:hover {\n",
              "      background-color: #434B5C;\n",
              "      box-shadow: 0px 1px 3px 1px rgba(0, 0, 0, 0.15);\n",
              "      filter: drop-shadow(0px 1px 2px rgba(0, 0, 0, 0.3));\n",
              "      fill: #FFFFFF;\n",
              "    }\n",
              "  </style>\n",
              "\n",
              "    <script>\n",
              "      const buttonEl =\n",
              "        document.querySelector('#df-3d2b2a9b-9bcb-455b-9bb8-92797c50c966 button.colab-df-convert');\n",
              "      buttonEl.style.display =\n",
              "        google.colab.kernel.accessAllowed ? 'block' : 'none';\n",
              "\n",
              "      async function convertToInteractive(key) {\n",
              "        const element = document.querySelector('#df-3d2b2a9b-9bcb-455b-9bb8-92797c50c966');\n",
              "        const dataTable =\n",
              "          await google.colab.kernel.invokeFunction('convertToInteractive',\n",
              "                                                    [key], {});\n",
              "        if (!dataTable) return;\n",
              "\n",
              "        const docLinkHtml = 'Like what you see? Visit the ' +\n",
              "          '<a target=\"_blank\" href=https://colab.research.google.com/notebooks/data_table.ipynb>data table notebook</a>'\n",
              "          + ' to learn more about interactive tables.';\n",
              "        element.innerHTML = '';\n",
              "        dataTable['output_type'] = 'display_data';\n",
              "        await google.colab.output.renderOutput(dataTable, element);\n",
              "        const docLink = document.createElement('div');\n",
              "        docLink.innerHTML = docLinkHtml;\n",
              "        element.appendChild(docLink);\n",
              "      }\n",
              "    </script>\n",
              "  </div>\n",
              "\n",
              "\n",
              "<div id=\"df-98c581ee-bf36-46fe-85d2-5eac90d991db\">\n",
              "  <button class=\"colab-df-quickchart\" onclick=\"quickchart('df-98c581ee-bf36-46fe-85d2-5eac90d991db')\"\n",
              "            title=\"Suggest charts.\"\n",
              "            style=\"display:none;\">\n",
              "\n",
              "<svg xmlns=\"http://www.w3.org/2000/svg\" height=\"24px\"viewBox=\"0 0 24 24\"\n",
              "     width=\"24px\">\n",
              "    <g>\n",
              "        <path d=\"M19 3H5c-1.1 0-2 .9-2 2v14c0 1.1.9 2 2 2h14c1.1 0 2-.9 2-2V5c0-1.1-.9-2-2-2zM9 17H7v-7h2v7zm4 0h-2V7h2v10zm4 0h-2v-4h2v4z\"/>\n",
              "    </g>\n",
              "</svg>\n",
              "  </button>\n",
              "\n",
              "<style>\n",
              "  .colab-df-quickchart {\n",
              "    background-color: #E8F0FE;\n",
              "    border: none;\n",
              "    border-radius: 50%;\n",
              "    cursor: pointer;\n",
              "    display: none;\n",
              "    fill: #1967D2;\n",
              "    height: 32px;\n",
              "    padding: 0 0 0 0;\n",
              "    width: 32px;\n",
              "  }\n",
              "\n",
              "  .colab-df-quickchart:hover {\n",
              "    background-color: #E2EBFA;\n",
              "    box-shadow: 0px 1px 2px rgba(60, 64, 67, 0.3), 0px 1px 3px 1px rgba(60, 64, 67, 0.15);\n",
              "    fill: #174EA6;\n",
              "  }\n",
              "\n",
              "  [theme=dark] .colab-df-quickchart {\n",
              "    background-color: #3B4455;\n",
              "    fill: #D2E3FC;\n",
              "  }\n",
              "\n",
              "  [theme=dark] .colab-df-quickchart:hover {\n",
              "    background-color: #434B5C;\n",
              "    box-shadow: 0px 1px 3px 1px rgba(0, 0, 0, 0.15);\n",
              "    filter: drop-shadow(0px 1px 2px rgba(0, 0, 0, 0.3));\n",
              "    fill: #FFFFFF;\n",
              "  }\n",
              "</style>\n",
              "\n",
              "  <script>\n",
              "    async function quickchart(key) {\n",
              "      const charts = await google.colab.kernel.invokeFunction(\n",
              "          'suggestCharts', [key], {});\n",
              "    }\n",
              "    (() => {\n",
              "      let quickchartButtonEl =\n",
              "        document.querySelector('#df-98c581ee-bf36-46fe-85d2-5eac90d991db button');\n",
              "      quickchartButtonEl.style.display =\n",
              "        google.colab.kernel.accessAllowed ? 'block' : 'none';\n",
              "    })();\n",
              "  </script>\n",
              "</div>\n",
              "    </div>\n",
              "  </div>\n"
            ]
          },
          "metadata": {},
          "execution_count": 6
        }
      ],
      "source": [
        "df"
      ]
    },
    {
      "cell_type": "code",
      "execution_count": 7,
      "metadata": {
        "id": "qjC1qxtthG94",
        "colab": {
          "base_uri": "https://localhost:8080/"
        },
        "outputId": "df515f8b-d59d-44c0-eb5f-6ea2801af326"
      },
      "outputs": [
        {
          "output_type": "execute_result",
          "data": {
            "text/plain": [
              "(30000, 25)"
            ]
          },
          "metadata": {},
          "execution_count": 7
        }
      ],
      "source": [
        "df.shape"
      ]
    },
    {
      "cell_type": "code",
      "execution_count": 8,
      "metadata": {
        "id": "cBvKT1nPhG95",
        "colab": {
          "base_uri": "https://localhost:8080/"
        },
        "outputId": "1f2cd8db-996c-4c00-f51a-5f5b28132c3d"
      },
      "outputs": [
        {
          "output_type": "execute_result",
          "data": {
            "text/plain": [
              "ID                            0\n",
              "LIMIT_BAL                     0\n",
              "SEX                           0\n",
              "EDUCATION                     0\n",
              "MARRIAGE                      0\n",
              "AGE                           2\n",
              "PAY_0                         0\n",
              "PAY_2                         0\n",
              "PAY_3                         0\n",
              "PAY_4                         0\n",
              "PAY_5                         0\n",
              "PAY_6                         0\n",
              "BILL_AMT1                     0\n",
              "BILL_AMT2                     0\n",
              "BILL_AMT3                     0\n",
              "BILL_AMT4                     0\n",
              "BILL_AMT5                     0\n",
              "BILL_AMT6                     0\n",
              "PAY_AMT1                      0\n",
              "PAY_AMT2                      0\n",
              "PAY_AMT3                      0\n",
              "PAY_AMT4                      0\n",
              "PAY_AMT5                      0\n",
              "PAY_AMT6                      0\n",
              "default.payment.next.month    0\n",
              "dtype: int64"
            ]
          },
          "metadata": {},
          "execution_count": 8
        }
      ],
      "source": [
        "df.isnull().sum()"
      ]
    },
    {
      "cell_type": "code",
      "execution_count": 9,
      "metadata": {
        "id": "157bgoyLhG95"
      },
      "outputs": [],
      "source": [
        "fill= df['AGE'].median()"
      ]
    },
    {
      "cell_type": "code",
      "execution_count": 10,
      "metadata": {
        "id": "qa3GulYahG96"
      },
      "outputs": [],
      "source": [
        "df.AGE = df.AGE.fillna(fill)"
      ]
    },
    {
      "cell_type": "code",
      "execution_count": 11,
      "metadata": {
        "id": "OZ8PBlUxhG96",
        "colab": {
          "base_uri": "https://localhost:8080/"
        },
        "outputId": "f998f674-09b0-4324-c27f-caf12da61277"
      },
      "outputs": [
        {
          "output_type": "execute_result",
          "data": {
            "text/plain": [
              "0        24.0\n",
              "1        26.0\n",
              "2        34.0\n",
              "3        34.0\n",
              "4        57.0\n",
              "         ... \n",
              "29995    39.0\n",
              "29996    43.0\n",
              "29997    37.0\n",
              "29998    41.0\n",
              "29999    46.0\n",
              "Name: AGE, Length: 30000, dtype: float64"
            ]
          },
          "metadata": {},
          "execution_count": 11
        }
      ],
      "source": [
        "df.AGE"
      ]
    },
    {
      "cell_type": "code",
      "execution_count": 12,
      "metadata": {
        "id": "5JanN0kshG97"
      },
      "outputs": [],
      "source": [
        "X = df.drop(['default.payment.next.month'],axis=1)"
      ]
    },
    {
      "cell_type": "code",
      "execution_count": 13,
      "metadata": {
        "id": "miWU8lAphG98",
        "colab": {
          "base_uri": "https://localhost:8080/",
          "height": 443
        },
        "outputId": "9a23a795-4534-484c-a069-9421aa8ebf41"
      },
      "outputs": [
        {
          "output_type": "execute_result",
          "data": {
            "text/plain": [
              "          ID  LIMIT_BAL  SEX  EDUCATION  MARRIAGE   AGE  PAY_0  PAY_2  PAY_3  \\\n",
              "0          1    20000.0    2          2         1  24.0      2      2     -1   \n",
              "1          2   120000.0    2          2         2  26.0     -1      2      0   \n",
              "2          3    90000.0    2          2         2  34.0      0      0      0   \n",
              "3          4    50000.0    2          2         1  34.0      0      0      0   \n",
              "4          5    50000.0    1          2         1  57.0     -1      0     -1   \n",
              "...      ...        ...  ...        ...       ...   ...    ...    ...    ...   \n",
              "29995  29996   220000.0    1          3         1  39.0      0      0      0   \n",
              "29996  29997   150000.0    1          3         2  43.0     -1     -1     -1   \n",
              "29997  29998    30000.0    1          2         2  37.0      4      3      2   \n",
              "29998  29999    80000.0    1          3         1  41.0      1     -1      0   \n",
              "29999  30000    50000.0    1          2         1  46.0      0      0      0   \n",
              "\n",
              "       PAY_4  ...  BILL_AMT3  BILL_AMT4  BILL_AMT5  BILL_AMT6  PAY_AMT1  \\\n",
              "0         -1  ...      689.0        0.0        0.0        0.0       0.0   \n",
              "1          0  ...     2682.0     3272.0     3455.0     3261.0       0.0   \n",
              "2          0  ...    13559.0    14331.0    14948.0    15549.0    1518.0   \n",
              "3          0  ...    49291.0    28314.0    28959.0    29547.0    2000.0   \n",
              "4          0  ...    35835.0    20940.0    19146.0    19131.0    2000.0   \n",
              "...      ...  ...        ...        ...        ...        ...       ...   \n",
              "29995      0  ...   208365.0    88004.0    31237.0    15980.0    8500.0   \n",
              "29996     -1  ...     3502.0     8979.0     5190.0        0.0    1837.0   \n",
              "29997     -1  ...     2758.0    20878.0    20582.0    19357.0       0.0   \n",
              "29998      0  ...    76304.0    52774.0    11855.0    48944.0   85900.0   \n",
              "29999      0  ...    49764.0    36535.0    32428.0    15313.0    2078.0   \n",
              "\n",
              "       PAY_AMT2  PAY_AMT3  PAY_AMT4  PAY_AMT5  PAY_AMT6  \n",
              "0         689.0       0.0       0.0       0.0       0.0  \n",
              "1        1000.0    1000.0    1000.0       0.0    2000.0  \n",
              "2        1500.0    1000.0    1000.0    1000.0    5000.0  \n",
              "3        2018.0    1200.0    1100.0    1069.0    1000.0  \n",
              "4       36681.0   10000.0    9000.0     689.0     679.0  \n",
              "...         ...       ...       ...       ...       ...  \n",
              "29995   20000.0    5003.0    3047.0    5000.0    1000.0  \n",
              "29996    3526.0    8998.0     129.0       0.0       0.0  \n",
              "29997       0.0   22000.0    4200.0    2000.0    3100.0  \n",
              "29998    3409.0    1178.0    1926.0   52964.0    1804.0  \n",
              "29999    1800.0    1430.0    1000.0    1000.0    1000.0  \n",
              "\n",
              "[30000 rows x 24 columns]"
            ],
            "text/html": [
              "\n",
              "  <div id=\"df-c5129c7e-0402-4f82-9fbf-bbb58535ad88\" class=\"colab-df-container\">\n",
              "    <div>\n",
              "<style scoped>\n",
              "    .dataframe tbody tr th:only-of-type {\n",
              "        vertical-align: middle;\n",
              "    }\n",
              "\n",
              "    .dataframe tbody tr th {\n",
              "        vertical-align: top;\n",
              "    }\n",
              "\n",
              "    .dataframe thead th {\n",
              "        text-align: right;\n",
              "    }\n",
              "</style>\n",
              "<table border=\"1\" class=\"dataframe\">\n",
              "  <thead>\n",
              "    <tr style=\"text-align: right;\">\n",
              "      <th></th>\n",
              "      <th>ID</th>\n",
              "      <th>LIMIT_BAL</th>\n",
              "      <th>SEX</th>\n",
              "      <th>EDUCATION</th>\n",
              "      <th>MARRIAGE</th>\n",
              "      <th>AGE</th>\n",
              "      <th>PAY_0</th>\n",
              "      <th>PAY_2</th>\n",
              "      <th>PAY_3</th>\n",
              "      <th>PAY_4</th>\n",
              "      <th>...</th>\n",
              "      <th>BILL_AMT3</th>\n",
              "      <th>BILL_AMT4</th>\n",
              "      <th>BILL_AMT5</th>\n",
              "      <th>BILL_AMT6</th>\n",
              "      <th>PAY_AMT1</th>\n",
              "      <th>PAY_AMT2</th>\n",
              "      <th>PAY_AMT3</th>\n",
              "      <th>PAY_AMT4</th>\n",
              "      <th>PAY_AMT5</th>\n",
              "      <th>PAY_AMT6</th>\n",
              "    </tr>\n",
              "  </thead>\n",
              "  <tbody>\n",
              "    <tr>\n",
              "      <th>0</th>\n",
              "      <td>1</td>\n",
              "      <td>20000.0</td>\n",
              "      <td>2</td>\n",
              "      <td>2</td>\n",
              "      <td>1</td>\n",
              "      <td>24.0</td>\n",
              "      <td>2</td>\n",
              "      <td>2</td>\n",
              "      <td>-1</td>\n",
              "      <td>-1</td>\n",
              "      <td>...</td>\n",
              "      <td>689.0</td>\n",
              "      <td>0.0</td>\n",
              "      <td>0.0</td>\n",
              "      <td>0.0</td>\n",
              "      <td>0.0</td>\n",
              "      <td>689.0</td>\n",
              "      <td>0.0</td>\n",
              "      <td>0.0</td>\n",
              "      <td>0.0</td>\n",
              "      <td>0.0</td>\n",
              "    </tr>\n",
              "    <tr>\n",
              "      <th>1</th>\n",
              "      <td>2</td>\n",
              "      <td>120000.0</td>\n",
              "      <td>2</td>\n",
              "      <td>2</td>\n",
              "      <td>2</td>\n",
              "      <td>26.0</td>\n",
              "      <td>-1</td>\n",
              "      <td>2</td>\n",
              "      <td>0</td>\n",
              "      <td>0</td>\n",
              "      <td>...</td>\n",
              "      <td>2682.0</td>\n",
              "      <td>3272.0</td>\n",
              "      <td>3455.0</td>\n",
              "      <td>3261.0</td>\n",
              "      <td>0.0</td>\n",
              "      <td>1000.0</td>\n",
              "      <td>1000.0</td>\n",
              "      <td>1000.0</td>\n",
              "      <td>0.0</td>\n",
              "      <td>2000.0</td>\n",
              "    </tr>\n",
              "    <tr>\n",
              "      <th>2</th>\n",
              "      <td>3</td>\n",
              "      <td>90000.0</td>\n",
              "      <td>2</td>\n",
              "      <td>2</td>\n",
              "      <td>2</td>\n",
              "      <td>34.0</td>\n",
              "      <td>0</td>\n",
              "      <td>0</td>\n",
              "      <td>0</td>\n",
              "      <td>0</td>\n",
              "      <td>...</td>\n",
              "      <td>13559.0</td>\n",
              "      <td>14331.0</td>\n",
              "      <td>14948.0</td>\n",
              "      <td>15549.0</td>\n",
              "      <td>1518.0</td>\n",
              "      <td>1500.0</td>\n",
              "      <td>1000.0</td>\n",
              "      <td>1000.0</td>\n",
              "      <td>1000.0</td>\n",
              "      <td>5000.0</td>\n",
              "    </tr>\n",
              "    <tr>\n",
              "      <th>3</th>\n",
              "      <td>4</td>\n",
              "      <td>50000.0</td>\n",
              "      <td>2</td>\n",
              "      <td>2</td>\n",
              "      <td>1</td>\n",
              "      <td>34.0</td>\n",
              "      <td>0</td>\n",
              "      <td>0</td>\n",
              "      <td>0</td>\n",
              "      <td>0</td>\n",
              "      <td>...</td>\n",
              "      <td>49291.0</td>\n",
              "      <td>28314.0</td>\n",
              "      <td>28959.0</td>\n",
              "      <td>29547.0</td>\n",
              "      <td>2000.0</td>\n",
              "      <td>2018.0</td>\n",
              "      <td>1200.0</td>\n",
              "      <td>1100.0</td>\n",
              "      <td>1069.0</td>\n",
              "      <td>1000.0</td>\n",
              "    </tr>\n",
              "    <tr>\n",
              "      <th>4</th>\n",
              "      <td>5</td>\n",
              "      <td>50000.0</td>\n",
              "      <td>1</td>\n",
              "      <td>2</td>\n",
              "      <td>1</td>\n",
              "      <td>57.0</td>\n",
              "      <td>-1</td>\n",
              "      <td>0</td>\n",
              "      <td>-1</td>\n",
              "      <td>0</td>\n",
              "      <td>...</td>\n",
              "      <td>35835.0</td>\n",
              "      <td>20940.0</td>\n",
              "      <td>19146.0</td>\n",
              "      <td>19131.0</td>\n",
              "      <td>2000.0</td>\n",
              "      <td>36681.0</td>\n",
              "      <td>10000.0</td>\n",
              "      <td>9000.0</td>\n",
              "      <td>689.0</td>\n",
              "      <td>679.0</td>\n",
              "    </tr>\n",
              "    <tr>\n",
              "      <th>...</th>\n",
              "      <td>...</td>\n",
              "      <td>...</td>\n",
              "      <td>...</td>\n",
              "      <td>...</td>\n",
              "      <td>...</td>\n",
              "      <td>...</td>\n",
              "      <td>...</td>\n",
              "      <td>...</td>\n",
              "      <td>...</td>\n",
              "      <td>...</td>\n",
              "      <td>...</td>\n",
              "      <td>...</td>\n",
              "      <td>...</td>\n",
              "      <td>...</td>\n",
              "      <td>...</td>\n",
              "      <td>...</td>\n",
              "      <td>...</td>\n",
              "      <td>...</td>\n",
              "      <td>...</td>\n",
              "      <td>...</td>\n",
              "      <td>...</td>\n",
              "    </tr>\n",
              "    <tr>\n",
              "      <th>29995</th>\n",
              "      <td>29996</td>\n",
              "      <td>220000.0</td>\n",
              "      <td>1</td>\n",
              "      <td>3</td>\n",
              "      <td>1</td>\n",
              "      <td>39.0</td>\n",
              "      <td>0</td>\n",
              "      <td>0</td>\n",
              "      <td>0</td>\n",
              "      <td>0</td>\n",
              "      <td>...</td>\n",
              "      <td>208365.0</td>\n",
              "      <td>88004.0</td>\n",
              "      <td>31237.0</td>\n",
              "      <td>15980.0</td>\n",
              "      <td>8500.0</td>\n",
              "      <td>20000.0</td>\n",
              "      <td>5003.0</td>\n",
              "      <td>3047.0</td>\n",
              "      <td>5000.0</td>\n",
              "      <td>1000.0</td>\n",
              "    </tr>\n",
              "    <tr>\n",
              "      <th>29996</th>\n",
              "      <td>29997</td>\n",
              "      <td>150000.0</td>\n",
              "      <td>1</td>\n",
              "      <td>3</td>\n",
              "      <td>2</td>\n",
              "      <td>43.0</td>\n",
              "      <td>-1</td>\n",
              "      <td>-1</td>\n",
              "      <td>-1</td>\n",
              "      <td>-1</td>\n",
              "      <td>...</td>\n",
              "      <td>3502.0</td>\n",
              "      <td>8979.0</td>\n",
              "      <td>5190.0</td>\n",
              "      <td>0.0</td>\n",
              "      <td>1837.0</td>\n",
              "      <td>3526.0</td>\n",
              "      <td>8998.0</td>\n",
              "      <td>129.0</td>\n",
              "      <td>0.0</td>\n",
              "      <td>0.0</td>\n",
              "    </tr>\n",
              "    <tr>\n",
              "      <th>29997</th>\n",
              "      <td>29998</td>\n",
              "      <td>30000.0</td>\n",
              "      <td>1</td>\n",
              "      <td>2</td>\n",
              "      <td>2</td>\n",
              "      <td>37.0</td>\n",
              "      <td>4</td>\n",
              "      <td>3</td>\n",
              "      <td>2</td>\n",
              "      <td>-1</td>\n",
              "      <td>...</td>\n",
              "      <td>2758.0</td>\n",
              "      <td>20878.0</td>\n",
              "      <td>20582.0</td>\n",
              "      <td>19357.0</td>\n",
              "      <td>0.0</td>\n",
              "      <td>0.0</td>\n",
              "      <td>22000.0</td>\n",
              "      <td>4200.0</td>\n",
              "      <td>2000.0</td>\n",
              "      <td>3100.0</td>\n",
              "    </tr>\n",
              "    <tr>\n",
              "      <th>29998</th>\n",
              "      <td>29999</td>\n",
              "      <td>80000.0</td>\n",
              "      <td>1</td>\n",
              "      <td>3</td>\n",
              "      <td>1</td>\n",
              "      <td>41.0</td>\n",
              "      <td>1</td>\n",
              "      <td>-1</td>\n",
              "      <td>0</td>\n",
              "      <td>0</td>\n",
              "      <td>...</td>\n",
              "      <td>76304.0</td>\n",
              "      <td>52774.0</td>\n",
              "      <td>11855.0</td>\n",
              "      <td>48944.0</td>\n",
              "      <td>85900.0</td>\n",
              "      <td>3409.0</td>\n",
              "      <td>1178.0</td>\n",
              "      <td>1926.0</td>\n",
              "      <td>52964.0</td>\n",
              "      <td>1804.0</td>\n",
              "    </tr>\n",
              "    <tr>\n",
              "      <th>29999</th>\n",
              "      <td>30000</td>\n",
              "      <td>50000.0</td>\n",
              "      <td>1</td>\n",
              "      <td>2</td>\n",
              "      <td>1</td>\n",
              "      <td>46.0</td>\n",
              "      <td>0</td>\n",
              "      <td>0</td>\n",
              "      <td>0</td>\n",
              "      <td>0</td>\n",
              "      <td>...</td>\n",
              "      <td>49764.0</td>\n",
              "      <td>36535.0</td>\n",
              "      <td>32428.0</td>\n",
              "      <td>15313.0</td>\n",
              "      <td>2078.0</td>\n",
              "      <td>1800.0</td>\n",
              "      <td>1430.0</td>\n",
              "      <td>1000.0</td>\n",
              "      <td>1000.0</td>\n",
              "      <td>1000.0</td>\n",
              "    </tr>\n",
              "  </tbody>\n",
              "</table>\n",
              "<p>30000 rows × 24 columns</p>\n",
              "</div>\n",
              "    <div class=\"colab-df-buttons\">\n",
              "\n",
              "  <div class=\"colab-df-container\">\n",
              "    <button class=\"colab-df-convert\" onclick=\"convertToInteractive('df-c5129c7e-0402-4f82-9fbf-bbb58535ad88')\"\n",
              "            title=\"Convert this dataframe to an interactive table.\"\n",
              "            style=\"display:none;\">\n",
              "\n",
              "  <svg xmlns=\"http://www.w3.org/2000/svg\" height=\"24px\" viewBox=\"0 -960 960 960\">\n",
              "    <path d=\"M120-120v-720h720v720H120Zm60-500h600v-160H180v160Zm220 220h160v-160H400v160Zm0 220h160v-160H400v160ZM180-400h160v-160H180v160Zm440 0h160v-160H620v160ZM180-180h160v-160H180v160Zm440 0h160v-160H620v160Z\"/>\n",
              "  </svg>\n",
              "    </button>\n",
              "\n",
              "  <style>\n",
              "    .colab-df-container {\n",
              "      display:flex;\n",
              "      gap: 12px;\n",
              "    }\n",
              "\n",
              "    .colab-df-convert {\n",
              "      background-color: #E8F0FE;\n",
              "      border: none;\n",
              "      border-radius: 50%;\n",
              "      cursor: pointer;\n",
              "      display: none;\n",
              "      fill: #1967D2;\n",
              "      height: 32px;\n",
              "      padding: 0 0 0 0;\n",
              "      width: 32px;\n",
              "    }\n",
              "\n",
              "    .colab-df-convert:hover {\n",
              "      background-color: #E2EBFA;\n",
              "      box-shadow: 0px 1px 2px rgba(60, 64, 67, 0.3), 0px 1px 3px 1px rgba(60, 64, 67, 0.15);\n",
              "      fill: #174EA6;\n",
              "    }\n",
              "\n",
              "    .colab-df-buttons div {\n",
              "      margin-bottom: 4px;\n",
              "    }\n",
              "\n",
              "    [theme=dark] .colab-df-convert {\n",
              "      background-color: #3B4455;\n",
              "      fill: #D2E3FC;\n",
              "    }\n",
              "\n",
              "    [theme=dark] .colab-df-convert:hover {\n",
              "      background-color: #434B5C;\n",
              "      box-shadow: 0px 1px 3px 1px rgba(0, 0, 0, 0.15);\n",
              "      filter: drop-shadow(0px 1px 2px rgba(0, 0, 0, 0.3));\n",
              "      fill: #FFFFFF;\n",
              "    }\n",
              "  </style>\n",
              "\n",
              "    <script>\n",
              "      const buttonEl =\n",
              "        document.querySelector('#df-c5129c7e-0402-4f82-9fbf-bbb58535ad88 button.colab-df-convert');\n",
              "      buttonEl.style.display =\n",
              "        google.colab.kernel.accessAllowed ? 'block' : 'none';\n",
              "\n",
              "      async function convertToInteractive(key) {\n",
              "        const element = document.querySelector('#df-c5129c7e-0402-4f82-9fbf-bbb58535ad88');\n",
              "        const dataTable =\n",
              "          await google.colab.kernel.invokeFunction('convertToInteractive',\n",
              "                                                    [key], {});\n",
              "        if (!dataTable) return;\n",
              "\n",
              "        const docLinkHtml = 'Like what you see? Visit the ' +\n",
              "          '<a target=\"_blank\" href=https://colab.research.google.com/notebooks/data_table.ipynb>data table notebook</a>'\n",
              "          + ' to learn more about interactive tables.';\n",
              "        element.innerHTML = '';\n",
              "        dataTable['output_type'] = 'display_data';\n",
              "        await google.colab.output.renderOutput(dataTable, element);\n",
              "        const docLink = document.createElement('div');\n",
              "        docLink.innerHTML = docLinkHtml;\n",
              "        element.appendChild(docLink);\n",
              "      }\n",
              "    </script>\n",
              "  </div>\n",
              "\n",
              "\n",
              "<div id=\"df-aa5166e8-245a-4142-a4b9-51185dd28fbc\">\n",
              "  <button class=\"colab-df-quickchart\" onclick=\"quickchart('df-aa5166e8-245a-4142-a4b9-51185dd28fbc')\"\n",
              "            title=\"Suggest charts.\"\n",
              "            style=\"display:none;\">\n",
              "\n",
              "<svg xmlns=\"http://www.w3.org/2000/svg\" height=\"24px\"viewBox=\"0 0 24 24\"\n",
              "     width=\"24px\">\n",
              "    <g>\n",
              "        <path d=\"M19 3H5c-1.1 0-2 .9-2 2v14c0 1.1.9 2 2 2h14c1.1 0 2-.9 2-2V5c0-1.1-.9-2-2-2zM9 17H7v-7h2v7zm4 0h-2V7h2v10zm4 0h-2v-4h2v4z\"/>\n",
              "    </g>\n",
              "</svg>\n",
              "  </button>\n",
              "\n",
              "<style>\n",
              "  .colab-df-quickchart {\n",
              "    background-color: #E8F0FE;\n",
              "    border: none;\n",
              "    border-radius: 50%;\n",
              "    cursor: pointer;\n",
              "    display: none;\n",
              "    fill: #1967D2;\n",
              "    height: 32px;\n",
              "    padding: 0 0 0 0;\n",
              "    width: 32px;\n",
              "  }\n",
              "\n",
              "  .colab-df-quickchart:hover {\n",
              "    background-color: #E2EBFA;\n",
              "    box-shadow: 0px 1px 2px rgba(60, 64, 67, 0.3), 0px 1px 3px 1px rgba(60, 64, 67, 0.15);\n",
              "    fill: #174EA6;\n",
              "  }\n",
              "\n",
              "  [theme=dark] .colab-df-quickchart {\n",
              "    background-color: #3B4455;\n",
              "    fill: #D2E3FC;\n",
              "  }\n",
              "\n",
              "  [theme=dark] .colab-df-quickchart:hover {\n",
              "    background-color: #434B5C;\n",
              "    box-shadow: 0px 1px 3px 1px rgba(0, 0, 0, 0.15);\n",
              "    filter: drop-shadow(0px 1px 2px rgba(0, 0, 0, 0.3));\n",
              "    fill: #FFFFFF;\n",
              "  }\n",
              "</style>\n",
              "\n",
              "  <script>\n",
              "    async function quickchart(key) {\n",
              "      const charts = await google.colab.kernel.invokeFunction(\n",
              "          'suggestCharts', [key], {});\n",
              "    }\n",
              "    (() => {\n",
              "      let quickchartButtonEl =\n",
              "        document.querySelector('#df-aa5166e8-245a-4142-a4b9-51185dd28fbc button');\n",
              "      quickchartButtonEl.style.display =\n",
              "        google.colab.kernel.accessAllowed ? 'block' : 'none';\n",
              "    })();\n",
              "  </script>\n",
              "</div>\n",
              "    </div>\n",
              "  </div>\n"
            ]
          },
          "metadata": {},
          "execution_count": 13
        }
      ],
      "source": [
        "X"
      ]
    },
    {
      "cell_type": "code",
      "execution_count": 14,
      "metadata": {
        "id": "us1A5seehG98"
      },
      "outputs": [],
      "source": [
        "y= df['default.payment.next.month']"
      ]
    },
    {
      "cell_type": "code",
      "execution_count": 15,
      "metadata": {
        "id": "gJQ_luNDhG99",
        "colab": {
          "base_uri": "https://localhost:8080/"
        },
        "outputId": "95985651-31d2-4a51-fee7-08b260d64138"
      },
      "outputs": [
        {
          "output_type": "execute_result",
          "data": {
            "text/plain": [
              "0        1\n",
              "1        1\n",
              "2        0\n",
              "3        0\n",
              "4        0\n",
              "        ..\n",
              "29995    0\n",
              "29996    0\n",
              "29997    1\n",
              "29998    1\n",
              "29999    1\n",
              "Name: default.payment.next.month, Length: 30000, dtype: int64"
            ]
          },
          "metadata": {},
          "execution_count": 15
        }
      ],
      "source": [
        "y"
      ]
    },
    {
      "cell_type": "code",
      "execution_count": 16,
      "metadata": {
        "id": "X70joZnVhG9-"
      },
      "outputs": [],
      "source": [
        "#Dataset splitting\n",
        "from sklearn.model_selection import train_test_split\n",
        "X_train,X_test,y_train,y_test=train_test_split(X,y,test_size=.30,random_state=1)"
      ]
    },
    {
      "cell_type": "code",
      "execution_count": 17,
      "metadata": {
        "id": "yleMUBmZhG9_",
        "colab": {
          "base_uri": "https://localhost:8080/",
          "height": 74
        },
        "outputId": "82713751-961f-4316-d345-1dd9f535747a"
      },
      "outputs": [
        {
          "output_type": "execute_result",
          "data": {
            "text/plain": [
              "SVC(gamma='auto')"
            ],
            "text/html": [
              "<style>#sk-container-id-1 {color: black;background-color: white;}#sk-container-id-1 pre{padding: 0;}#sk-container-id-1 div.sk-toggleable {background-color: white;}#sk-container-id-1 label.sk-toggleable__label {cursor: pointer;display: block;width: 100%;margin-bottom: 0;padding: 0.3em;box-sizing: border-box;text-align: center;}#sk-container-id-1 label.sk-toggleable__label-arrow:before {content: \"▸\";float: left;margin-right: 0.25em;color: #696969;}#sk-container-id-1 label.sk-toggleable__label-arrow:hover:before {color: black;}#sk-container-id-1 div.sk-estimator:hover label.sk-toggleable__label-arrow:before {color: black;}#sk-container-id-1 div.sk-toggleable__content {max-height: 0;max-width: 0;overflow: hidden;text-align: left;background-color: #f0f8ff;}#sk-container-id-1 div.sk-toggleable__content pre {margin: 0.2em;color: black;border-radius: 0.25em;background-color: #f0f8ff;}#sk-container-id-1 input.sk-toggleable__control:checked~div.sk-toggleable__content {max-height: 200px;max-width: 100%;overflow: auto;}#sk-container-id-1 input.sk-toggleable__control:checked~label.sk-toggleable__label-arrow:before {content: \"▾\";}#sk-container-id-1 div.sk-estimator input.sk-toggleable__control:checked~label.sk-toggleable__label {background-color: #d4ebff;}#sk-container-id-1 div.sk-label input.sk-toggleable__control:checked~label.sk-toggleable__label {background-color: #d4ebff;}#sk-container-id-1 input.sk-hidden--visually {border: 0;clip: rect(1px 1px 1px 1px);clip: rect(1px, 1px, 1px, 1px);height: 1px;margin: -1px;overflow: hidden;padding: 0;position: absolute;width: 1px;}#sk-container-id-1 div.sk-estimator {font-family: monospace;background-color: #f0f8ff;border: 1px dotted black;border-radius: 0.25em;box-sizing: border-box;margin-bottom: 0.5em;}#sk-container-id-1 div.sk-estimator:hover {background-color: #d4ebff;}#sk-container-id-1 div.sk-parallel-item::after {content: \"\";width: 100%;border-bottom: 1px solid gray;flex-grow: 1;}#sk-container-id-1 div.sk-label:hover label.sk-toggleable__label {background-color: #d4ebff;}#sk-container-id-1 div.sk-serial::before {content: \"\";position: absolute;border-left: 1px solid gray;box-sizing: border-box;top: 0;bottom: 0;left: 50%;z-index: 0;}#sk-container-id-1 div.sk-serial {display: flex;flex-direction: column;align-items: center;background-color: white;padding-right: 0.2em;padding-left: 0.2em;position: relative;}#sk-container-id-1 div.sk-item {position: relative;z-index: 1;}#sk-container-id-1 div.sk-parallel {display: flex;align-items: stretch;justify-content: center;background-color: white;position: relative;}#sk-container-id-1 div.sk-item::before, #sk-container-id-1 div.sk-parallel-item::before {content: \"\";position: absolute;border-left: 1px solid gray;box-sizing: border-box;top: 0;bottom: 0;left: 50%;z-index: -1;}#sk-container-id-1 div.sk-parallel-item {display: flex;flex-direction: column;z-index: 1;position: relative;background-color: white;}#sk-container-id-1 div.sk-parallel-item:first-child::after {align-self: flex-end;width: 50%;}#sk-container-id-1 div.sk-parallel-item:last-child::after {align-self: flex-start;width: 50%;}#sk-container-id-1 div.sk-parallel-item:only-child::after {width: 0;}#sk-container-id-1 div.sk-dashed-wrapped {border: 1px dashed gray;margin: 0 0.4em 0.5em 0.4em;box-sizing: border-box;padding-bottom: 0.4em;background-color: white;}#sk-container-id-1 div.sk-label label {font-family: monospace;font-weight: bold;display: inline-block;line-height: 1.2em;}#sk-container-id-1 div.sk-label-container {text-align: center;}#sk-container-id-1 div.sk-container {/* jupyter's `normalize.less` sets `[hidden] { display: none; }` but bootstrap.min.css set `[hidden] { display: none !important; }` so we also need the `!important` here to be able to override the default hidden behavior on the sphinx rendered scikit-learn.org. See: https://github.com/scikit-learn/scikit-learn/issues/21755 */display: inline-block !important;position: relative;}#sk-container-id-1 div.sk-text-repr-fallback {display: none;}</style><div id=\"sk-container-id-1\" class=\"sk-top-container\"><div class=\"sk-text-repr-fallback\"><pre>SVC(gamma=&#x27;auto&#x27;)</pre><b>In a Jupyter environment, please rerun this cell to show the HTML representation or trust the notebook. <br />On GitHub, the HTML representation is unable to render, please try loading this page with nbviewer.org.</b></div><div class=\"sk-container\" hidden><div class=\"sk-item\"><div class=\"sk-estimator sk-toggleable\"><input class=\"sk-toggleable__control sk-hidden--visually\" id=\"sk-estimator-id-1\" type=\"checkbox\" checked><label for=\"sk-estimator-id-1\" class=\"sk-toggleable__label sk-toggleable__label-arrow\">SVC</label><div class=\"sk-toggleable__content\"><pre>SVC(gamma=&#x27;auto&#x27;)</pre></div></div></div></div></div>"
            ]
          },
          "metadata": {},
          "execution_count": 17
        }
      ],
      "source": [
        "#Train Model\n",
        "import seaborn\n",
        "from sklearn.svm import SVC\n",
        "r=SVC(gamma='auto')\n",
        "r.fit(X_train, y_train)"
      ]
    },
    {
      "cell_type": "code",
      "execution_count": 18,
      "metadata": {
        "id": "6wAuWzrdhG-A"
      },
      "outputs": [],
      "source": [
        "#predict\n",
        "pred2= r.predict(X_test)"
      ]
    },
    {
      "cell_type": "code",
      "execution_count": 19,
      "metadata": {
        "id": "APhmOjavhG-B",
        "colab": {
          "base_uri": "https://localhost:8080/"
        },
        "outputId": "0b03745e-907f-4044-c78f-6c4f9ad61ccd"
      },
      "outputs": [
        {
          "output_type": "execute_result",
          "data": {
            "text/plain": [
              "0.7777777777777778"
            ]
          },
          "metadata": {},
          "execution_count": 19
        }
      ],
      "source": [
        "r.score(X_test,y_test)"
      ]
    },
    {
      "cell_type": "code",
      "execution_count": 20,
      "metadata": {
        "id": "g7uOwgSJhG-B",
        "colab": {
          "base_uri": "https://localhost:8080/"
        },
        "outputId": "7982a6eb-4260-41dd-f461-21e1d480b472"
      },
      "outputs": [
        {
          "output_type": "execute_result",
          "data": {
            "text/plain": [
              "0.7777777777777778"
            ]
          },
          "metadata": {},
          "execution_count": 20
        }
      ],
      "source": [
        "from sklearn.metrics import accuracy_score,confusion_matrix\n",
        "from sklearn.metrics import classification_report\n",
        "accuracy_score(y_test,pred2)"
      ]
    },
    {
      "cell_type": "code",
      "execution_count": 21,
      "metadata": {
        "id": "5cbj_j4XhG-C",
        "colab": {
          "base_uri": "https://localhost:8080/"
        },
        "outputId": "ea96a7b0-0d5e-4f1a-b04b-39eb07ef5bd3"
      },
      "outputs": [
        {
          "output_type": "execute_result",
          "data": {
            "text/plain": [
              "array([[7000,    0],\n",
              "       [2000,    0]])"
            ]
          },
          "metadata": {},
          "execution_count": 21
        }
      ],
      "source": [
        "confusion_matrix(y_test,pred2)"
      ]
    },
    {
      "cell_type": "code",
      "execution_count": 22,
      "metadata": {
        "id": "sPsd81SZhG-C",
        "colab": {
          "base_uri": "https://localhost:8080/",
          "height": 229
        },
        "outputId": "e889c7cc-cd06-4ed9-a758-691df66204ed"
      },
      "outputs": [
        {
          "output_type": "stream",
          "name": "stderr",
          "text": [
            "/usr/local/lib/python3.10/dist-packages/sklearn/metrics/_classification.py:1344: UndefinedMetricWarning: Precision and F-score are ill-defined and being set to 0.0 in labels with no predicted samples. Use `zero_division` parameter to control this behavior.\n",
            "  _warn_prf(average, modifier, msg_start, len(result))\n",
            "/usr/local/lib/python3.10/dist-packages/sklearn/metrics/_classification.py:1344: UndefinedMetricWarning: Precision and F-score are ill-defined and being set to 0.0 in labels with no predicted samples. Use `zero_division` parameter to control this behavior.\n",
            "  _warn_prf(average, modifier, msg_start, len(result))\n",
            "/usr/local/lib/python3.10/dist-packages/sklearn/metrics/_classification.py:1344: UndefinedMetricWarning: Precision and F-score are ill-defined and being set to 0.0 in labels with no predicted samples. Use `zero_division` parameter to control this behavior.\n",
            "  _warn_prf(average, modifier, msg_start, len(result))\n"
          ]
        },
        {
          "output_type": "execute_result",
          "data": {
            "text/plain": [
              "'              precision    recall  f1-score   support\\n\\n           0       0.78      1.00      0.88      7000\\n           1       0.00      0.00      0.00      2000\\n\\n    accuracy                           0.78      9000\\n   macro avg       0.39      0.50      0.44      9000\\nweighted avg       0.60      0.78      0.68      9000\\n'"
            ],
            "application/vnd.google.colaboratory.intrinsic+json": {
              "type": "string"
            }
          },
          "metadata": {},
          "execution_count": 22
        }
      ],
      "source": [
        "classification_report(y_test,pred2)"
      ]
    },
    {
      "cell_type": "code",
      "execution_count": 23,
      "metadata": {
        "id": "Vl-aPPqrhG-D",
        "colab": {
          "base_uri": "https://localhost:8080/"
        },
        "outputId": "2121f3f2-923d-47eb-9216-93d55d44cf0f"
      },
      "outputs": [
        {
          "output_type": "stream",
          "name": "stdout",
          "text": [
            "              precision    recall  f1-score   support\n",
            "\n",
            "           0       0.78      1.00      0.88      7000\n",
            "           1       0.00      0.00      0.00      2000\n",
            "\n",
            "    accuracy                           0.78      9000\n",
            "   macro avg       0.39      0.50      0.44      9000\n",
            "weighted avg       0.60      0.78      0.68      9000\n",
            "\n"
          ]
        },
        {
          "output_type": "stream",
          "name": "stderr",
          "text": [
            "/usr/local/lib/python3.10/dist-packages/sklearn/metrics/_classification.py:1344: UndefinedMetricWarning: Precision and F-score are ill-defined and being set to 0.0 in labels with no predicted samples. Use `zero_division` parameter to control this behavior.\n",
            "  _warn_prf(average, modifier, msg_start, len(result))\n",
            "/usr/local/lib/python3.10/dist-packages/sklearn/metrics/_classification.py:1344: UndefinedMetricWarning: Precision and F-score are ill-defined and being set to 0.0 in labels with no predicted samples. Use `zero_division` parameter to control this behavior.\n",
            "  _warn_prf(average, modifier, msg_start, len(result))\n",
            "/usr/local/lib/python3.10/dist-packages/sklearn/metrics/_classification.py:1344: UndefinedMetricWarning: Precision and F-score are ill-defined and being set to 0.0 in labels with no predicted samples. Use `zero_division` parameter to control this behavior.\n",
            "  _warn_prf(average, modifier, msg_start, len(result))\n"
          ]
        }
      ],
      "source": [
        "print(classification_report(y_test,pred2))"
      ]
    },
    {
      "cell_type": "code",
      "execution_count": 24,
      "metadata": {
        "id": "XUl2gyQWhG-D",
        "colab": {
          "base_uri": "https://localhost:8080/",
          "height": 74
        },
        "outputId": "a9a8a513-392a-4eb9-dd7c-11ef460f612b"
      },
      "outputs": [
        {
          "output_type": "execute_result",
          "data": {
            "text/plain": [
              "RandomForestClassifier(n_estimators=50)"
            ],
            "text/html": [
              "<style>#sk-container-id-2 {color: black;background-color: white;}#sk-container-id-2 pre{padding: 0;}#sk-container-id-2 div.sk-toggleable {background-color: white;}#sk-container-id-2 label.sk-toggleable__label {cursor: pointer;display: block;width: 100%;margin-bottom: 0;padding: 0.3em;box-sizing: border-box;text-align: center;}#sk-container-id-2 label.sk-toggleable__label-arrow:before {content: \"▸\";float: left;margin-right: 0.25em;color: #696969;}#sk-container-id-2 label.sk-toggleable__label-arrow:hover:before {color: black;}#sk-container-id-2 div.sk-estimator:hover label.sk-toggleable__label-arrow:before {color: black;}#sk-container-id-2 div.sk-toggleable__content {max-height: 0;max-width: 0;overflow: hidden;text-align: left;background-color: #f0f8ff;}#sk-container-id-2 div.sk-toggleable__content pre {margin: 0.2em;color: black;border-radius: 0.25em;background-color: #f0f8ff;}#sk-container-id-2 input.sk-toggleable__control:checked~div.sk-toggleable__content {max-height: 200px;max-width: 100%;overflow: auto;}#sk-container-id-2 input.sk-toggleable__control:checked~label.sk-toggleable__label-arrow:before {content: \"▾\";}#sk-container-id-2 div.sk-estimator input.sk-toggleable__control:checked~label.sk-toggleable__label {background-color: #d4ebff;}#sk-container-id-2 div.sk-label input.sk-toggleable__control:checked~label.sk-toggleable__label {background-color: #d4ebff;}#sk-container-id-2 input.sk-hidden--visually {border: 0;clip: rect(1px 1px 1px 1px);clip: rect(1px, 1px, 1px, 1px);height: 1px;margin: -1px;overflow: hidden;padding: 0;position: absolute;width: 1px;}#sk-container-id-2 div.sk-estimator {font-family: monospace;background-color: #f0f8ff;border: 1px dotted black;border-radius: 0.25em;box-sizing: border-box;margin-bottom: 0.5em;}#sk-container-id-2 div.sk-estimator:hover {background-color: #d4ebff;}#sk-container-id-2 div.sk-parallel-item::after {content: \"\";width: 100%;border-bottom: 1px solid gray;flex-grow: 1;}#sk-container-id-2 div.sk-label:hover label.sk-toggleable__label {background-color: #d4ebff;}#sk-container-id-2 div.sk-serial::before {content: \"\";position: absolute;border-left: 1px solid gray;box-sizing: border-box;top: 0;bottom: 0;left: 50%;z-index: 0;}#sk-container-id-2 div.sk-serial {display: flex;flex-direction: column;align-items: center;background-color: white;padding-right: 0.2em;padding-left: 0.2em;position: relative;}#sk-container-id-2 div.sk-item {position: relative;z-index: 1;}#sk-container-id-2 div.sk-parallel {display: flex;align-items: stretch;justify-content: center;background-color: white;position: relative;}#sk-container-id-2 div.sk-item::before, #sk-container-id-2 div.sk-parallel-item::before {content: \"\";position: absolute;border-left: 1px solid gray;box-sizing: border-box;top: 0;bottom: 0;left: 50%;z-index: -1;}#sk-container-id-2 div.sk-parallel-item {display: flex;flex-direction: column;z-index: 1;position: relative;background-color: white;}#sk-container-id-2 div.sk-parallel-item:first-child::after {align-self: flex-end;width: 50%;}#sk-container-id-2 div.sk-parallel-item:last-child::after {align-self: flex-start;width: 50%;}#sk-container-id-2 div.sk-parallel-item:only-child::after {width: 0;}#sk-container-id-2 div.sk-dashed-wrapped {border: 1px dashed gray;margin: 0 0.4em 0.5em 0.4em;box-sizing: border-box;padding-bottom: 0.4em;background-color: white;}#sk-container-id-2 div.sk-label label {font-family: monospace;font-weight: bold;display: inline-block;line-height: 1.2em;}#sk-container-id-2 div.sk-label-container {text-align: center;}#sk-container-id-2 div.sk-container {/* jupyter's `normalize.less` sets `[hidden] { display: none; }` but bootstrap.min.css set `[hidden] { display: none !important; }` so we also need the `!important` here to be able to override the default hidden behavior on the sphinx rendered scikit-learn.org. See: https://github.com/scikit-learn/scikit-learn/issues/21755 */display: inline-block !important;position: relative;}#sk-container-id-2 div.sk-text-repr-fallback {display: none;}</style><div id=\"sk-container-id-2\" class=\"sk-top-container\"><div class=\"sk-text-repr-fallback\"><pre>RandomForestClassifier(n_estimators=50)</pre><b>In a Jupyter environment, please rerun this cell to show the HTML representation or trust the notebook. <br />On GitHub, the HTML representation is unable to render, please try loading this page with nbviewer.org.</b></div><div class=\"sk-container\" hidden><div class=\"sk-item\"><div class=\"sk-estimator sk-toggleable\"><input class=\"sk-toggleable__control sk-hidden--visually\" id=\"sk-estimator-id-2\" type=\"checkbox\" checked><label for=\"sk-estimator-id-2\" class=\"sk-toggleable__label sk-toggleable__label-arrow\">RandomForestClassifier</label><div class=\"sk-toggleable__content\"><pre>RandomForestClassifier(n_estimators=50)</pre></div></div></div></div></div>"
            ]
          },
          "metadata": {},
          "execution_count": 24
        }
      ],
      "source": [
        "from sklearn.metrics import accuracy_score,confusion_matrix\n",
        "from sklearn.metrics import classification_report\n",
        "from sklearn.ensemble import RandomForestClassifier\n",
        "\n",
        "rf=RandomForestClassifier(n_estimators=50)\n",
        "rf.fit(X_train, y_train)\n"
      ]
    },
    {
      "cell_type": "code",
      "execution_count": 25,
      "metadata": {
        "id": "JpNNjGMEhG-E",
        "colab": {
          "base_uri": "https://localhost:8080/"
        },
        "outputId": "ef236f7c-2294-479b-920c-9908b8d802d9"
      },
      "outputs": [
        {
          "output_type": "execute_result",
          "data": {
            "text/plain": [
              "0.8126666666666666"
            ]
          },
          "metadata": {},
          "execution_count": 25
        }
      ],
      "source": [
        "pred1 = rf.predict(X_test)\n",
        "rf.score(X_test,y_test)"
      ]
    },
    {
      "cell_type": "code",
      "execution_count": 26,
      "metadata": {
        "id": "iM6KaBxkhG-F",
        "colab": {
          "base_uri": "https://localhost:8080/"
        },
        "outputId": "bd017e54-c3b6-4155-dcd2-571a73aa5f17"
      },
      "outputs": [
        {
          "output_type": "execute_result",
          "data": {
            "text/plain": [
              "0.8126666666666666"
            ]
          },
          "metadata": {},
          "execution_count": 26
        }
      ],
      "source": [
        "accuracy_score(y_test,pred1)"
      ]
    },
    {
      "cell_type": "code",
      "execution_count": 27,
      "metadata": {
        "id": "6LvxB69thG-F",
        "colab": {
          "base_uri": "https://localhost:8080/"
        },
        "outputId": "cae246a8-f2d3-4d05-e552-aed9f9fcb59a"
      },
      "outputs": [
        {
          "output_type": "execute_result",
          "data": {
            "text/plain": [
              "array([[6641,  359],\n",
              "       [1327,  673]])"
            ]
          },
          "metadata": {},
          "execution_count": 27
        }
      ],
      "source": [
        "confusion_matrix(y_test,pred1)"
      ]
    },
    {
      "cell_type": "code",
      "execution_count": 28,
      "metadata": {
        "id": "GCcNNJH2hG-G",
        "colab": {
          "base_uri": "https://localhost:8080/",
          "height": 105
        },
        "outputId": "9260b2e7-d030-42d9-8f7d-f10239e34ce9"
      },
      "outputs": [
        {
          "output_type": "execute_result",
          "data": {
            "text/plain": [
              "'              precision    recall  f1-score   support\\n\\n           0       0.83      0.95      0.89      7000\\n           1       0.65      0.34      0.44      2000\\n\\n    accuracy                           0.81      9000\\n   macro avg       0.74      0.64      0.67      9000\\nweighted avg       0.79      0.81      0.79      9000\\n'"
            ],
            "application/vnd.google.colaboratory.intrinsic+json": {
              "type": "string"
            }
          },
          "metadata": {},
          "execution_count": 28
        }
      ],
      "source": [
        "classification_report(y_test,pred1)"
      ]
    },
    {
      "cell_type": "code",
      "execution_count": 29,
      "metadata": {
        "id": "Gmj9biEUhG-G",
        "colab": {
          "base_uri": "https://localhost:8080/"
        },
        "outputId": "174aa82d-1954-46dc-8d1e-f0a811572188"
      },
      "outputs": [
        {
          "output_type": "stream",
          "name": "stdout",
          "text": [
            "              precision    recall  f1-score   support\n",
            "\n",
            "           0       0.83      0.95      0.89      7000\n",
            "           1       0.65      0.34      0.44      2000\n",
            "\n",
            "    accuracy                           0.81      9000\n",
            "   macro avg       0.74      0.64      0.67      9000\n",
            "weighted avg       0.79      0.81      0.79      9000\n",
            "\n"
          ]
        }
      ],
      "source": [
        "print(classification_report(y_test,pred1))"
      ]
    },
    {
      "cell_type": "code",
      "execution_count": 30,
      "metadata": {
        "id": "d-S6MRLOhG-G",
        "colab": {
          "base_uri": "https://localhost:8080/",
          "height": 74
        },
        "outputId": "f5084bb7-77d6-47fa-d88d-e695cadbe1be"
      },
      "outputs": [
        {
          "output_type": "execute_result",
          "data": {
            "text/plain": [
              "DecisionTreeClassifier()"
            ],
            "text/html": [
              "<style>#sk-container-id-3 {color: black;background-color: white;}#sk-container-id-3 pre{padding: 0;}#sk-container-id-3 div.sk-toggleable {background-color: white;}#sk-container-id-3 label.sk-toggleable__label {cursor: pointer;display: block;width: 100%;margin-bottom: 0;padding: 0.3em;box-sizing: border-box;text-align: center;}#sk-container-id-3 label.sk-toggleable__label-arrow:before {content: \"▸\";float: left;margin-right: 0.25em;color: #696969;}#sk-container-id-3 label.sk-toggleable__label-arrow:hover:before {color: black;}#sk-container-id-3 div.sk-estimator:hover label.sk-toggleable__label-arrow:before {color: black;}#sk-container-id-3 div.sk-toggleable__content {max-height: 0;max-width: 0;overflow: hidden;text-align: left;background-color: #f0f8ff;}#sk-container-id-3 div.sk-toggleable__content pre {margin: 0.2em;color: black;border-radius: 0.25em;background-color: #f0f8ff;}#sk-container-id-3 input.sk-toggleable__control:checked~div.sk-toggleable__content {max-height: 200px;max-width: 100%;overflow: auto;}#sk-container-id-3 input.sk-toggleable__control:checked~label.sk-toggleable__label-arrow:before {content: \"▾\";}#sk-container-id-3 div.sk-estimator input.sk-toggleable__control:checked~label.sk-toggleable__label {background-color: #d4ebff;}#sk-container-id-3 div.sk-label input.sk-toggleable__control:checked~label.sk-toggleable__label {background-color: #d4ebff;}#sk-container-id-3 input.sk-hidden--visually {border: 0;clip: rect(1px 1px 1px 1px);clip: rect(1px, 1px, 1px, 1px);height: 1px;margin: -1px;overflow: hidden;padding: 0;position: absolute;width: 1px;}#sk-container-id-3 div.sk-estimator {font-family: monospace;background-color: #f0f8ff;border: 1px dotted black;border-radius: 0.25em;box-sizing: border-box;margin-bottom: 0.5em;}#sk-container-id-3 div.sk-estimator:hover {background-color: #d4ebff;}#sk-container-id-3 div.sk-parallel-item::after {content: \"\";width: 100%;border-bottom: 1px solid gray;flex-grow: 1;}#sk-container-id-3 div.sk-label:hover label.sk-toggleable__label {background-color: #d4ebff;}#sk-container-id-3 div.sk-serial::before {content: \"\";position: absolute;border-left: 1px solid gray;box-sizing: border-box;top: 0;bottom: 0;left: 50%;z-index: 0;}#sk-container-id-3 div.sk-serial {display: flex;flex-direction: column;align-items: center;background-color: white;padding-right: 0.2em;padding-left: 0.2em;position: relative;}#sk-container-id-3 div.sk-item {position: relative;z-index: 1;}#sk-container-id-3 div.sk-parallel {display: flex;align-items: stretch;justify-content: center;background-color: white;position: relative;}#sk-container-id-3 div.sk-item::before, #sk-container-id-3 div.sk-parallel-item::before {content: \"\";position: absolute;border-left: 1px solid gray;box-sizing: border-box;top: 0;bottom: 0;left: 50%;z-index: -1;}#sk-container-id-3 div.sk-parallel-item {display: flex;flex-direction: column;z-index: 1;position: relative;background-color: white;}#sk-container-id-3 div.sk-parallel-item:first-child::after {align-self: flex-end;width: 50%;}#sk-container-id-3 div.sk-parallel-item:last-child::after {align-self: flex-start;width: 50%;}#sk-container-id-3 div.sk-parallel-item:only-child::after {width: 0;}#sk-container-id-3 div.sk-dashed-wrapped {border: 1px dashed gray;margin: 0 0.4em 0.5em 0.4em;box-sizing: border-box;padding-bottom: 0.4em;background-color: white;}#sk-container-id-3 div.sk-label label {font-family: monospace;font-weight: bold;display: inline-block;line-height: 1.2em;}#sk-container-id-3 div.sk-label-container {text-align: center;}#sk-container-id-3 div.sk-container {/* jupyter's `normalize.less` sets `[hidden] { display: none; }` but bootstrap.min.css set `[hidden] { display: none !important; }` so we also need the `!important` here to be able to override the default hidden behavior on the sphinx rendered scikit-learn.org. See: https://github.com/scikit-learn/scikit-learn/issues/21755 */display: inline-block !important;position: relative;}#sk-container-id-3 div.sk-text-repr-fallback {display: none;}</style><div id=\"sk-container-id-3\" class=\"sk-top-container\"><div class=\"sk-text-repr-fallback\"><pre>DecisionTreeClassifier()</pre><b>In a Jupyter environment, please rerun this cell to show the HTML representation or trust the notebook. <br />On GitHub, the HTML representation is unable to render, please try loading this page with nbviewer.org.</b></div><div class=\"sk-container\" hidden><div class=\"sk-item\"><div class=\"sk-estimator sk-toggleable\"><input class=\"sk-toggleable__control sk-hidden--visually\" id=\"sk-estimator-id-3\" type=\"checkbox\" checked><label for=\"sk-estimator-id-3\" class=\"sk-toggleable__label sk-toggleable__label-arrow\">DecisionTreeClassifier</label><div class=\"sk-toggleable__content\"><pre>DecisionTreeClassifier()</pre></div></div></div></div></div>"
            ]
          },
          "metadata": {},
          "execution_count": 30
        }
      ],
      "source": [
        "from sklearn.tree import DecisionTreeClassifier\n",
        "d = DecisionTreeClassifier()\n",
        "d.fit(X_train, y_train)"
      ]
    },
    {
      "cell_type": "code",
      "execution_count": 31,
      "metadata": {
        "id": "8PR18lPJhG-H",
        "colab": {
          "base_uri": "https://localhost:8080/"
        },
        "outputId": "b84532fb-a386-485d-9e8e-93c3ee747c89"
      },
      "outputs": [
        {
          "output_type": "execute_result",
          "data": {
            "text/plain": [
              "0.723"
            ]
          },
          "metadata": {},
          "execution_count": 31
        }
      ],
      "source": [
        "pred=d.predict(X_test)\n",
        "d.score(X_test,y_test)"
      ]
    },
    {
      "cell_type": "code",
      "execution_count": 32,
      "metadata": {
        "id": "YvTVG1dAhG-H"
      },
      "outputs": [],
      "source": [
        "from sklearn.metrics import accuracy_score,confusion_matrix\n",
        "from sklearn.metrics import classification_report"
      ]
    },
    {
      "cell_type": "code",
      "execution_count": 33,
      "metadata": {
        "id": "E6nwkJQchG-I",
        "colab": {
          "base_uri": "https://localhost:8080/"
        },
        "outputId": "2d0e6ca0-1472-4eb6-b7f3-351ce8c5b7c5"
      },
      "outputs": [
        {
          "output_type": "execute_result",
          "data": {
            "text/plain": [
              "0.723"
            ]
          },
          "metadata": {},
          "execution_count": 33
        }
      ],
      "source": [
        "accuracy_score(y_test,pred)"
      ]
    },
    {
      "cell_type": "code",
      "execution_count": 34,
      "metadata": {
        "id": "FYd3xTO4hG-I",
        "colab": {
          "base_uri": "https://localhost:8080/"
        },
        "outputId": "53cc6c19-63a8-4a8c-eab3-06b8a2b1d24d"
      },
      "outputs": [
        {
          "output_type": "execute_result",
          "data": {
            "text/plain": [
              "array([[5672, 1328],\n",
              "       [1165,  835]])"
            ]
          },
          "metadata": {},
          "execution_count": 34
        }
      ],
      "source": [
        "confusion_matrix(y_test,pred)"
      ]
    },
    {
      "cell_type": "code",
      "execution_count": 35,
      "metadata": {
        "id": "9bhdijgzhG-J",
        "colab": {
          "base_uri": "https://localhost:8080/",
          "height": 105
        },
        "outputId": "33979b29-85cb-4420-faf2-4b15ae7653e6"
      },
      "outputs": [
        {
          "output_type": "execute_result",
          "data": {
            "text/plain": [
              "'              precision    recall  f1-score   support\\n\\n           0       0.83      0.81      0.82      7000\\n           1       0.39      0.42      0.40      2000\\n\\n    accuracy                           0.72      9000\\n   macro avg       0.61      0.61      0.61      9000\\nweighted avg       0.73      0.72      0.73      9000\\n'"
            ],
            "application/vnd.google.colaboratory.intrinsic+json": {
              "type": "string"
            }
          },
          "metadata": {},
          "execution_count": 35
        }
      ],
      "source": [
        "classification_report(y_test,pred)"
      ]
    },
    {
      "cell_type": "code",
      "execution_count": 36,
      "metadata": {
        "id": "3NGIGG-VhG-J",
        "colab": {
          "base_uri": "https://localhost:8080/"
        },
        "outputId": "6e812379-b923-42ae-df9a-e0d930876f28"
      },
      "outputs": [
        {
          "output_type": "stream",
          "name": "stdout",
          "text": [
            "              precision    recall  f1-score   support\n",
            "\n",
            "           0       0.83      0.81      0.82      7000\n",
            "           1       0.39      0.42      0.40      2000\n",
            "\n",
            "    accuracy                           0.72      9000\n",
            "   macro avg       0.61      0.61      0.61      9000\n",
            "weighted avg       0.73      0.72      0.73      9000\n",
            "\n"
          ]
        }
      ],
      "source": [
        "print(classification_report(y_test,pred))"
      ]
    },
    {
      "cell_type": "code",
      "execution_count": 37,
      "metadata": {
        "id": "zbSi2B2MhG-K"
      },
      "outputs": [],
      "source": [
        "#Import Gaussian Naive Bayes model\n",
        "from sklearn.naive_bayes import GaussianNB\n",
        "\n",
        "#Create a Gaussian Classifier\n",
        "gnb = GaussianNB()"
      ]
    },
    {
      "cell_type": "code",
      "execution_count": 38,
      "metadata": {
        "id": "YC8500ZAhG-L",
        "colab": {
          "base_uri": "https://localhost:8080/"
        },
        "outputId": "d8a44b3f-f9e1-4d4d-b51d-f071b6e19d71"
      },
      "outputs": [
        {
          "output_type": "execute_result",
          "data": {
            "text/plain": [
              "array([1, 1, 0, ..., 1, 1, 1])"
            ]
          },
          "metadata": {},
          "execution_count": 38
        }
      ],
      "source": [
        "#Train the model using the training sets\n",
        "gnb.fit(X_train, y_train)\n",
        "\n",
        "#Predict the response for test dataset\n",
        "gnb.predict(X_test)"
      ]
    },
    {
      "cell_type": "code",
      "execution_count": 39,
      "metadata": {
        "id": "rHzIuZjHhG-L",
        "colab": {
          "base_uri": "https://localhost:8080/"
        },
        "outputId": "27536ad5-58d5-4ac5-d9b1-0ee9ef68c4d4"
      },
      "outputs": [
        {
          "output_type": "execute_result",
          "data": {
            "text/plain": [
              "0.37744444444444447"
            ]
          },
          "metadata": {},
          "execution_count": 39
        }
      ],
      "source": [
        "gnb.score(X_test,y_test)"
      ]
    },
    {
      "cell_type": "code",
      "execution_count": 40,
      "metadata": {
        "id": "zX1gu3f4hG-M"
      },
      "outputs": [],
      "source": [
        "from sklearn.naive_bayes import BernoulliNB\n",
        "\n",
        "#Create a Gaussian Classifier\n",
        "bnb = BernoulliNB()"
      ]
    },
    {
      "cell_type": "code",
      "execution_count": 41,
      "metadata": {
        "id": "nbQelwJ2hG-M",
        "colab": {
          "base_uri": "https://localhost:8080/"
        },
        "outputId": "65cdd3e0-e015-499a-cc92-240dffd18088"
      },
      "outputs": [
        {
          "output_type": "execute_result",
          "data": {
            "text/plain": [
              "array([0, 1, 0, ..., 0, 0, 0])"
            ]
          },
          "metadata": {},
          "execution_count": 41
        }
      ],
      "source": [
        "#Train the model using the training sets\n",
        "bnb.fit(X_train, y_train)\n",
        "\n",
        "#Predict the response for test dataset\n",
        "bnb.predict(X_test)"
      ]
    },
    {
      "cell_type": "code",
      "execution_count": 42,
      "metadata": {
        "id": "mp7t7wUnhG-N",
        "colab": {
          "base_uri": "https://localhost:8080/"
        },
        "outputId": "a901ee76-d1be-4de4-aee3-a46000a06217"
      },
      "outputs": [
        {
          "output_type": "execute_result",
          "data": {
            "text/plain": [
              "0.771"
            ]
          },
          "metadata": {},
          "execution_count": 42
        }
      ],
      "source": [
        "bnb.score(X_test,y_test)"
      ]
    },
    {
      "cell_type": "code",
      "execution_count": 43,
      "metadata": {
        "id": "0MYXG1iPhG-j"
      },
      "outputs": [],
      "source": [
        "from sklearn.naive_bayes import MultinomialNB\n",
        "\n",
        "#Create a Gaussian Classifier\n",
        "mnb = MultinomialNB()"
      ]
    },
    {
      "cell_type": "code",
      "execution_count": 44,
      "metadata": {
        "id": "fulutPtlhG-k"
      },
      "outputs": [],
      "source": [
        "#Train the model using the training sets\n",
        "#mnb.fit(X_train, y_train)\n",
        "\n",
        "#Predict the response for test dataset\n",
        "#mnb.predict(X_test)"
      ]
    },
    {
      "cell_type": "code",
      "execution_count": 45,
      "metadata": {
        "id": "AhB8taEZhG-k",
        "colab": {
          "base_uri": "https://localhost:8080/",
          "height": 449
        },
        "outputId": "ec2dedfe-6601-4a3c-f69d-eaf4ab9d3359"
      },
      "outputs": [
        {
          "output_type": "display_data",
          "data": {
            "text/plain": [
              "<Figure size 640x480 with 2 Axes>"
            ],
            "image/png": "[encoded data removed]"
          },
          "metadata": {}
        }
      ],
      "source": [
        "import matplotlib.pyplot as plt\n",
        "import numpy\n",
        "from sklearn import metrics\n",
        "\n",
        "actual = numpy.random.binomial(1,.72,size = 30000)\n",
        "predicted = numpy.random.binomial(1,.72,size = 30000)\n",
        "\n",
        "confusion_matrix = metrics.confusion_matrix(actual, predicted)\n",
        "\n",
        "cm_display = metrics.ConfusionMatrixDisplay(confusion_matrix = confusion_matrix, display_labels = [False, True])\n",
        "\n",
        "cm_display.plot()\n",
        "plt.show()"
      ]
    },
    {
      "cell_type": "code",
      "source": [
        "from sklearn import tree\n",
        "clf = tree.DecisionTreeClassifier(random_state=1)\n",
        "clf = clf.fit(X_train, y_train)\n",
        "tree.plot_tree(clf)"
      ],
      "metadata": {
        "id": "JeK__fQ9psQj",
        "colab": {
          "base_uri": "https://localhost:8080/",
          "height": 1000
        },
        "outputId": "2abe4577-61e3-4554-cba9-775909064a2d"
      },
      "execution_count": 46,
      "outputs": [
        {
          "output_type": "execute_result",
          "data": {
            "text/plain": [
              "[Text(0.7562312727612142, 0.9886363636363636, 'x[6] <= 1.5\\ngini = 0.344\\nsamples = 21000\\nvalue = [16364, 4636]'),\n",
              " Text(0.6029467493805286, 0.9659090909090909, 'x[7] <= 1.5\\ngini = 0.275\\nsamples = 18773\\nvalue = [15683, 3090]'),\n",
              " Text(0.39810973527405374, 0.9431818181818182, 'x[20] <= 850.5\\ngini = 0.242\\nsamples = 17161\\nvalue = [14744, 2417]'),\n",
              " Text(0.18944737290798186, 0.9204545454545454, 'x[12] <= 530.0\\ngini = 0.332\\nsamples = 5100\\nvalue = [4028, 1072]'),\n",
              " Text(0.11035775042913193, 0.8977272727272727, 'x[20] <= 1.5\\ngini = 0.399\\nsamples = 1934\\nvalue = [1402, 532]'),\n",
              " Text(0.09425154794016675, 0.875, 'x[15] <= 393.0\\ngini = 0.422\\nsamples = 1379\\nvalue = [961, 418]'),\n",
              " Text(0.08084247793035802, 0.8522727272727273, 'x[23] <= 164.0\\ngini = 0.412\\nsamples = 1287\\nvalue = [914, 373]'),\n",
              " Text(0.06295028200098088, 0.8295454545454546, 'x[1] <= 315000.0\\ngini = 0.436\\nsamples = 987\\nvalue = [670, 317]'),\n",
              " Text(0.03993685630210888, 0.8068181818181818, 'x[6] <= 0.5\\ngini = 0.41\\nsamples = 785\\nvalue = [559, 226]'),\n",
              " Text(0.012115824750694785, 0.7840909090909091, 'x[0] <= 13186.5\\ngini = 0.354\\nsamples = 335\\nvalue = [258, 77]'),\n",
              " Text(0.003936570214157267, 0.7613636363636364, 'x[15] <= -9.5\\ngini = 0.247\\nsamples = 125\\nvalue = [107, 18]'),\n",
              " Text(0.0013601438613699527, 0.7386363636363636, 'x[14] <= -24.5\\ngini = 0.494\\nsamples = 9\\nvalue = [5, 4]'),\n",
              " Text(0.0009416380578715056, 0.7159090909090909, 'x[5] <= 23.5\\ngini = 0.278\\nsamples = 6\\nvalue = [5, 1]'),\n",
              " Text(0.0005231322543730587, 0.6931818181818182, 'gini = 0.0\\nsamples = 1\\nvalue = [0, 1]'),\n",
              " Text(0.0013601438613699527, 0.6931818181818182, 'gini = 0.0\\nsamples = 5\\nvalue = [5, 0]'),\n",
              " Text(0.0017786496648683995, 0.7159090909090909, 'gini = 0.0\\nsamples = 3\\nvalue = [0, 3]'),\n",
              " Text(0.006512996566944581, 0.7386363636363636, 'x[22] <= 1317.0\\ngini = 0.212\\nsamples = 116\\nvalue = [102, 14]'),\n",
              " Text(0.0046558770639202225, 0.7159090909090909, 'x[0] <= 8787.5\\ngini = 0.191\\nsamples = 112\\nvalue = [100, 12]'),\n",
              " Text(0.0021971554683668463, 0.6931818181818182, 'x[0] <= 43.5\\ngini = 0.136\\nsamples = 82\\nvalue = [76, 6]'),\n",
              " Text(0.0008370116069968939, 0.6704545454545454, 'x[8] <= -1.5\\ngini = 0.5\\nsamples = 2\\nvalue = [1, 1]'),\n",
              " Text(0.00041850580349844693, 0.6477272727272727, 'gini = 0.0\\nsamples = 1\\nvalue = [1, 0]'),\n",
              " Text(0.001255517410495341, 0.6477272727272727, 'gini = 0.0\\nsamples = 1\\nvalue = [0, 1]'),\n",
              " Text(0.003557299329736799, 0.6704545454545454, 'x[6] <= -1.5\\ngini = 0.117\\nsamples = 80\\nvalue = [75, 5]'),\n",
              " Text(0.0020925290174922347, 0.6477272727272727, 'x[13] <= 904.5\\ngini = 0.067\\nsamples = 58\\nvalue = [56, 2]'),\n",
              " Text(0.001255517410495341, 0.625, 'x[5] <= 26.5\\ngini = 0.036\\nsamples = 54\\nvalue = [53, 1]'),\n",
              " Text(0.0008370116069968939, 0.6022727272727273, 'x[4] <= 1.5\\ngini = 0.165\\nsamples = 11\\nvalue = [10, 1]'),\n",
              " Text(0.00041850580349844693, 0.5795454545454546, 'gini = 0.0\\nsamples = 1\\nvalue = [0, 1]'),\n",
              " Text(0.001255517410495341, 0.5795454545454546, 'gini = 0.0\\nsamples = 10\\nvalue = [10, 0]'),\n",
              " Text(0.0016740232139937877, 0.6022727272727273, 'gini = 0.0\\nsamples = 43\\nvalue = [43, 0]'),\n",
              " Text(0.002929540624489129, 0.625, 'x[13] <= 1116.5\\ngini = 0.375\\nsamples = 4\\nvalue = [3, 1]'),\n",
              " Text(0.002511034820990682, 0.6022727272727273, 'gini = 0.0\\nsamples = 1\\nvalue = [0, 1]'),\n",
              " Text(0.0033480464279875754, 0.6022727272727273, 'gini = 0.0\\nsamples = 3\\nvalue = [3, 0]'),\n",
              " Text(0.005022069641981364, 0.6477272727272727, 'x[5] <= 41.5\\ngini = 0.236\\nsamples = 22\\nvalue = [19, 3]'),\n",
              " Text(0.0046035638384829165, 0.625, 'x[5] <= 39.5\\ngini = 0.337\\nsamples = 14\\nvalue = [11, 3]'),\n",
              " Text(0.0041850580349844695, 0.6022727272727273, 'x[8] <= -1.5\\ngini = 0.26\\nsamples = 13\\nvalue = [11, 2]'),\n",
              " Text(0.0037665522314860225, 0.5795454545454546, 'x[12] <= 268.0\\ngini = 0.48\\nsamples = 5\\nvalue = [3, 2]'),\n",
              " Text(0.0033480464279875754, 0.5568181818181818, 'gini = 0.0\\nsamples = 1\\nvalue = [0, 1]'),\n",
              " Text(0.0041850580349844695, 0.5568181818181818, 'x[12] <= 333.5\\ngini = 0.375\\nsamples = 4\\nvalue = [3, 1]'),\n",
              " Text(0.0037665522314860225, 0.5340909090909091, 'gini = 0.0\\nsamples = 2\\nvalue = [2, 0]'),\n",
              " Text(0.0046035638384829165, 0.5340909090909091, 'x[5] <= 26.0\\ngini = 0.5\\nsamples = 2\\nvalue = [1, 1]'),\n",
              " Text(0.0041850580349844695, 0.5113636363636364, 'gini = 0.0\\nsamples = 1\\nvalue = [1, 0]'),\n",
              " Text(0.005022069641981364, 0.5113636363636364, 'gini = 0.0\\nsamples = 1\\nvalue = [0, 1]'),\n",
              " Text(0.0046035638384829165, 0.5795454545454546, 'gini = 0.0\\nsamples = 8\\nvalue = [8, 0]'),\n",
              " Text(0.005022069641981364, 0.6022727272727273, 'gini = 0.0\\nsamples = 1\\nvalue = [0, 1]'),\n",
              " Text(0.005440575445479811, 0.625, 'gini = 0.0\\nsamples = 8\\nvalue = [8, 0]'),\n",
              " Text(0.007114598659473598, 0.6931818181818182, 'x[0] <= 9655.0\\ngini = 0.32\\nsamples = 30\\nvalue = [24, 6]'),\n",
              " Text(0.006277587052476705, 0.6704545454545454, 'x[8] <= -1.5\\ngini = 0.375\\nsamples = 4\\nvalue = [1, 3]'),\n",
              " Text(0.005859081248978258, 0.6477272727272727, 'gini = 0.0\\nsamples = 3\\nvalue = [0, 3]'),\n",
              " Text(0.006696092855975151, 0.6477272727272727, 'gini = 0.0\\nsamples = 1\\nvalue = [1, 0]'),\n",
              " Text(0.007951610266470493, 0.6704545454545454, 'x[1] <= 15000.0\\ngini = 0.204\\nsamples = 26\\nvalue = [23, 3]'),\n",
              " Text(0.007533104462972045, 0.6477272727272727, 'gini = 0.0\\nsamples = 1\\nvalue = [0, 1]'),\n",
              " Text(0.008370116069968939, 0.6477272727272727, 'x[3] <= 1.5\\ngini = 0.147\\nsamples = 25\\nvalue = [23, 2]'),\n",
              " Text(0.007951610266470493, 0.625, 'x[5] <= 33.5\\ngini = 0.26\\nsamples = 13\\nvalue = [11, 2]'),\n",
              " Text(0.007533104462972045, 0.6022727272727273, 'x[4] <= 1.5\\ngini = 0.375\\nsamples = 8\\nvalue = [6, 2]'),\n",
              " Text(0.007114598659473598, 0.5795454545454546, 'gini = 0.0\\nsamples = 1\\nvalue = [0, 1]'),\n",
              " Text(0.007951610266470493, 0.5795454545454546, 'x[6] <= -1.5\\ngini = 0.245\\nsamples = 7\\nvalue = [6, 1]'),\n",
              " Text(0.007533104462972045, 0.5568181818181818, 'x[5] <= 28.0\\ngini = 0.444\\nsamples = 3\\nvalue = [2, 1]'),\n",
              " Text(0.007114598659473598, 0.5340909090909091, 'gini = 0.0\\nsamples = 2\\nvalue = [2, 0]'),\n",
              " Text(0.007951610266470493, 0.5340909090909091, 'gini = 0.0\\nsamples = 1\\nvalue = [0, 1]'),\n",
              " Text(0.008370116069968939, 0.5568181818181818, 'gini = 0.0\\nsamples = 4\\nvalue = [4, 0]'),\n",
              " Text(0.008370116069968939, 0.6022727272727273, 'gini = 0.0\\nsamples = 5\\nvalue = [5, 0]'),\n",
              " Text(0.008788621873467385, 0.625, 'gini = 0.0\\nsamples = 12\\nvalue = [12, 0]'),\n",
              " Text(0.008370116069968939, 0.7159090909090909, 'x[22] <= 3347.5\\ngini = 0.5\\nsamples = 4\\nvalue = [2, 2]'),\n",
              " Text(0.007951610266470493, 0.6931818181818182, 'gini = 0.0\\nsamples = 2\\nvalue = [0, 2]'),\n",
              " Text(0.008788621873467385, 0.6931818181818182, 'gini = 0.0\\nsamples = 2\\nvalue = [2, 0]'),\n",
              " Text(0.020295079287232305, 0.7613636363636364, 'x[1] <= 235000.0\\ngini = 0.404\\nsamples = 210\\nvalue = [151, 59]'),\n",
              " Text(0.015898316168056238, 0.7386363636363636, 'x[0] <= 13916.0\\ngini = 0.346\\nsamples = 153\\nvalue = [119, 34]'),\n",
              " Text(0.013804152362269086, 0.7159090909090909, 'x[5] <= 32.0\\ngini = 0.32\\nsamples = 5\\nvalue = [1, 4]'),\n",
              " Text(0.013385646558770638, 0.6931818181818182, 'x[5] <= 29.0\\ngini = 0.5\\nsamples = 2\\nvalue = [1, 1]'),\n",
              " Text(0.012967140755272192, 0.6704545454545454, 'gini = 0.0\\nsamples = 1\\nvalue = [0, 1]'),\n",
              " Text(0.013804152362269086, 0.6704545454545454, 'gini = 0.0\\nsamples = 1\\nvalue = [1, 0]'),\n",
              " Text(0.014222658165767533, 0.6931818181818182, 'gini = 0.0\\nsamples = 3\\nvalue = [0, 3]'),\n",
              " Text(0.017992479973843387, 0.7159090909090909, 'x[5] <= 40.5\\ngini = 0.323\\nsamples = 148\\nvalue = [118, 30]'),\n",
              " Text(0.015059669772764427, 0.6931818181818182, 'x[14] <= -1697.0\\ngini = 0.233\\nsamples = 104\\nvalue = [90, 14]'),\n",
              " Text(0.01464116396926598, 0.6704545454545454, 'gini = 0.0\\nsamples = 1\\nvalue = [0, 1]'),\n",
              " Text(0.015478175576262874, 0.6704545454545454, 'x[1] <= 215000.0\\ngini = 0.221\\nsamples = 103\\nvalue = [90, 13]'),\n",
              " Text(0.012123589995095635, 0.6477272727272727, 'x[19] <= 5137.5\\ngini = 0.19\\nsamples = 94\\nvalue = [84, 10]'),\n",
              " Text(0.011705084191597189, 0.625, 'x[0] <= 15237.0\\ngini = 0.175\\nsamples = 93\\nvalue = [84, 9]'),\n",
              " Text(0.00988719960765081, 0.6022727272727273, 'x[0] <= 14765.5\\ngini = 0.48\\nsamples = 5\\nvalue = [3, 2]'),\n",
              " Text(0.009468693804152363, 0.5795454545454546, 'gini = 0.0\\nsamples = 3\\nvalue = [3, 0]'),\n",
              " Text(0.010305705411149255, 0.5795454545454546, 'gini = 0.0\\nsamples = 2\\nvalue = [0, 2]'),\n",
              " Text(0.013522968775543567, 0.6022727272727273, 'x[0] <= 28446.5\\ngini = 0.146\\nsamples = 88\\nvalue = [81, 7]'),\n",
              " Text(0.01114271701814615, 0.5795454545454546, 'x[1] <= 155000.0\\ngini = 0.113\\nsamples = 83\\nvalue = [78, 5]'),\n",
              " Text(0.009207127676965833, 0.5568181818181818, 'x[10] <= -1.5\\ngini = 0.042\\nsamples = 47\\nvalue = [46, 1]'),\n",
              " Text(0.008788621873467385, 0.5340909090909091, 'gini = 0.0\\nsamples = 42\\nvalue = [42, 0]'),\n",
              " Text(0.00962563348046428, 0.5340909090909091, 'x[5] <= 29.0\\ngini = 0.32\\nsamples = 5\\nvalue = [4, 1]'),\n",
              " Text(0.009207127676965833, 0.5113636363636364, 'x[15] <= 75.0\\ngini = 0.5\\nsamples = 2\\nvalue = [1, 1]'),\n",
              " Text(0.008788621873467385, 0.48863636363636365, 'gini = 0.0\\nsamples = 1\\nvalue = [0, 1]'),\n",
              " Text(0.00962563348046428, 0.48863636363636365, 'gini = 0.0\\nsamples = 1\\nvalue = [1, 0]'),\n",
              " Text(0.010044139283962727, 0.5113636363636364, 'gini = 0.0\\nsamples = 3\\nvalue = [3, 0]'),\n",
              " Text(0.013078306359326467, 0.5568181818181818, 'x[5] <= 39.5\\ngini = 0.198\\nsamples = 36\\nvalue = [32, 4]'),\n",
              " Text(0.011927415399705737, 0.5340909090909091, 'x[1] <= 165000.0\\ngini = 0.165\\nsamples = 33\\nvalue = [30, 3]'),\n",
              " Text(0.010881150890959621, 0.5113636363636364, 'x[14] <= 995.0\\ngini = 0.444\\nsamples = 3\\nvalue = [2, 1]'),\n",
              " Text(0.010462645087461173, 0.48863636363636365, 'gini = 0.0\\nsamples = 2\\nvalue = [2, 0]'),\n",
              " Text(0.011299656694458067, 0.48863636363636365, 'gini = 0.0\\nsamples = 1\\nvalue = [0, 1]'),\n",
              " Text(0.012973679908451856, 0.5113636363636364, 'x[0] <= 27758.5\\ngini = 0.124\\nsamples = 30\\nvalue = [28, 2]'),\n",
              " Text(0.012136668301454961, 0.48863636363636365, 'x[5] <= 35.5\\ngini = 0.071\\nsamples = 27\\nvalue = [26, 1]'),\n",
              " Text(0.011718162497956515, 0.4659090909090909, 'gini = 0.0\\nsamples = 17\\nvalue = [17, 0]'),\n",
              " Text(0.01255517410495341, 0.4659090909090909, 'x[3] <= 1.5\\ngini = 0.18\\nsamples = 10\\nvalue = [9, 1]'),\n",
              " Text(0.012136668301454961, 0.4431818181818182, 'x[0] <= 21116.5\\ngini = 0.375\\nsamples = 4\\nvalue = [3, 1]'),\n",
              " Text(0.011718162497956515, 0.42045454545454547, 'gini = 0.0\\nsamples = 3\\nvalue = [3, 0]'),\n",
              " Text(0.01255517410495341, 0.42045454545454547, 'gini = 0.0\\nsamples = 1\\nvalue = [0, 1]'),\n",
              " Text(0.012973679908451856, 0.4431818181818182, 'gini = 0.0\\nsamples = 6\\nvalue = [6, 0]'),\n",
              " Text(0.01381069151544875, 0.48863636363636365, 'x[0] <= 27939.0\\ngini = 0.444\\nsamples = 3\\nvalue = [2, 1]'),\n",
              " Text(0.013392185711950302, 0.4659090909090909, 'gini = 0.0\\nsamples = 1\\nvalue = [0, 1]'),\n",
              " Text(0.014229197318947196, 0.4659090909090909, 'gini = 0.0\\nsamples = 2\\nvalue = [2, 0]'),\n",
              " Text(0.014229197318947196, 0.5340909090909091, 'x[1] <= 190000.0\\ngini = 0.444\\nsamples = 3\\nvalue = [2, 1]'),\n",
              " Text(0.01381069151544875, 0.5113636363636364, 'gini = 0.0\\nsamples = 1\\nvalue = [0, 1]'),\n",
              " Text(0.014647703122445644, 0.5113636363636364, 'gini = 0.0\\nsamples = 2\\nvalue = [2, 0]'),\n",
              " Text(0.015903220532940986, 0.5795454545454546, 'x[1] <= 125000.0\\ngini = 0.48\\nsamples = 5\\nvalue = [3, 2]'),\n",
              " Text(0.015484714729442538, 0.5568181818181818, 'x[3] <= 2.5\\ngini = 0.444\\nsamples = 3\\nvalue = [1, 2]'),\n",
              " Text(0.01506620892594409, 0.5340909090909091, 'gini = 0.0\\nsamples = 2\\nvalue = [0, 2]'),\n",
              " Text(0.015903220532940986, 0.5340909090909091, 'gini = 0.0\\nsamples = 1\\nvalue = [1, 0]'),\n",
              " Text(0.01632172633643943, 0.5568181818181818, 'gini = 0.0\\nsamples = 2\\nvalue = [2, 0]'),\n",
              " Text(0.012542095798594083, 0.625, 'gini = 0.0\\nsamples = 1\\nvalue = [0, 1]'),\n",
              " Text(0.018832761157430114, 0.6477272727272727, 'x[0] <= 28050.5\\ngini = 0.444\\nsamples = 9\\nvalue = [6, 3]'),\n",
              " Text(0.018414255353931666, 0.625, 'x[5] <= 34.5\\ngini = 0.5\\nsamples = 6\\nvalue = [3, 3]'),\n",
              " Text(0.017995749550433218, 0.6022727272727273, 'x[14] <= 307.5\\ngini = 0.375\\nsamples = 4\\nvalue = [3, 1]'),\n",
              " Text(0.01757724374693477, 0.5795454545454546, 'x[0] <= 22856.5\\ngini = 0.5\\nsamples = 2\\nvalue = [1, 1]'),\n",
              " Text(0.017158737943436326, 0.5568181818181818, 'gini = 0.0\\nsamples = 1\\nvalue = [1, 0]'),\n",
              " Text(0.017995749550433218, 0.5568181818181818, 'gini = 0.0\\nsamples = 1\\nvalue = [0, 1]'),\n",
              " Text(0.018414255353931666, 0.5795454545454546, 'gini = 0.0\\nsamples = 2\\nvalue = [2, 0]'),\n",
              " Text(0.018832761157430114, 0.6022727272727273, 'gini = 0.0\\nsamples = 2\\nvalue = [0, 2]'),\n",
              " Text(0.01925126696092856, 0.625, 'gini = 0.0\\nsamples = 3\\nvalue = [3, 0]'),\n",
              " Text(0.020925290174922347, 0.6931818181818182, 'x[10] <= -1.5\\ngini = 0.463\\nsamples = 44\\nvalue = [28, 16]'),\n",
              " Text(0.020506784371423902, 0.6704545454545454, 'x[0] <= 17561.0\\ngini = 0.42\\nsamples = 40\\nvalue = [28, 12]'),\n",
              " Text(0.020088278567925454, 0.6477272727272727, 'gini = 0.0\\nsamples = 7\\nvalue = [7, 0]'),\n",
              " Text(0.020925290174922347, 0.6477272727272727, 'x[0] <= 21331.5\\ngini = 0.463\\nsamples = 33\\nvalue = [21, 12]'),\n",
              " Text(0.020088278567925454, 0.625, 'x[5] <= 45.0\\ngini = 0.444\\nsamples = 9\\nvalue = [3, 6]'),\n",
              " Text(0.019669772764427006, 0.6022727272727273, 'x[5] <= 41.5\\ngini = 0.48\\nsamples = 5\\nvalue = [3, 2]'),\n",
              " Text(0.01925126696092856, 0.5795454545454546, 'gini = 0.0\\nsamples = 2\\nvalue = [0, 2]'),\n",
              " Text(0.020088278567925454, 0.5795454545454546, 'gini = 0.0\\nsamples = 3\\nvalue = [3, 0]'),\n",
              " Text(0.020506784371423902, 0.6022727272727273, 'gini = 0.0\\nsamples = 4\\nvalue = [0, 4]'),\n",
              " Text(0.021762301781919242, 0.625, 'x[19] <= 250.0\\ngini = 0.375\\nsamples = 24\\nvalue = [18, 6]'),\n",
              " Text(0.021343795978420795, 0.6022727272727273, 'x[0] <= 23629.0\\ngini = 0.457\\nsamples = 17\\nvalue = [11, 6]'),\n",
              " Text(0.020925290174922347, 0.5795454545454546, 'gini = 0.0\\nsamples = 4\\nvalue = [4, 0]'),\n",
              " Text(0.021762301781919242, 0.5795454545454546, 'x[0] <= 27275.0\\ngini = 0.497\\nsamples = 13\\nvalue = [7, 6]'),\n",
              " Text(0.021343795978420795, 0.5568181818181818, 'x[0] <= 24588.5\\ngini = 0.444\\nsamples = 9\\nvalue = [3, 6]'),\n",
              " Text(0.020925290174922347, 0.5340909090909091, 'x[0] <= 23755.0\\ngini = 0.48\\nsamples = 5\\nvalue = [3, 2]'),\n",
              " Text(0.020506784371423902, 0.5113636363636364, 'gini = 0.0\\nsamples = 2\\nvalue = [0, 2]'),\n",
              " Text(0.021343795978420795, 0.5113636363636364, 'gini = 0.0\\nsamples = 3\\nvalue = [3, 0]'),\n",
              " Text(0.021762301781919242, 0.5340909090909091, 'gini = 0.0\\nsamples = 4\\nvalue = [0, 4]'),\n",
              " Text(0.022180807585417687, 0.5568181818181818, 'gini = 0.0\\nsamples = 4\\nvalue = [4, 0]'),\n",
              " Text(0.022180807585417687, 0.6022727272727273, 'gini = 0.0\\nsamples = 7\\nvalue = [7, 0]'),\n",
              " Text(0.021343795978420795, 0.6704545454545454, 'gini = 0.0\\nsamples = 4\\nvalue = [0, 4]'),\n",
              " Text(0.02469184240640837, 0.7386363636363636, 'x[5] <= 27.5\\ngini = 0.492\\nsamples = 57\\nvalue = [32, 25]'),\n",
              " Text(0.024273336602909923, 0.7159090909090909, 'gini = 0.0\\nsamples = 6\\nvalue = [6, 0]'),\n",
              " Text(0.02511034820990682, 0.7159090909090909, 'x[5] <= 32.5\\ngini = 0.5\\nsamples = 51\\nvalue = [26, 25]'),\n",
              " Text(0.023017819192414583, 0.6931818181818182, 'x[0] <= 15507.0\\ngini = 0.397\\nsamples = 11\\nvalue = [3, 8]'),\n",
              " Text(0.022599313388916135, 0.6704545454545454, 'gini = 0.0\\nsamples = 2\\nvalue = [2, 0]'),\n",
              " Text(0.02343632499591303, 0.6704545454545454, 'x[5] <= 28.5\\ngini = 0.198\\nsamples = 9\\nvalue = [1, 8]'),\n",
              " Text(0.023017819192414583, 0.6477272727272727, 'x[1] <= 290000.0\\ngini = 0.5\\nsamples = 2\\nvalue = [1, 1]'),\n",
              " Text(0.022599313388916135, 0.625, 'gini = 0.0\\nsamples = 1\\nvalue = [1, 0]'),\n",
              " Text(0.02343632499591303, 0.625, 'gini = 0.0\\nsamples = 1\\nvalue = [0, 1]'),\n",
              " Text(0.023854830799411475, 0.6477272727272727, 'gini = 0.0\\nsamples = 7\\nvalue = [0, 7]'),\n",
              " Text(0.02720287722739905, 0.6931818181818182, 'x[5] <= 35.5\\ngini = 0.489\\nsamples = 40\\nvalue = [23, 17]'),\n",
              " Text(0.025528854013405263, 0.6704545454545454, 'x[3] <= 2.5\\ngini = 0.337\\nsamples = 14\\nvalue = [11, 3]'),\n",
              " Text(0.02469184240640837, 0.6477272727272727, 'x[5] <= 33.5\\ngini = 0.18\\nsamples = 10\\nvalue = [9, 1]'),\n",
              " Text(0.024273336602909923, 0.625, 'x[1] <= 265000.0\\ngini = 0.5\\nsamples = 2\\nvalue = [1, 1]'),\n",
              " Text(0.023854830799411475, 0.6022727272727273, 'gini = 0.0\\nsamples = 1\\nvalue = [1, 0]'),\n",
              " Text(0.02469184240640837, 0.6022727272727273, 'gini = 0.0\\nsamples = 1\\nvalue = [0, 1]'),\n",
              " Text(0.02511034820990682, 0.625, 'gini = 0.0\\nsamples = 8\\nvalue = [8, 0]'),\n",
              " Text(0.02636586562040216, 0.6477272727272727, 'x[1] <= 260000.0\\ngini = 0.5\\nsamples = 4\\nvalue = [2, 2]'),\n",
              " Text(0.02594735981690371, 0.625, 'gini = 0.0\\nsamples = 2\\nvalue = [0, 2]'),\n",
              " Text(0.026784371423900603, 0.625, 'gini = 0.0\\nsamples = 2\\nvalue = [2, 0]'),\n",
              " Text(0.02887690044139284, 0.6704545454545454, 'x[18] <= 287.5\\ngini = 0.497\\nsamples = 26\\nvalue = [12, 14]'),\n",
              " Text(0.02845839463789439, 0.6477272727272727, 'x[5] <= 46.5\\ngini = 0.476\\nsamples = 23\\nvalue = [9, 14]'),\n",
              " Text(0.0276213830308975, 0.625, 'x[1] <= 305000.0\\ngini = 0.298\\nsamples = 11\\nvalue = [2, 9]'),\n",
              " Text(0.02720287722739905, 0.6022727272727273, 'x[5] <= 39.0\\ngini = 0.18\\nsamples = 10\\nvalue = [1, 9]'),\n",
              " Text(0.026784371423900603, 0.5795454545454546, 'x[1] <= 270000.0\\ngini = 0.375\\nsamples = 4\\nvalue = [1, 3]'),\n",
              " Text(0.02636586562040216, 0.5568181818181818, 'gini = 0.0\\nsamples = 2\\nvalue = [0, 2]'),\n",
              " Text(0.02720287722739905, 0.5568181818181818, 'x[0] <= 28017.0\\ngini = 0.5\\nsamples = 2\\nvalue = [1, 1]'),\n",
              " Text(0.026784371423900603, 0.5340909090909091, 'gini = 0.0\\nsamples = 1\\nvalue = [1, 0]'),\n",
              " Text(0.0276213830308975, 0.5340909090909091, 'gini = 0.0\\nsamples = 1\\nvalue = [0, 1]'),\n",
              " Text(0.0276213830308975, 0.5795454545454546, 'gini = 0.0\\nsamples = 6\\nvalue = [0, 6]'),\n",
              " Text(0.028039888834395947, 0.6022727272727273, 'gini = 0.0\\nsamples = 1\\nvalue = [1, 0]'),\n",
              " Text(0.029295406244891287, 0.625, 'x[7] <= -1.5\\ngini = 0.486\\nsamples = 12\\nvalue = [7, 5]'),\n",
              " Text(0.02887690044139284, 0.6022727272727273, 'x[5] <= 50.5\\ngini = 0.42\\nsamples = 10\\nvalue = [7, 3]'),\n",
              " Text(0.02845839463789439, 0.5795454545454546, 'gini = 0.0\\nsamples = 4\\nvalue = [4, 0]'),\n",
              " Text(0.029295406244891287, 0.5795454545454546, 'x[0] <= 20794.0\\ngini = 0.5\\nsamples = 6\\nvalue = [3, 3]'),\n",
              " Text(0.02887690044139284, 0.5568181818181818, 'gini = 0.0\\nsamples = 2\\nvalue = [2, 0]'),\n",
              " Text(0.029713912048389735, 0.5568181818181818, 'x[4] <= 0.5\\ngini = 0.375\\nsamples = 4\\nvalue = [1, 3]'),\n",
              " Text(0.029295406244891287, 0.5340909090909091, 'gini = 0.0\\nsamples = 1\\nvalue = [1, 0]'),\n",
              " Text(0.03013241785188818, 0.5340909090909091, 'gini = 0.0\\nsamples = 3\\nvalue = [0, 3]'),\n",
              " Text(0.029713912048389735, 0.6022727272727273, 'gini = 0.0\\nsamples = 2\\nvalue = [0, 2]'),\n",
              " Text(0.029295406244891287, 0.6477272727272727, 'gini = 0.0\\nsamples = 3\\nvalue = [3, 0]'),\n",
              " Text(0.06775788785352296, 0.7840909090909091, 'x[21] <= 96.5\\ngini = 0.443\\nsamples = 450\\nvalue = [301, 149]'),\n",
              " Text(0.05976622527382704, 0.7613636363636364, 'x[5] <= 52.5\\ngini = 0.463\\nsamples = 388\\nvalue = [247, 141]'),\n",
              " Text(0.049328102010789604, 0.7386363636363636, 'x[0] <= 13894.5\\ngini = 0.449\\nsamples = 365\\nvalue = [241, 124]'),\n",
              " Text(0.03771129638711787, 0.7159090909090909, 'x[5] <= 26.5\\ngini = 0.48\\nsamples = 180\\nvalue = [108, 72]'),\n",
              " Text(0.033480464279875756, 0.6931818181818182, 'x[17] <= -759.0\\ngini = 0.488\\nsamples = 26\\nvalue = [11, 15]'),\n",
              " Text(0.03306195847637731, 0.6704545454545454, 'gini = 0.0\\nsamples = 3\\nvalue = [0, 3]'),\n",
              " Text(0.033898970083374204, 0.6704545454545454, 'x[1] <= 135000.0\\ngini = 0.499\\nsamples = 23\\nvalue = [11, 12]'),\n",
              " Text(0.033480464279875756, 0.6477272727272727, 'x[1] <= 110000.0\\ngini = 0.495\\nsamples = 20\\nvalue = [11, 9]'),\n",
              " Text(0.03306195847637731, 0.625, 'x[0] <= 9945.5\\ngini = 0.498\\nsamples = 17\\nvalue = [8, 9]'),\n",
              " Text(0.03264345267287886, 0.6022727272727273, 'x[0] <= 5403.0\\ngini = 0.49\\nsamples = 14\\nvalue = [8, 6]'),\n",
              " Text(0.03180644106588197, 0.5795454545454546, 'x[0] <= 3135.5\\ngini = 0.469\\nsamples = 8\\nvalue = [3, 5]'),\n",
              " Text(0.03138793526238352, 0.5568181818181818, 'x[5] <= 22.5\\ngini = 0.375\\nsamples = 4\\nvalue = [3, 1]'),\n",
              " Text(0.030969429458885075, 0.5340909090909091, 'gini = 0.0\\nsamples = 1\\nvalue = [0, 1]'),\n",
              " Text(0.03180644106588197, 0.5340909090909091, 'gini = 0.0\\nsamples = 3\\nvalue = [3, 0]'),\n",
              " Text(0.03222494686938041, 0.5568181818181818, 'gini = 0.0\\nsamples = 4\\nvalue = [0, 4]'),\n",
              " Text(0.033480464279875756, 0.5795454545454546, 'x[2] <= 1.5\\ngini = 0.278\\nsamples = 6\\nvalue = [5, 1]'),\n",
              " Text(0.03306195847637731, 0.5568181818181818, 'x[5] <= 24.5\\ngini = 0.444\\nsamples = 3\\nvalue = [2, 1]'),\n",
              " Text(0.03264345267287886, 0.5340909090909091, 'gini = 0.0\\nsamples = 1\\nvalue = [0, 1]'),\n",
              " Text(0.033480464279875756, 0.5340909090909091, 'gini = 0.0\\nsamples = 2\\nvalue = [2, 0]'),\n",
              " Text(0.033898970083374204, 0.5568181818181818, 'gini = 0.0\\nsamples = 3\\nvalue = [3, 0]'),\n",
              " Text(0.033480464279875756, 0.6022727272727273, 'gini = 0.0\\nsamples = 3\\nvalue = [0, 3]'),\n",
              " Text(0.033898970083374204, 0.625, 'gini = 0.0\\nsamples = 3\\nvalue = [3, 0]'),\n",
              " Text(0.03431747588687265, 0.6477272727272727, 'gini = 0.0\\nsamples = 3\\nvalue = [0, 3]'),\n",
              " Text(0.04194212849435998, 0.6931818181818182, 'x[1] <= 145000.0\\ngini = 0.466\\nsamples = 154\\nvalue = [97, 57]'),\n",
              " Text(0.037822461991172146, 0.6704545454545454, 'x[1] <= 35000.0\\ngini = 0.38\\nsamples = 55\\nvalue = [41, 14]'),\n",
              " Text(0.03557299329736799, 0.6477272727272727, 'x[3] <= 1.5\\ngini = 0.444\\nsamples = 9\\nvalue = [3, 6]'),\n",
              " Text(0.0347359816903711, 0.625, 'x[0] <= 6026.0\\ngini = 0.444\\nsamples = 3\\nvalue = [2, 1]'),\n",
              " Text(0.03431747588687265, 0.6022727272727273, 'gini = 0.0\\nsamples = 2\\nvalue = [2, 0]'),\n",
              " Text(0.03515448749386954, 0.6022727272727273, 'gini = 0.0\\nsamples = 1\\nvalue = [0, 1]'),\n",
              " Text(0.036410004904364884, 0.625, 'x[3] <= 2.5\\ngini = 0.278\\nsamples = 6\\nvalue = [1, 5]'),\n",
              " Text(0.035991499100866436, 0.6022727272727273, 'gini = 0.0\\nsamples = 5\\nvalue = [0, 5]'),\n",
              " Text(0.03682851070786333, 0.6022727272727273, 'gini = 0.0\\nsamples = 1\\nvalue = [1, 0]'),\n",
              " Text(0.0400719306849763, 0.6477272727272727, 'x[0] <= 3760.5\\ngini = 0.287\\nsamples = 46\\nvalue = [38, 8]'),\n",
              " Text(0.038084028118358676, 0.625, 'x[1] <= 125000.0\\ngini = 0.459\\nsamples = 14\\nvalue = [9, 5]'),\n",
              " Text(0.03766552231486023, 0.6022727272727273, 'x[5] <= 42.5\\ngini = 0.375\\nsamples = 12\\nvalue = [9, 3]'),\n",
              " Text(0.03682851070786333, 0.5795454545454546, 'x[0] <= 2033.5\\ngini = 0.198\\nsamples = 9\\nvalue = [8, 1]'),\n",
              " Text(0.036410004904364884, 0.5568181818181818, 'x[0] <= 1769.0\\ngini = 0.375\\nsamples = 4\\nvalue = [3, 1]'),\n",
              " Text(0.035991499100866436, 0.5340909090909091, 'gini = 0.0\\nsamples = 3\\nvalue = [3, 0]'),\n",
              " Text(0.03682851070786333, 0.5340909090909091, 'gini = 0.0\\nsamples = 1\\nvalue = [0, 1]'),\n",
              " Text(0.03724701651136178, 0.5568181818181818, 'gini = 0.0\\nsamples = 5\\nvalue = [5, 0]'),\n",
              " Text(0.03850253392185712, 0.5795454545454546, 'x[5] <= 47.0\\ngini = 0.444\\nsamples = 3\\nvalue = [1, 2]'),\n",
              " Text(0.038084028118358676, 0.5568181818181818, 'gini = 0.0\\nsamples = 2\\nvalue = [0, 2]'),\n",
              " Text(0.038921039725355565, 0.5568181818181818, 'gini = 0.0\\nsamples = 1\\nvalue = [1, 0]'),\n",
              " Text(0.03850253392185712, 0.6022727272727273, 'gini = 0.0\\nsamples = 2\\nvalue = [0, 2]'),\n",
              " Text(0.04205983325159392, 0.625, 'x[11] <= -1.5\\ngini = 0.17\\nsamples = 32\\nvalue = [29, 3]'),\n",
              " Text(0.041013568742847804, 0.6022727272727273, 'x[5] <= 48.5\\ngini = 0.124\\nsamples = 30\\nvalue = [28, 2]'),\n",
              " Text(0.04017655713585091, 0.5795454545454546, 'x[0] <= 11291.5\\ngini = 0.069\\nsamples = 28\\nvalue = [27, 1]'),\n",
              " Text(0.03975805133235246, 0.5568181818181818, 'gini = 0.0\\nsamples = 21\\nvalue = [21, 0]'),\n",
              " Text(0.040595062939349356, 0.5568181818181818, 'x[0] <= 11446.0\\ngini = 0.245\\nsamples = 7\\nvalue = [6, 1]'),\n",
              " Text(0.04017655713585091, 0.5340909090909091, 'gini = 0.0\\nsamples = 1\\nvalue = [0, 1]'),\n",
              " Text(0.041013568742847804, 0.5340909090909091, 'gini = 0.0\\nsamples = 6\\nvalue = [6, 0]'),\n",
              " Text(0.04185058034984469, 0.5795454545454546, 'x[5] <= 50.5\\ngini = 0.5\\nsamples = 2\\nvalue = [1, 1]'),\n",
              " Text(0.041432074546346245, 0.5568181818181818, 'gini = 0.0\\nsamples = 1\\nvalue = [0, 1]'),\n",
              " Text(0.04226908615334314, 0.5568181818181818, 'gini = 0.0\\nsamples = 1\\nvalue = [1, 0]'),\n",
              " Text(0.04310609776034004, 0.6022727272727273, 'x[1] <= 95000.0\\ngini = 0.5\\nsamples = 2\\nvalue = [1, 1]'),\n",
              " Text(0.04268759195684159, 0.5795454545454546, 'gini = 0.0\\nsamples = 1\\nvalue = [1, 0]'),\n",
              " Text(0.043524603563838485, 0.5795454545454546, 'gini = 0.0\\nsamples = 1\\nvalue = [0, 1]'),\n",
              " Text(0.04606179499754782, 0.6704545454545454, 'x[5] <= 28.5\\ngini = 0.491\\nsamples = 99\\nvalue = [56, 43]'),\n",
              " Text(0.04394310936733693, 0.6477272727272727, 'x[0] <= 8126.5\\ngini = 0.198\\nsamples = 9\\nvalue = [8, 1]'),\n",
              " Text(0.043524603563838485, 0.625, 'gini = 0.0\\nsamples = 6\\nvalue = [6, 0]'),\n",
              " Text(0.044361615170835374, 0.625, 'x[0] <= 11496.0\\ngini = 0.444\\nsamples = 3\\nvalue = [2, 1]'),\n",
              " Text(0.04394310936733693, 0.6022727272727273, 'gini = 0.0\\nsamples = 1\\nvalue = [0, 1]'),\n",
              " Text(0.04478012097433382, 0.6022727272727273, 'gini = 0.0\\nsamples = 2\\nvalue = [2, 0]'),\n",
              " Text(0.048180480627758704, 0.6477272727272727, 'x[5] <= 48.5\\ngini = 0.498\\nsamples = 90\\nvalue = [48, 42]'),\n",
              " Text(0.047761974824260256, 0.625, 'x[0] <= 4006.0\\ngini = 0.5\\nsamples = 85\\nvalue = [43, 42]'),\n",
              " Text(0.04561713258133072, 0.6022727272727273, 'x[0] <= 1995.5\\ngini = 0.435\\nsamples = 25\\nvalue = [17, 8]'),\n",
              " Text(0.04519862677783227, 0.5795454545454546, 'x[5] <= 35.5\\ngini = 0.49\\nsamples = 14\\nvalue = [6, 8]'),\n",
              " Text(0.044361615170835374, 0.5568181818181818, 'x[1] <= 245000.0\\ngini = 0.32\\nsamples = 5\\nvalue = [4, 1]'),\n",
              " Text(0.04394310936733693, 0.5340909090909091, 'gini = 0.0\\nsamples = 4\\nvalue = [4, 0]'),\n",
              " Text(0.04478012097433382, 0.5340909090909091, 'gini = 0.0\\nsamples = 1\\nvalue = [0, 1]'),\n",
              " Text(0.046035638384829165, 0.5568181818181818, 'x[1] <= 250000.0\\ngini = 0.346\\nsamples = 9\\nvalue = [2, 7]'),\n",
              " Text(0.04561713258133072, 0.5340909090909091, 'gini = 0.0\\nsamples = 6\\nvalue = [0, 6]'),\n",
              " Text(0.04645414418832761, 0.5340909090909091, 'x[0] <= 1371.0\\ngini = 0.444\\nsamples = 3\\nvalue = [2, 1]'),\n",
              " Text(0.046035638384829165, 0.5113636363636364, 'gini = 0.0\\nsamples = 2\\nvalue = [2, 0]'),\n",
              " Text(0.04687264999182606, 0.5113636363636364, 'gini = 0.0\\nsamples = 1\\nvalue = [0, 1]'),\n",
              " Text(0.046035638384829165, 0.5795454545454546, 'gini = 0.0\\nsamples = 11\\nvalue = [11, 0]'),\n",
              " Text(0.0499068170671898, 0.6022727272727273, 'x[14] <= 428.0\\ngini = 0.491\\nsamples = 60\\nvalue = [26, 34]'),\n",
              " Text(0.049488311263691354, 0.5795454545454546, 'x[15] <= -9.0\\ngini = 0.497\\nsamples = 56\\nvalue = [26, 30]'),\n",
              " Text(0.049069805460192906, 0.5568181818181818, 'gini = 0.0\\nsamples = 2\\nvalue = [2, 0]'),\n",
              " Text(0.0499068170671898, 0.5568181818181818, 'x[0] <= 12724.5\\ngini = 0.494\\nsamples = 54\\nvalue = [24, 30]'),\n",
              " Text(0.04875592610756907, 0.5340909090909091, 'x[5] <= 30.5\\ngini = 0.499\\nsamples = 48\\nvalue = [23, 25]'),\n",
              " Text(0.04770966159882295, 0.5113636363636364, 'x[22] <= 5046.0\\ngini = 0.32\\nsamples = 10\\nvalue = [2, 8]'),\n",
              " Text(0.0472911557953245, 0.48863636363636365, 'x[1] <= 245000.0\\ngini = 0.198\\nsamples = 9\\nvalue = [1, 8]'),\n",
              " Text(0.04687264999182606, 0.4659090909090909, 'gini = 0.0\\nsamples = 8\\nvalue = [0, 8]'),\n",
              " Text(0.04770966159882295, 0.4659090909090909, 'gini = 0.0\\nsamples = 1\\nvalue = [1, 0]'),\n",
              " Text(0.0481281674023214, 0.48863636363636365, 'gini = 0.0\\nsamples = 1\\nvalue = [1, 0]'),\n",
              " Text(0.04980219061631519, 0.5113636363636364, 'x[0] <= 4716.0\\ngini = 0.494\\nsamples = 38\\nvalue = [21, 17]'),\n",
              " Text(0.048965179009318294, 0.48863636363636365, 'x[5] <= 34.0\\ngini = 0.278\\nsamples = 6\\nvalue = [1, 5]'),\n",
              " Text(0.048546673205819846, 0.4659090909090909, 'gini = 0.0\\nsamples = 1\\nvalue = [1, 0]'),\n",
              " Text(0.04938368481281674, 0.4659090909090909, 'gini = 0.0\\nsamples = 5\\nvalue = [0, 5]'),\n",
              " Text(0.05063920222331208, 0.48863636363636365, 'x[1] <= 155000.0\\ngini = 0.469\\nsamples = 32\\nvalue = [20, 12]'),\n",
              " Text(0.05022069641981364, 0.4659090909090909, 'gini = 0.0\\nsamples = 2\\nvalue = [0, 2]'),\n",
              " Text(0.051057708026810526, 0.4659090909090909, 'x[14] <= 93.0\\ngini = 0.444\\nsamples = 30\\nvalue = [20, 10]'),\n",
              " Text(0.05063920222331208, 0.4431818181818182, 'x[1] <= 170000.0\\ngini = 0.428\\nsamples = 29\\nvalue = [20, 9]'),\n",
              " Text(0.05022069641981364, 0.42045454545454547, 'gini = 0.0\\nsamples = 5\\nvalue = [5, 0]'),\n",
              " Text(0.051057708026810526, 0.42045454545454547, 'x[5] <= 31.5\\ngini = 0.469\\nsamples = 24\\nvalue = [15, 9]'),\n",
              " Text(0.05063920222331208, 0.3977272727272727, 'gini = 0.0\\nsamples = 1\\nvalue = [0, 1]'),\n",
              " Text(0.051476213830308974, 0.3977272727272727, 'x[4] <= 1.5\\ngini = 0.454\\nsamples = 23\\nvalue = [15, 8]'),\n",
              " Text(0.05063920222331208, 0.375, 'x[1] <= 250000.0\\ngini = 0.498\\nsamples = 15\\nvalue = [8, 7]'),\n",
              " Text(0.05022069641981364, 0.3522727272727273, 'x[5] <= 43.5\\ngini = 0.486\\nsamples = 12\\nvalue = [5, 7]'),\n",
              " Text(0.04980219061631519, 0.32954545454545453, 'x[22] <= 515.5\\ngini = 0.42\\nsamples = 10\\nvalue = [3, 7]'),\n",
              " Text(0.04938368481281674, 0.3068181818181818, 'x[1] <= 225000.0\\ngini = 0.346\\nsamples = 9\\nvalue = [2, 7]'),\n",
              " Text(0.048965179009318294, 0.2840909090909091, 'gini = 0.0\\nsamples = 5\\nvalue = [0, 5]'),\n",
              " Text(0.04980219061631519, 0.2840909090909091, 'x[0] <= 11106.0\\ngini = 0.5\\nsamples = 4\\nvalue = [2, 2]'),\n",
              " Text(0.04938368481281674, 0.26136363636363635, 'gini = 0.0\\nsamples = 2\\nvalue = [2, 0]'),\n",
              " Text(0.05022069641981364, 0.26136363636363635, 'gini = 0.0\\nsamples = 2\\nvalue = [0, 2]'),\n",
              " Text(0.05022069641981364, 0.3068181818181818, 'gini = 0.0\\nsamples = 1\\nvalue = [1, 0]'),\n",
              " Text(0.05063920222331208, 0.32954545454545453, 'gini = 0.0\\nsamples = 2\\nvalue = [2, 0]'),\n",
              " Text(0.051057708026810526, 0.3522727272727273, 'gini = 0.0\\nsamples = 3\\nvalue = [3, 0]'),\n",
              " Text(0.05231322543730587, 0.375, 'x[5] <= 41.5\\ngini = 0.219\\nsamples = 8\\nvalue = [7, 1]'),\n",
              " Text(0.05189471963380742, 0.3522727272727273, 'gini = 0.0\\nsamples = 7\\nvalue = [7, 0]'),\n",
              " Text(0.05273173124080432, 0.3522727272727273, 'gini = 0.0\\nsamples = 1\\nvalue = [0, 1]'),\n",
              " Text(0.051476213830308974, 0.4431818181818182, 'gini = 0.0\\nsamples = 1\\nvalue = [0, 1]'),\n",
              " Text(0.051057708026810526, 0.5340909090909091, 'x[8] <= -1.5\\ngini = 0.278\\nsamples = 6\\nvalue = [1, 5]'),\n",
              " Text(0.05063920222331208, 0.5113636363636364, 'gini = 0.0\\nsamples = 5\\nvalue = [0, 5]'),\n",
              " Text(0.051476213830308974, 0.5113636363636364, 'gini = 0.0\\nsamples = 1\\nvalue = [1, 0]'),\n",
              " Text(0.05032532287068824, 0.5795454545454546, 'gini = 0.0\\nsamples = 4\\nvalue = [0, 4]'),\n",
              " Text(0.04859898643125715, 0.625, 'gini = 0.0\\nsamples = 5\\nvalue = [5, 0]'),\n",
              " Text(0.06094490763446134, 0.7159090909090909, 'x[1] <= 125000.0\\ngini = 0.404\\nsamples = 185\\nvalue = [133, 52]'),\n",
              " Text(0.054615007356547327, 0.6931818181818182, 'x[5] <= 24.5\\ngini = 0.479\\nsamples = 73\\nvalue = [44, 29]'),\n",
              " Text(0.05419650155304888, 0.6704545454545454, 'gini = 0.0\\nsamples = 7\\nvalue = [7, 0]'),\n",
              " Text(0.055033513160045774, 0.6704545454545454, 'x[11] <= -1.5\\ngini = 0.493\\nsamples = 66\\nvalue = [37, 29]'),\n",
              " Text(0.054615007356547327, 0.6477272727272727, 'x[1] <= 15000.0\\ngini = 0.498\\nsamples = 62\\nvalue = [33, 29]'),\n",
              " Text(0.05419650155304888, 0.625, 'gini = 0.0\\nsamples = 3\\nvalue = [3, 0]'),\n",
              " Text(0.055033513160045774, 0.625, 'x[3] <= 1.5\\ngini = 0.5\\nsamples = 59\\nvalue = [30, 29]'),\n",
              " Text(0.05231322543730587, 0.6022727272727273, 'x[0] <= 14752.0\\ngini = 0.444\\nsamples = 21\\nvalue = [14, 7]'),\n",
              " Text(0.05189471963380742, 0.5795454545454546, 'gini = 0.0\\nsamples = 2\\nvalue = [0, 2]'),\n",
              " Text(0.05273173124080432, 0.5795454545454546, 'x[0] <= 20849.5\\ngini = 0.388\\nsamples = 19\\nvalue = [14, 5]'),\n",
              " Text(0.05231322543730587, 0.5568181818181818, 'gini = 0.0\\nsamples = 8\\nvalue = [8, 0]'),\n",
              " Text(0.053150237044302766, 0.5568181818181818, 'x[5] <= 39.0\\ngini = 0.496\\nsamples = 11\\nvalue = [6, 5]'),\n",
              " Text(0.05273173124080432, 0.5340909090909091, 'x[13] <= -9.0\\ngini = 0.469\\nsamples = 8\\nvalue = [3, 5]'),\n",
              " Text(0.05231322543730587, 0.5113636363636364, 'gini = 0.0\\nsamples = 1\\nvalue = [1, 0]'),\n",
              " Text(0.053150237044302766, 0.5113636363636364, 'x[1] <= 85000.0\\ngini = 0.408\\nsamples = 7\\nvalue = [2, 5]'),\n",
              " Text(0.05273173124080432, 0.48863636363636365, 'gini = 0.0\\nsamples = 3\\nvalue = [0, 3]'),\n",
              " Text(0.05356874284780121, 0.48863636363636365, 'x[1] <= 95000.0\\ngini = 0.5\\nsamples = 4\\nvalue = [2, 2]'),\n",
              " Text(0.053150237044302766, 0.4659090909090909, 'gini = 0.0\\nsamples = 2\\nvalue = [2, 0]'),\n",
              " Text(0.053987248651299655, 0.4659090909090909, 'gini = 0.0\\nsamples = 2\\nvalue = [0, 2]'),\n",
              " Text(0.05356874284780121, 0.5340909090909091, 'gini = 0.0\\nsamples = 3\\nvalue = [3, 0]'),\n",
              " Text(0.05775380088278568, 0.6022727272727273, 'x[0] <= 16106.5\\ngini = 0.488\\nsamples = 38\\nvalue = [16, 22]'),\n",
              " Text(0.05733529507928723, 0.5795454545454546, 'gini = 0.0\\nsamples = 3\\nvalue = [3, 0]'),\n",
              " Text(0.05817230668628413, 0.5795454545454546, 'x[12] <= -97.0\\ngini = 0.467\\nsamples = 35\\nvalue = [13, 22]'),\n",
              " Text(0.05775380088278568, 0.5568181818181818, 'gini = 0.0\\nsamples = 2\\nvalue = [2, 0]'),\n",
              " Text(0.058590812489782575, 0.5568181818181818, 'x[1] <= 85000.0\\ngini = 0.444\\nsamples = 33\\nvalue = [11, 22]'),\n",
              " Text(0.05691678927578878, 0.5340909090909091, 'x[1] <= 70000.0\\ngini = 0.49\\nsamples = 21\\nvalue = [9, 12]'),\n",
              " Text(0.056079777668791894, 0.5113636363636364, 'x[0] <= 27970.5\\ngini = 0.43\\nsamples = 16\\nvalue = [5, 11]'),\n",
              " Text(0.055661271865293446, 0.48863636363636365, 'x[0] <= 22532.5\\ngini = 0.486\\nsamples = 12\\nvalue = [5, 7]'),\n",
              " Text(0.05482426025829655, 0.4659090909090909, 'x[0] <= 17357.5\\ngini = 0.375\\nsamples = 8\\nvalue = [2, 6]'),\n",
              " Text(0.0544057544547981, 0.4431818181818182, 'x[2] <= 1.5\\ngini = 0.5\\nsamples = 4\\nvalue = [2, 2]'),\n",
              " Text(0.053987248651299655, 0.42045454545454547, 'gini = 0.0\\nsamples = 2\\nvalue = [2, 0]'),\n",
              " Text(0.05482426025829655, 0.42045454545454547, 'gini = 0.0\\nsamples = 2\\nvalue = [0, 2]'),\n",
              " Text(0.055242766061795, 0.4431818181818182, 'gini = 0.0\\nsamples = 4\\nvalue = [0, 4]'),\n",
              " Text(0.056498283472290335, 0.4659090909090909, 'x[5] <= 46.0\\ngini = 0.375\\nsamples = 4\\nvalue = [3, 1]'),\n",
              " Text(0.056079777668791894, 0.4431818181818182, 'gini = 0.0\\nsamples = 2\\nvalue = [2, 0]'),\n",
              " Text(0.05691678927578878, 0.4431818181818182, 'x[5] <= 49.5\\ngini = 0.5\\nsamples = 2\\nvalue = [1, 1]'),\n",
              " Text(0.056498283472290335, 0.42045454545454547, 'gini = 0.0\\nsamples = 1\\nvalue = [0, 1]'),\n",
              " Text(0.05733529507928723, 0.42045454545454547, 'gini = 0.0\\nsamples = 1\\nvalue = [1, 0]'),\n",
              " Text(0.056498283472290335, 0.48863636363636365, 'gini = 0.0\\nsamples = 4\\nvalue = [0, 4]'),\n",
              " Text(0.05775380088278568, 0.5113636363636364, 'x[0] <= 19557.0\\ngini = 0.32\\nsamples = 5\\nvalue = [4, 1]'),\n",
              " Text(0.05733529507928723, 0.48863636363636365, 'gini = 0.0\\nsamples = 1\\nvalue = [0, 1]'),\n",
              " Text(0.05817230668628413, 0.48863636363636365, 'gini = 0.0\\nsamples = 4\\nvalue = [4, 0]'),\n",
              " Text(0.06026483570377636, 0.5340909090909091, 'x[5] <= 46.5\\ngini = 0.278\\nsamples = 12\\nvalue = [2, 10]'),\n",
              " Text(0.05942782409677947, 0.5113636363636364, 'x[0] <= 22407.5\\ngini = 0.18\\nsamples = 10\\nvalue = [1, 9]'),\n",
              " Text(0.05900931829328102, 0.48863636363636365, 'gini = 0.0\\nsamples = 6\\nvalue = [0, 6]'),\n",
              " Text(0.05984632990027791, 0.48863636363636365, 'x[5] <= 30.0\\ngini = 0.375\\nsamples = 4\\nvalue = [1, 3]'),\n",
              " Text(0.05942782409677947, 0.4659090909090909, 'gini = 0.0\\nsamples = 1\\nvalue = [1, 0]'),\n",
              " Text(0.06026483570377636, 0.4659090909090909, 'gini = 0.0\\nsamples = 3\\nvalue = [0, 3]'),\n",
              " Text(0.061101847310773255, 0.5113636363636364, 'x[4] <= 2.0\\ngini = 0.5\\nsamples = 2\\nvalue = [1, 1]'),\n",
              " Text(0.06068334150727481, 0.48863636363636365, 'gini = 0.0\\nsamples = 1\\nvalue = [1, 0]'),\n",
              " Text(0.0615203531142717, 0.48863636363636365, 'gini = 0.0\\nsamples = 1\\nvalue = [0, 1]'),\n",
              " Text(0.05545201896354422, 0.6477272727272727, 'gini = 0.0\\nsamples = 4\\nvalue = [4, 0]'),\n",
              " Text(0.06727480791237535, 0.6931818181818182, 'x[23] <= 75.0\\ngini = 0.326\\nsamples = 112\\nvalue = [89, 23]'),\n",
              " Text(0.0668563021088769, 0.6704545454545454, 'x[0] <= 23368.5\\ngini = 0.309\\nsamples = 110\\nvalue = [89, 21]'),\n",
              " Text(0.06403138793526238, 0.6477272727272727, 'x[2] <= 1.5\\ngini = 0.18\\nsamples = 60\\nvalue = [54, 6]'),\n",
              " Text(0.0631943763282655, 0.625, 'x[5] <= 39.5\\ngini = 0.375\\nsamples = 16\\nvalue = [12, 4]'),\n",
              " Text(0.06277587052476705, 0.6022727272727273, 'x[0] <= 17396.5\\ngini = 0.48\\nsamples = 10\\nvalue = [6, 4]'),\n",
              " Text(0.06193885891777015, 0.5795454545454546, 'x[5] <= 34.5\\ngini = 0.48\\nsamples = 5\\nvalue = [2, 3]'),\n",
              " Text(0.0615203531142717, 0.5568181818181818, 'x[13] <= 593.0\\ngini = 0.444\\nsamples = 3\\nvalue = [2, 1]'),\n",
              " Text(0.061101847310773255, 0.5340909090909091, 'gini = 0.0\\nsamples = 2\\nvalue = [2, 0]'),\n",
              " Text(0.06193885891777015, 0.5340909090909091, 'gini = 0.0\\nsamples = 1\\nvalue = [0, 1]'),\n",
              " Text(0.0623573647212686, 0.5568181818181818, 'gini = 0.0\\nsamples = 2\\nvalue = [0, 2]'),\n",
              " Text(0.06361288213176394, 0.5795454545454546, 'x[0] <= 20881.0\\ngini = 0.32\\nsamples = 5\\nvalue = [4, 1]'),\n",
              " Text(0.0631943763282655, 0.5568181818181818, 'gini = 0.0\\nsamples = 4\\nvalue = [4, 0]'),\n",
              " Text(0.06403138793526238, 0.5568181818181818, 'gini = 0.0\\nsamples = 1\\nvalue = [0, 1]'),\n",
              " Text(0.06361288213176394, 0.6022727272727273, 'gini = 0.0\\nsamples = 6\\nvalue = [6, 0]'),\n",
              " Text(0.06486839954225927, 0.625, 'x[5] <= 38.5\\ngini = 0.087\\nsamples = 44\\nvalue = [42, 2]'),\n",
              " Text(0.06444989373876082, 0.6022727272727273, 'gini = 0.0\\nsamples = 30\\nvalue = [30, 0]'),\n",
              " Text(0.06528690534575772, 0.6022727272727273, 'x[0] <= 19335.5\\ngini = 0.245\\nsamples = 14\\nvalue = [12, 2]'),\n",
              " Text(0.06486839954225927, 0.5795454545454546, 'gini = 0.0\\nsamples = 8\\nvalue = [8, 0]'),\n",
              " Text(0.06570541114925617, 0.5795454545454546, 'x[0] <= 22587.5\\ngini = 0.444\\nsamples = 6\\nvalue = [4, 2]'),\n",
              " Text(0.06528690534575772, 0.5568181818181818, 'x[1] <= 165000.0\\ngini = 0.444\\nsamples = 3\\nvalue = [1, 2]'),\n",
              " Text(0.06486839954225927, 0.5340909090909091, 'gini = 0.0\\nsamples = 1\\nvalue = [1, 0]'),\n",
              " Text(0.06570541114925617, 0.5340909090909091, 'gini = 0.0\\nsamples = 2\\nvalue = [0, 2]'),\n",
              " Text(0.06612391695275462, 0.5568181818181818, 'gini = 0.0\\nsamples = 3\\nvalue = [3, 0]'),\n",
              " Text(0.06968121628249142, 0.6477272727272727, 'x[0] <= 27369.5\\ngini = 0.42\\nsamples = 50\\nvalue = [35, 15]'),\n",
              " Text(0.06779794016674841, 0.625, 'x[16] <= -57.0\\ngini = 0.49\\nsamples = 28\\nvalue = [16, 12]'),\n",
              " Text(0.06737943436324996, 0.6022727272727273, 'gini = 0.0\\nsamples = 4\\nvalue = [4, 0]'),\n",
              " Text(0.06821644597024686, 0.6022727272727273, 'x[1] <= 170000.0\\ngini = 0.5\\nsamples = 24\\nvalue = [12, 12]'),\n",
              " Text(0.06737943436324996, 0.5795454545454546, 'x[0] <= 24303.5\\ngini = 0.32\\nsamples = 5\\nvalue = [1, 4]'),\n",
              " Text(0.06696092855975151, 0.5568181818181818, 'gini = 0.0\\nsamples = 1\\nvalue = [1, 0]'),\n",
              " Text(0.06779794016674841, 0.5568181818181818, 'gini = 0.0\\nsamples = 4\\nvalue = [0, 4]'),\n",
              " Text(0.06905345757724375, 0.5795454545454546, 'x[0] <= 27030.5\\ngini = 0.488\\nsamples = 19\\nvalue = [11, 8]'),\n",
              " Text(0.0686349517737453, 0.5568181818181818, 'x[0] <= 26254.0\\ngini = 0.457\\nsamples = 17\\nvalue = [11, 6]'),\n",
              " Text(0.06821644597024686, 0.5340909090909091, 'x[14] <= 237.0\\ngini = 0.497\\nsamples = 13\\nvalue = [7, 6]'),\n",
              " Text(0.06779794016674841, 0.5113636363636364, 'x[5] <= 38.5\\ngini = 0.496\\nsamples = 11\\nvalue = [5, 6]'),\n",
              " Text(0.06696092855975151, 0.48863636363636365, 'x[0] <= 26044.5\\ngini = 0.408\\nsamples = 7\\nvalue = [2, 5]'),\n",
              " Text(0.06654242275625306, 0.4659090909090909, 'x[2] <= 1.5\\ngini = 0.278\\nsamples = 6\\nvalue = [1, 5]'),\n",
              " Text(0.06612391695275462, 0.4431818181818182, 'x[5] <= 33.0\\ngini = 0.5\\nsamples = 2\\nvalue = [1, 1]'),\n",
              " Text(0.06570541114925617, 0.42045454545454547, 'gini = 0.0\\nsamples = 1\\nvalue = [0, 1]'),\n",
              " Text(0.06654242275625306, 0.42045454545454547, 'gini = 0.0\\nsamples = 1\\nvalue = [1, 0]'),\n",
              " Text(0.06696092855975151, 0.4431818181818182, 'gini = 0.0\\nsamples = 4\\nvalue = [0, 4]'),\n",
              " Text(0.06737943436324996, 0.4659090909090909, 'gini = 0.0\\nsamples = 1\\nvalue = [1, 0]'),\n",
              " Text(0.0686349517737453, 0.48863636363636365, 'x[5] <= 43.5\\ngini = 0.375\\nsamples = 4\\nvalue = [3, 1]'),\n",
              " Text(0.06821644597024686, 0.4659090909090909, 'gini = 0.0\\nsamples = 3\\nvalue = [3, 0]'),\n",
              " Text(0.06905345757724375, 0.4659090909090909, 'gini = 0.0\\nsamples = 1\\nvalue = [0, 1]'),\n",
              " Text(0.0686349517737453, 0.5113636363636364, 'gini = 0.0\\nsamples = 2\\nvalue = [2, 0]'),\n",
              " Text(0.06905345757724375, 0.5340909090909091, 'gini = 0.0\\nsamples = 4\\nvalue = [4, 0]'),\n",
              " Text(0.0694719633807422, 0.5568181818181818, 'gini = 0.0\\nsamples = 2\\nvalue = [0, 2]'),\n",
              " Text(0.07156449239823442, 0.625, 'x[0] <= 29948.5\\ngini = 0.236\\nsamples = 22\\nvalue = [19, 3]'),\n",
              " Text(0.07114598659473598, 0.6022727272727273, 'x[5] <= 28.5\\ngini = 0.172\\nsamples = 21\\nvalue = [19, 2]'),\n",
              " Text(0.07072748079123753, 0.5795454545454546, 'x[3] <= 1.5\\ngini = 0.5\\nsamples = 4\\nvalue = [2, 2]'),\n",
              " Text(0.07030897498773908, 0.5568181818181818, 'x[0] <= 29426.0\\ngini = 0.444\\nsamples = 3\\nvalue = [2, 1]'),\n",
              " Text(0.06989046918424065, 0.5340909090909091, 'gini = 0.0\\nsamples = 2\\nvalue = [2, 0]'),\n",
              " Text(0.07072748079123753, 0.5340909090909091, 'gini = 0.0\\nsamples = 1\\nvalue = [0, 1]'),\n",
              " Text(0.07114598659473598, 0.5568181818181818, 'gini = 0.0\\nsamples = 1\\nvalue = [0, 1]'),\n",
              " Text(0.07156449239823442, 0.5795454545454546, 'gini = 0.0\\nsamples = 17\\nvalue = [17, 0]'),\n",
              " Text(0.07198299820173287, 0.6022727272727273, 'gini = 0.0\\nsamples = 1\\nvalue = [0, 1]'),\n",
              " Text(0.0676933137158738, 0.6704545454545454, 'gini = 0.0\\nsamples = 2\\nvalue = [0, 2]'),\n",
              " Text(0.07020434853686447, 0.7386363636363636, 'x[0] <= 21306.0\\ngini = 0.386\\nsamples = 23\\nvalue = [6, 17]'),\n",
              " Text(0.06936733692986759, 0.7159090909090909, 'x[0] <= 6319.0\\ngini = 0.208\\nsamples = 17\\nvalue = [2, 15]'),\n",
              " Text(0.06894883112636914, 0.6931818181818182, 'x[0] <= 2959.5\\ngini = 0.48\\nsamples = 5\\nvalue = [2, 3]'),\n",
              " Text(0.06853032532287069, 0.6704545454545454, 'gini = 0.0\\nsamples = 3\\nvalue = [0, 3]'),\n",
              " Text(0.06936733692986759, 0.6704545454545454, 'gini = 0.0\\nsamples = 2\\nvalue = [2, 0]'),\n",
              " Text(0.06978584273336604, 0.6931818181818182, 'gini = 0.0\\nsamples = 12\\nvalue = [0, 12]'),\n",
              " Text(0.07104136014386137, 0.7159090909090909, 'x[0] <= 27036.0\\ngini = 0.444\\nsamples = 6\\nvalue = [4, 2]'),\n",
              " Text(0.07062285434036292, 0.6931818181818182, 'gini = 0.0\\nsamples = 4\\nvalue = [4, 0]'),\n",
              " Text(0.07145986594735981, 0.6931818181818182, 'gini = 0.0\\nsamples = 2\\nvalue = [0, 2]'),\n",
              " Text(0.0757495504332189, 0.7613636363636364, 'x[18] <= 4013.0\\ngini = 0.225\\nsamples = 62\\nvalue = [54, 8]'),\n",
              " Text(0.07491253882622201, 0.7386363636363636, 'x[10] <= 0.5\\ngini = 0.158\\nsamples = 58\\nvalue = [53, 5]'),\n",
              " Text(0.07449403302272356, 0.7159090909090909, 'x[5] <= 30.5\\ngini = 0.131\\nsamples = 57\\nvalue = [53, 4]'),\n",
              " Text(0.07407552721922511, 0.6931818181818182, 'x[11] <= -0.5\\ngini = 0.332\\nsamples = 19\\nvalue = [15, 4]'),\n",
              " Text(0.07365702141572666, 0.6704545454545454, 'x[5] <= 23.5\\ngini = 0.208\\nsamples = 17\\nvalue = [15, 2]'),\n",
              " Text(0.07282000980872977, 0.6477272727272727, 'x[1] <= 45000.0\\ngini = 0.5\\nsamples = 2\\nvalue = [1, 1]'),\n",
              " Text(0.07240150400523132, 0.625, 'gini = 0.0\\nsamples = 1\\nvalue = [1, 0]'),\n",
              " Text(0.07323851561222822, 0.625, 'gini = 0.0\\nsamples = 1\\nvalue = [0, 1]'),\n",
              " Text(0.07449403302272356, 0.6477272727272727, 'x[21] <= 31447.0\\ngini = 0.124\\nsamples = 15\\nvalue = [14, 1]'),\n",
              " Text(0.07407552721922511, 0.625, 'gini = 0.0\\nsamples = 13\\nvalue = [13, 0]'),\n",
              " Text(0.07491253882622201, 0.625, 'x[0] <= 5910.0\\ngini = 0.5\\nsamples = 2\\nvalue = [1, 1]'),\n",
              " Text(0.07449403302272356, 0.6022727272727273, 'gini = 0.0\\nsamples = 1\\nvalue = [0, 1]'),\n",
              " Text(0.07533104462972046, 0.6022727272727273, 'gini = 0.0\\nsamples = 1\\nvalue = [1, 0]'),\n",
              " Text(0.07449403302272356, 0.6704545454545454, 'gini = 0.0\\nsamples = 2\\nvalue = [0, 2]'),\n",
              " Text(0.07491253882622201, 0.6931818181818182, 'gini = 0.0\\nsamples = 38\\nvalue = [38, 0]'),\n",
              " Text(0.07533104462972046, 0.7159090909090909, 'gini = 0.0\\nsamples = 1\\nvalue = [0, 1]'),\n",
              " Text(0.07658656204021579, 0.7386363636363636, 'x[19] <= 34217.5\\ngini = 0.375\\nsamples = 4\\nvalue = [1, 3]'),\n",
              " Text(0.07616805623671735, 0.7159090909090909, 'gini = 0.0\\nsamples = 3\\nvalue = [0, 3]'),\n",
              " Text(0.07700506784371423, 0.7159090909090909, 'gini = 0.0\\nsamples = 1\\nvalue = [1, 0]'),\n",
              " Text(0.08596370769985287, 0.8068181818181818, 'x[0] <= 15487.0\\ngini = 0.495\\nsamples = 202\\nvalue = [111, 91]'),\n",
              " Text(0.08155631845675985, 0.7840909090909091, 'x[22] <= 1415.0\\ngini = 0.499\\nsamples = 116\\nvalue = [55, 61]'),\n",
              " Text(0.08071930684976296, 0.7613636363636364, 'x[11] <= -1.5\\ngini = 0.492\\nsamples = 103\\nvalue = [45, 58]'),\n",
              " Text(0.08030080104626451, 0.7386363636363636, 'x[19] <= 2.0\\ngini = 0.499\\nsamples = 95\\nvalue = [45, 50]'),\n",
              " Text(0.07925453653751839, 0.7159090909090909, 'x[0] <= 13224.5\\ngini = 0.492\\nsamples = 87\\nvalue = [38, 49]'),\n",
              " Text(0.0784175249305215, 0.6931818181818182, 'x[0] <= 11317.5\\ngini = 0.498\\nsamples = 79\\nvalue = [37, 42]'),\n",
              " Text(0.07799901912702305, 0.6704545454545454, 'x[5] <= 27.5\\ngini = 0.489\\nsamples = 73\\nvalue = [31, 42]'),\n",
              " Text(0.0775805133235246, 0.6477272727272727, 'gini = 0.0\\nsamples = 3\\nvalue = [3, 0]'),\n",
              " Text(0.0784175249305215, 0.6477272727272727, 'x[5] <= 52.5\\ngini = 0.48\\nsamples = 70\\nvalue = [28, 42]'),\n",
              " Text(0.07799901912702305, 0.625, 'x[12] <= -3.0\\ngini = 0.472\\nsamples = 68\\nvalue = [26, 42]'),\n",
              " Text(0.07616805623671735, 0.6022727272727273, 'x[0] <= 4558.5\\ngini = 0.444\\nsamples = 6\\nvalue = [4, 2]'),\n",
              " Text(0.0757495504332189, 0.5795454545454546, 'x[15] <= -599.0\\ngini = 0.444\\nsamples = 3\\nvalue = [1, 2]'),\n",
              " Text(0.07533104462972046, 0.5568181818181818, 'gini = 0.0\\nsamples = 1\\nvalue = [1, 0]'),\n",
              " Text(0.07616805623671735, 0.5568181818181818, 'gini = 0.0\\nsamples = 2\\nvalue = [0, 2]'),\n",
              " Text(0.07658656204021579, 0.5795454545454546, 'gini = 0.0\\nsamples = 3\\nvalue = [3, 0]'),\n",
              " Text(0.07982998201732876, 0.6022727272727273, 'x[5] <= 32.5\\ngini = 0.458\\nsamples = 62\\nvalue = [22, 40]'),\n",
              " Text(0.07784207945071113, 0.5795454545454546, 'x[3] <= 1.5\\ngini = 0.5\\nsamples = 20\\nvalue = [10, 10]'),\n",
              " Text(0.07700506784371423, 0.5568181818181818, 'x[0] <= 6147.5\\ngini = 0.444\\nsamples = 12\\nvalue = [8, 4]'),\n",
              " Text(0.07658656204021579, 0.5340909090909091, 'gini = 0.0\\nsamples = 5\\nvalue = [5, 0]'),\n",
              " Text(0.07742357364721268, 0.5340909090909091, 'x[5] <= 30.5\\ngini = 0.49\\nsamples = 7\\nvalue = [3, 4]'),\n",
              " Text(0.07700506784371423, 0.5113636363636364, 'x[0] <= 6242.0\\ngini = 0.375\\nsamples = 4\\nvalue = [3, 1]'),\n",
              " Text(0.07658656204021579, 0.48863636363636365, 'gini = 0.0\\nsamples = 1\\nvalue = [0, 1]'),\n",
              " Text(0.07742357364721268, 0.48863636363636365, 'gini = 0.0\\nsamples = 3\\nvalue = [3, 0]'),\n",
              " Text(0.07784207945071113, 0.5113636363636364, 'gini = 0.0\\nsamples = 3\\nvalue = [0, 3]'),\n",
              " Text(0.07867909105770803, 0.5568181818181818, 'x[0] <= 8096.5\\ngini = 0.375\\nsamples = 8\\nvalue = [2, 6]'),\n",
              " Text(0.07826058525420958, 0.5340909090909091, 'gini = 0.0\\nsamples = 6\\nvalue = [0, 6]'),\n",
              " Text(0.07909759686120647, 0.5340909090909091, 'gini = 0.0\\nsamples = 2\\nvalue = [2, 0]'),\n",
              " Text(0.08181788458394638, 0.5795454545454546, 'x[5] <= 46.5\\ngini = 0.408\\nsamples = 42\\nvalue = [12, 30]'),\n",
              " Text(0.08035311427170182, 0.5568181818181818, 'x[5] <= 35.5\\ngini = 0.342\\nsamples = 32\\nvalue = [7, 25]'),\n",
              " Text(0.07993460846820337, 0.5340909090909091, 'gini = 0.0\\nsamples = 5\\nvalue = [0, 5]'),\n",
              " Text(0.08077162007520026, 0.5340909090909091, 'x[5] <= 42.5\\ngini = 0.384\\nsamples = 27\\nvalue = [7, 20]'),\n",
              " Text(0.08035311427170182, 0.5113636363636364, 'x[0] <= 6103.5\\ngini = 0.423\\nsamples = 23\\nvalue = [7, 16]'),\n",
              " Text(0.07951610266470492, 0.48863636363636365, 'x[0] <= 2232.0\\ngini = 0.278\\nsamples = 12\\nvalue = [2, 10]'),\n",
              " Text(0.07909759686120647, 0.4659090909090909, 'x[1] <= 355000.0\\ngini = 0.444\\nsamples = 6\\nvalue = [2, 4]'),\n",
              " Text(0.07867909105770803, 0.4431818181818182, 'gini = 0.0\\nsamples = 1\\nvalue = [1, 0]'),\n",
              " Text(0.07951610266470492, 0.4431818181818182, 'x[0] <= 1630.0\\ngini = 0.32\\nsamples = 5\\nvalue = [1, 4]'),\n",
              " Text(0.07909759686120647, 0.42045454545454547, 'gini = 0.0\\nsamples = 4\\nvalue = [0, 4]'),\n",
              " Text(0.07993460846820337, 0.42045454545454547, 'gini = 0.0\\nsamples = 1\\nvalue = [1, 0]'),\n",
              " Text(0.07993460846820337, 0.4659090909090909, 'gini = 0.0\\nsamples = 6\\nvalue = [0, 6]'),\n",
              " Text(0.08119012587869871, 0.48863636363636365, 'x[0] <= 10324.0\\ngini = 0.496\\nsamples = 11\\nvalue = [5, 6]'),\n",
              " Text(0.08077162007520026, 0.4659090909090909, 'x[1] <= 350000.0\\ngini = 0.494\\nsamples = 9\\nvalue = [5, 4]'),\n",
              " Text(0.08035311427170182, 0.4431818181818182, 'gini = 0.0\\nsamples = 1\\nvalue = [0, 1]'),\n",
              " Text(0.08119012587869871, 0.4431818181818182, 'x[3] <= 2.5\\ngini = 0.469\\nsamples = 8\\nvalue = [5, 3]'),\n",
              " Text(0.08077162007520026, 0.42045454545454547, 'x[1] <= 425000.0\\ngini = 0.408\\nsamples = 7\\nvalue = [5, 2]'),\n",
              " Text(0.08035311427170182, 0.3977272727272727, 'gini = 0.0\\nsamples = 3\\nvalue = [3, 0]'),\n",
              " Text(0.08119012587869871, 0.3977272727272727, 'x[5] <= 37.5\\ngini = 0.5\\nsamples = 4\\nvalue = [2, 2]'),\n",
              " Text(0.08077162007520026, 0.375, 'gini = 0.0\\nsamples = 1\\nvalue = [0, 1]'),\n",
              " Text(0.08160863168219716, 0.375, 'x[5] <= 41.0\\ngini = 0.444\\nsamples = 3\\nvalue = [2, 1]'),\n",
              " Text(0.08119012587869871, 0.3522727272727273, 'gini = 0.0\\nsamples = 2\\nvalue = [2, 0]'),\n",
              " Text(0.08202713748569561, 0.3522727272727273, 'gini = 0.0\\nsamples = 1\\nvalue = [0, 1]'),\n",
              " Text(0.08160863168219716, 0.42045454545454547, 'gini = 0.0\\nsamples = 1\\nvalue = [0, 1]'),\n",
              " Text(0.08160863168219716, 0.4659090909090909, 'gini = 0.0\\nsamples = 2\\nvalue = [0, 2]'),\n",
              " Text(0.08119012587869871, 0.5113636363636364, 'gini = 0.0\\nsamples = 4\\nvalue = [0, 4]'),\n",
              " Text(0.08328265489619094, 0.5568181818181818, 'x[0] <= 10254.5\\ngini = 0.5\\nsamples = 10\\nvalue = [5, 5]'),\n",
              " Text(0.08286414909269249, 0.5340909090909091, 'x[1] <= 605000.0\\ngini = 0.469\\nsamples = 8\\nvalue = [3, 5]'),\n",
              " Text(0.08244564328919404, 0.5113636363636364, 'x[0] <= 235.0\\ngini = 0.408\\nsamples = 7\\nvalue = [2, 5]'),\n",
              " Text(0.08202713748569561, 0.48863636363636365, 'gini = 0.0\\nsamples = 1\\nvalue = [1, 0]'),\n",
              " Text(0.08286414909269249, 0.48863636363636365, 'x[5] <= 51.5\\ngini = 0.278\\nsamples = 6\\nvalue = [1, 5]'),\n",
              " Text(0.08244564328919404, 0.4659090909090909, 'gini = 0.0\\nsamples = 4\\nvalue = [0, 4]'),\n",
              " Text(0.08328265489619094, 0.4659090909090909, 'x[3] <= 2.0\\ngini = 0.5\\nsamples = 2\\nvalue = [1, 1]'),\n",
              " Text(0.08286414909269249, 0.4431818181818182, 'gini = 0.0\\nsamples = 1\\nvalue = [1, 0]'),\n",
              " Text(0.08370116069968939, 0.4431818181818182, 'gini = 0.0\\nsamples = 1\\nvalue = [0, 1]'),\n",
              " Text(0.08328265489619094, 0.5113636363636364, 'gini = 0.0\\nsamples = 1\\nvalue = [1, 0]'),\n",
              " Text(0.08370116069968939, 0.5340909090909091, 'gini = 0.0\\nsamples = 2\\nvalue = [2, 0]'),\n",
              " Text(0.07883603073401994, 0.625, 'gini = 0.0\\nsamples = 2\\nvalue = [2, 0]'),\n",
              " Text(0.07883603073401994, 0.6704545454545454, 'gini = 0.0\\nsamples = 6\\nvalue = [6, 0]'),\n",
              " Text(0.08009154814451529, 0.6931818181818182, 'x[5] <= 38.5\\ngini = 0.219\\nsamples = 8\\nvalue = [1, 7]'),\n",
              " Text(0.07967304234101684, 0.6704545454545454, 'gini = 0.0\\nsamples = 6\\nvalue = [0, 6]'),\n",
              " Text(0.08051005394801374, 0.6704545454545454, 'x[0] <= 14111.0\\ngini = 0.5\\nsamples = 2\\nvalue = [1, 1]'),\n",
              " Text(0.08009154814451529, 0.6477272727272727, 'gini = 0.0\\nsamples = 1\\nvalue = [0, 1]'),\n",
              " Text(0.08092855975151218, 0.6477272727272727, 'gini = 0.0\\nsamples = 1\\nvalue = [1, 0]'),\n",
              " Text(0.08134706555501063, 0.7159090909090909, 'x[5] <= 46.0\\ngini = 0.219\\nsamples = 8\\nvalue = [7, 1]'),\n",
              " Text(0.08092855975151218, 0.6931818181818182, 'gini = 0.0\\nsamples = 7\\nvalue = [7, 0]'),\n",
              " Text(0.08176557135850908, 0.6931818181818182, 'gini = 0.0\\nsamples = 1\\nvalue = [0, 1]'),\n",
              " Text(0.0811378126532614, 0.7386363636363636, 'gini = 0.0\\nsamples = 8\\nvalue = [0, 8]'),\n",
              " Text(0.08239333006375674, 0.7613636363636364, 'x[15] <= -9.0\\ngini = 0.355\\nsamples = 13\\nvalue = [10, 3]'),\n",
              " Text(0.0819748242602583, 0.7386363636363636, 'gini = 0.0\\nsamples = 2\\nvalue = [0, 2]'),\n",
              " Text(0.08281183586725518, 0.7386363636363636, 'x[23] <= 81.5\\ngini = 0.165\\nsamples = 11\\nvalue = [10, 1]'),\n",
              " Text(0.08239333006375674, 0.7159090909090909, 'gini = 0.0\\nsamples = 10\\nvalue = [10, 0]'),\n",
              " Text(0.08323034167075363, 0.7159090909090909, 'gini = 0.0\\nsamples = 1\\nvalue = [0, 1]'),\n",
              " Text(0.09037109694294589, 0.7840909090909091, 'x[23] <= 0.5\\ngini = 0.454\\nsamples = 86\\nvalue = [56, 30]'),\n",
              " Text(0.08995259113944744, 0.7613636363636364, 'x[18] <= 519.0\\ngini = 0.444\\nsamples = 84\\nvalue = [56, 28]'),\n",
              " Text(0.08804315841098578, 0.7386363636363636, 'x[6] <= -1.5\\ngini = 0.471\\nsamples = 71\\nvalue = [44, 27]'),\n",
              " Text(0.08610756906980546, 0.7159090909090909, 'x[0] <= 27563.5\\ngini = 0.499\\nsamples = 42\\nvalue = [22, 20]'),\n",
              " Text(0.08495667811018473, 0.6931818181818182, 'x[1] <= 425000.0\\ngini = 0.493\\nsamples = 34\\nvalue = [15, 19]'),\n",
              " Text(0.08391041360143861, 0.6704545454545454, 'x[5] <= 30.5\\ngini = 0.459\\nsamples = 28\\nvalue = [10, 18]'),\n",
              " Text(0.08307340199444171, 0.6477272727272727, 'x[2] <= 1.5\\ngini = 0.469\\nsamples = 8\\nvalue = [5, 3]'),\n",
              " Text(0.08265489619094327, 0.625, 'gini = 0.0\\nsamples = 3\\nvalue = [3, 0]'),\n",
              " Text(0.08349190779794016, 0.625, 'x[17] <= 293.0\\ngini = 0.48\\nsamples = 5\\nvalue = [2, 3]'),\n",
              " Text(0.08307340199444171, 0.6022727272727273, 'x[5] <= 29.5\\ngini = 0.375\\nsamples = 4\\nvalue = [1, 3]'),\n",
              " Text(0.08265489619094327, 0.5795454545454546, 'gini = 0.0\\nsamples = 3\\nvalue = [0, 3]'),\n",
              " Text(0.08349190779794016, 0.5795454545454546, 'gini = 0.0\\nsamples = 1\\nvalue = [1, 0]'),\n",
              " Text(0.08391041360143861, 0.6022727272727273, 'gini = 0.0\\nsamples = 1\\nvalue = [1, 0]'),\n",
              " Text(0.0847474252084355, 0.6477272727272727, 'x[17] <= -2.5\\ngini = 0.375\\nsamples = 20\\nvalue = [5, 15]'),\n",
              " Text(0.08432891940493706, 0.625, 'gini = 0.0\\nsamples = 2\\nvalue = [2, 0]'),\n",
              " Text(0.08516593101193395, 0.625, 'x[3] <= 1.5\\ngini = 0.278\\nsamples = 18\\nvalue = [3, 15]'),\n",
              " Text(0.0847474252084355, 0.6022727272727273, 'gini = 0.0\\nsamples = 9\\nvalue = [0, 9]'),\n",
              " Text(0.0855844368154324, 0.6022727272727273, 'x[4] <= 1.5\\ngini = 0.444\\nsamples = 9\\nvalue = [3, 6]'),\n",
              " Text(0.08516593101193395, 0.5795454545454546, 'x[0] <= 25508.0\\ngini = 0.5\\nsamples = 6\\nvalue = [3, 3]'),\n",
              " Text(0.0847474252084355, 0.5568181818181818, 'gini = 0.0\\nsamples = 3\\nvalue = [3, 0]'),\n",
              " Text(0.0855844368154324, 0.5568181818181818, 'gini = 0.0\\nsamples = 3\\nvalue = [0, 3]'),\n",
              " Text(0.08600294261893085, 0.5795454545454546, 'gini = 0.0\\nsamples = 3\\nvalue = [0, 3]'),\n",
              " Text(0.08600294261893085, 0.6704545454545454, 'x[22] <= 575.0\\ngini = 0.278\\nsamples = 6\\nvalue = [5, 1]'),\n",
              " Text(0.0855844368154324, 0.6477272727272727, 'gini = 0.0\\nsamples = 5\\nvalue = [5, 0]'),\n",
              " Text(0.0864214484224293, 0.6477272727272727, 'gini = 0.0\\nsamples = 1\\nvalue = [0, 1]'),\n",
              " Text(0.0872584600294262, 0.6931818181818182, 'x[5] <= 66.0\\ngini = 0.219\\nsamples = 8\\nvalue = [7, 1]'),\n",
              " Text(0.08683995422592775, 0.6704545454545454, 'gini = 0.0\\nsamples = 7\\nvalue = [7, 0]'),\n",
              " Text(0.08767696583292464, 0.6704545454545454, 'gini = 0.0\\nsamples = 1\\nvalue = [0, 1]'),\n",
              " Text(0.08997874775216609, 0.7159090909090909, 'x[1] <= 345000.0\\ngini = 0.366\\nsamples = 29\\nvalue = [22, 7]'),\n",
              " Text(0.08893248324341997, 0.6931818181818182, 'x[3] <= 1.5\\ngini = 0.375\\nsamples = 4\\nvalue = [1, 3]'),\n",
              " Text(0.08851397743992152, 0.6704545454545454, 'gini = 0.0\\nsamples = 3\\nvalue = [0, 3]'),\n",
              " Text(0.08935098904691842, 0.6704545454545454, 'gini = 0.0\\nsamples = 1\\nvalue = [1, 0]'),\n",
              " Text(0.09102501226091221, 0.6931818181818182, 'x[5] <= 46.5\\ngini = 0.269\\nsamples = 25\\nvalue = [21, 4]'),\n",
              " Text(0.09018800065391532, 0.6704545454545454, 'x[11] <= -0.5\\ngini = 0.165\\nsamples = 22\\nvalue = [20, 2]'),\n",
              " Text(0.08976949485041687, 0.6477272727272727, 'x[0] <= 28863.0\\ngini = 0.091\\nsamples = 21\\nvalue = [20, 1]'),\n",
              " Text(0.08935098904691842, 0.625, 'gini = 0.0\\nsamples = 19\\nvalue = [19, 0]'),\n",
              " Text(0.09018800065391532, 0.625, 'x[5] <= 38.0\\ngini = 0.5\\nsamples = 2\\nvalue = [1, 1]'),\n",
              " Text(0.08976949485041687, 0.6022727272727273, 'gini = 0.0\\nsamples = 1\\nvalue = [0, 1]'),\n",
              " Text(0.09060650645741376, 0.6022727272727273, 'gini = 0.0\\nsamples = 1\\nvalue = [1, 0]'),\n",
              " Text(0.09060650645741376, 0.6477272727272727, 'gini = 0.0\\nsamples = 1\\nvalue = [0, 1]'),\n",
              " Text(0.0918620238679091, 0.6704545454545454, 'x[1] <= 440000.0\\ngini = 0.444\\nsamples = 3\\nvalue = [1, 2]'),\n",
              " Text(0.09144351806441066, 0.6477272727272727, 'gini = 0.0\\nsamples = 2\\nvalue = [0, 2]'),\n",
              " Text(0.09228052967140755, 0.6477272727272727, 'gini = 0.0\\nsamples = 1\\nvalue = [1, 0]'),\n",
              " Text(0.0918620238679091, 0.7386363636363636, 'x[18] <= 7926.0\\ngini = 0.142\\nsamples = 13\\nvalue = [12, 1]'),\n",
              " Text(0.09144351806441066, 0.7159090909090909, 'gini = 0.0\\nsamples = 11\\nvalue = [11, 0]'),\n",
              " Text(0.09228052967140755, 0.7159090909090909, 'x[13] <= 133999.5\\ngini = 0.5\\nsamples = 2\\nvalue = [1, 1]'),\n",
              " Text(0.0918620238679091, 0.6931818181818182, 'gini = 0.0\\nsamples = 1\\nvalue = [0, 1]'),\n",
              " Text(0.092699035474906, 0.6931818181818182, 'gini = 0.0\\nsamples = 1\\nvalue = [1, 0]'),\n",
              " Text(0.09078960274644433, 0.7613636363636364, 'gini = 0.0\\nsamples = 2\\nvalue = [0, 2]'),\n",
              " Text(0.09873467385973517, 0.8295454545454546, 'x[12] <= 350.5\\ngini = 0.304\\nsamples = 300\\nvalue = [244, 56]'),\n",
              " Text(0.09660944907634461, 0.8068181818181818, 'x[23] <= 7398.5\\ngini = 0.269\\nsamples = 268\\nvalue = [225, 43]'),\n",
              " Text(0.09575935916298839, 0.7840909090909091, 'x[5] <= 59.0\\ngini = 0.307\\nsamples = 222\\nvalue = [180, 42]'),\n",
              " Text(0.09534085335948994, 0.7613636363636364, 'x[13] <= -694.0\\ngini = 0.298\\nsamples = 220\\nvalue = [180, 40]'),\n",
              " Text(0.09405917933627596, 0.7386363636363636, 'x[22] <= 500.0\\ngini = 0.375\\nsamples = 4\\nvalue = [1, 3]'),\n",
              " Text(0.09364067353277751, 0.7159090909090909, 'gini = 0.0\\nsamples = 1\\nvalue = [1, 0]'),\n",
              " Text(0.0944776851397744, 0.7159090909090909, 'gini = 0.0\\nsamples = 3\\nvalue = [0, 3]'),\n",
              " Text(0.09662252738270394, 0.7386363636363636, 'x[21] <= 50028.5\\ngini = 0.284\\nsamples = 216\\nvalue = [179, 37]'),\n",
              " Text(0.09531469674677129, 0.7159090909090909, 'x[21] <= 705.0\\ngini = 0.27\\nsamples = 211\\nvalue = [177, 34]'),\n",
              " Text(0.09395455288540135, 0.6931818181818182, 'x[16] <= 688.0\\ngini = 0.336\\nsamples = 145\\nvalue = [114, 31]'),\n",
              " Text(0.0935360470819029, 0.6704545454545454, 'x[12] <= 73.0\\ngini = 0.323\\nsamples = 143\\nvalue = [114, 29]'),\n",
              " Text(0.09311754127840445, 0.6477272727272727, 'x[12] <= 6.0\\ngini = 0.354\\nsamples = 126\\nvalue = [97, 29]'),\n",
              " Text(0.092699035474906, 0.625, 'x[12] <= -2.0\\ngini = 0.341\\nsamples = 124\\nvalue = [97, 27]'),\n",
              " Text(0.09228052967140755, 0.6022727272727273, 'gini = 0.0\\nsamples = 14\\nvalue = [14, 0]'),\n",
              " Text(0.09311754127840445, 0.6022727272727273, 'x[1] <= 370000.0\\ngini = 0.37\\nsamples = 110\\nvalue = [83, 27]'),\n",
              " Text(0.092699035474906, 0.5795454545454546, 'x[1] <= 70000.0\\ngini = 0.397\\nsamples = 99\\nvalue = [72, 27]'),\n",
              " Text(0.0918620238679091, 0.5568181818181818, 'x[19] <= 395.0\\ngini = 0.124\\nsamples = 15\\nvalue = [14, 1]'),\n",
              " Text(0.09144351806441066, 0.5340909090909091, 'gini = 0.0\\nsamples = 14\\nvalue = [14, 0]'),\n",
              " Text(0.09228052967140755, 0.5340909090909091, 'gini = 0.0\\nsamples = 1\\nvalue = [0, 1]'),\n",
              " Text(0.0935360470819029, 0.5568181818181818, 'x[15] <= 367.0\\ngini = 0.427\\nsamples = 84\\nvalue = [58, 26]'),\n",
              " Text(0.09311754127840445, 0.5340909090909091, 'x[17] <= -317.5\\ngini = 0.421\\nsamples = 83\\nvalue = [58, 25]'),\n",
              " Text(0.092699035474906, 0.5113636363636364, 'gini = 0.0\\nsamples = 1\\nvalue = [0, 1]'),\n",
              " Text(0.0935360470819029, 0.5113636363636364, 'x[5] <= 57.5\\ngini = 0.414\\nsamples = 82\\nvalue = [58, 24]'),\n",
              " Text(0.09311754127840445, 0.48863636363636365, 'x[22] <= 1135.0\\ngini = 0.407\\nsamples = 81\\nvalue = [58, 23]'),\n",
              " Text(0.09149583128984796, 0.4659090909090909, 'x[22] <= 34.5\\ngini = 0.438\\nsamples = 68\\nvalue = [46, 22]'),\n",
              " Text(0.08950792872323034, 0.4431818181818182, 'x[0] <= 28954.0\\ngini = 0.375\\nsamples = 44\\nvalue = [33, 11]'),\n",
              " Text(0.08846166421448422, 0.42045454545454547, 'x[5] <= 27.5\\ngini = 0.343\\nsamples = 41\\nvalue = [32, 9]'),\n",
              " Text(0.08762465260748734, 0.3977272727272727, 'x[23] <= 810.0\\ngini = 0.5\\nsamples = 6\\nvalue = [3, 3]'),\n",
              " Text(0.08720614680398889, 0.375, 'gini = 0.0\\nsamples = 2\\nvalue = [2, 0]'),\n",
              " Text(0.08804315841098578, 0.375, 'x[19] <= 727.0\\ngini = 0.375\\nsamples = 4\\nvalue = [1, 3]'),\n",
              " Text(0.08762465260748734, 0.3522727272727273, 'gini = 0.0\\nsamples = 3\\nvalue = [0, 3]'),\n",
              " Text(0.08846166421448422, 0.3522727272727273, 'gini = 0.0\\nsamples = 1\\nvalue = [1, 0]'),\n",
              " Text(0.08929867582148111, 0.3977272727272727, 'x[1] <= 100000.0\\ngini = 0.284\\nsamples = 35\\nvalue = [29, 6]'),\n",
              " Text(0.08888017001798267, 0.375, 'gini = 0.0\\nsamples = 1\\nvalue = [0, 1]'),\n",
              " Text(0.08971718162497956, 0.375, 'x[23] <= 1411.5\\ngini = 0.251\\nsamples = 34\\nvalue = [29, 5]'),\n",
              " Text(0.08929867582148111, 0.3522727272727273, 'x[4] <= 1.5\\ngini = 0.34\\nsamples = 23\\nvalue = [18, 5]'),\n",
              " Text(0.08846166421448422, 0.32954545454545453, 'x[0] <= 23519.0\\ngini = 0.5\\nsamples = 8\\nvalue = [4, 4]'),\n",
              " Text(0.08804315841098578, 0.3068181818181818, 'x[23] <= 244.5\\ngini = 0.32\\nsamples = 5\\nvalue = [1, 4]'),\n",
              " Text(0.08762465260748734, 0.2840909090909091, 'gini = 0.0\\nsamples = 1\\nvalue = [1, 0]'),\n",
              " Text(0.08846166421448422, 0.2840909090909091, 'gini = 0.0\\nsamples = 4\\nvalue = [0, 4]'),\n",
              " Text(0.08888017001798267, 0.3068181818181818, 'gini = 0.0\\nsamples = 3\\nvalue = [3, 0]'),\n",
              " Text(0.09013568742847801, 0.32954545454545453, 'x[23] <= 248.0\\ngini = 0.124\\nsamples = 15\\nvalue = [14, 1]'),\n",
              " Text(0.08971718162497956, 0.3068181818181818, 'x[0] <= 25502.0\\ngini = 0.5\\nsamples = 2\\nvalue = [1, 1]'),\n",
              " Text(0.08929867582148111, 0.2840909090909091, 'gini = 0.0\\nsamples = 1\\nvalue = [0, 1]'),\n",
              " Text(0.09013568742847801, 0.2840909090909091, 'gini = 0.0\\nsamples = 1\\nvalue = [1, 0]'),\n",
              " Text(0.09055419323197646, 0.3068181818181818, 'gini = 0.0\\nsamples = 13\\nvalue = [13, 0]'),\n",
              " Text(0.09013568742847801, 0.3522727272727273, 'gini = 0.0\\nsamples = 11\\nvalue = [11, 0]'),\n",
              " Text(0.09055419323197646, 0.42045454545454547, 'x[0] <= 29136.5\\ngini = 0.444\\nsamples = 3\\nvalue = [1, 2]'),\n",
              " Text(0.09013568742847801, 0.3977272727272727, 'gini = 0.0\\nsamples = 2\\nvalue = [0, 2]'),\n",
              " Text(0.0909726990354749, 0.3977272727272727, 'gini = 0.0\\nsamples = 1\\nvalue = [1, 0]'),\n",
              " Text(0.09348373385646559, 0.4431818181818182, 'x[1] <= 165000.0\\ngini = 0.497\\nsamples = 24\\nvalue = [13, 11]'),\n",
              " Text(0.09222821644597025, 0.42045454545454547, 'x[0] <= 5703.5\\ngini = 0.375\\nsamples = 12\\nvalue = [9, 3]'),\n",
              " Text(0.0918097106424718, 0.3977272727272727, 'gini = 0.0\\nsamples = 1\\nvalue = [0, 1]'),\n",
              " Text(0.0926467222494687, 0.3977272727272727, 'x[5] <= 49.0\\ngini = 0.298\\nsamples = 11\\nvalue = [9, 2]'),\n",
              " Text(0.09222821644597025, 0.375, 'x[17] <= 786.5\\ngini = 0.18\\nsamples = 10\\nvalue = [9, 1]'),\n",
              " Text(0.0918097106424718, 0.3522727272727273, 'gini = 0.0\\nsamples = 8\\nvalue = [8, 0]'),\n",
              " Text(0.0926467222494687, 0.3522727272727273, 'x[22] <= 979.0\\ngini = 0.5\\nsamples = 2\\nvalue = [1, 1]'),\n",
              " Text(0.09222821644597025, 0.32954545454545453, 'gini = 0.0\\nsamples = 1\\nvalue = [0, 1]'),\n",
              " Text(0.09306522805296714, 0.32954545454545453, 'gini = 0.0\\nsamples = 1\\nvalue = [1, 0]'),\n",
              " Text(0.09306522805296714, 0.375, 'gini = 0.0\\nsamples = 1\\nvalue = [0, 1]'),\n",
              " Text(0.09473925126696092, 0.42045454545454547, 'x[3] <= 2.5\\ngini = 0.444\\nsamples = 12\\nvalue = [4, 8]'),\n",
              " Text(0.09432074546346249, 0.3977272727272727, 'x[17] <= 547.0\\ngini = 0.32\\nsamples = 10\\nvalue = [2, 8]'),\n",
              " Text(0.09390223965996404, 0.375, 'gini = 0.0\\nsamples = 7\\nvalue = [0, 7]'),\n",
              " Text(0.09473925126696092, 0.375, 'x[17] <= 1079.5\\ngini = 0.444\\nsamples = 3\\nvalue = [2, 1]'),\n",
              " Text(0.09432074546346249, 0.3522727272727273, 'gini = 0.0\\nsamples = 2\\nvalue = [2, 0]'),\n",
              " Text(0.09515775707045937, 0.3522727272727273, 'gini = 0.0\\nsamples = 1\\nvalue = [0, 1]'),\n",
              " Text(0.09515775707045937, 0.3977272727272727, 'gini = 0.0\\nsamples = 2\\nvalue = [2, 0]'),\n",
              " Text(0.09473925126696092, 0.4659090909090909, 'x[15] <= 162.5\\ngini = 0.142\\nsamples = 13\\nvalue = [12, 1]'),\n",
              " Text(0.09432074546346249, 0.4431818181818182, 'gini = 0.0\\nsamples = 12\\nvalue = [12, 0]'),\n",
              " Text(0.09515775707045937, 0.4431818181818182, 'gini = 0.0\\nsamples = 1\\nvalue = [0, 1]'),\n",
              " Text(0.09395455288540135, 0.48863636363636365, 'gini = 0.0\\nsamples = 1\\nvalue = [0, 1]'),\n",
              " Text(0.09395455288540135, 0.5340909090909091, 'gini = 0.0\\nsamples = 1\\nvalue = [0, 1]'),\n",
              " Text(0.0935360470819029, 0.5795454545454546, 'gini = 0.0\\nsamples = 11\\nvalue = [11, 0]'),\n",
              " Text(0.0935360470819029, 0.625, 'gini = 0.0\\nsamples = 2\\nvalue = [0, 2]'),\n",
              " Text(0.09395455288540135, 0.6477272727272727, 'gini = 0.0\\nsamples = 17\\nvalue = [17, 0]'),\n",
              " Text(0.0943730586888998, 0.6704545454545454, 'gini = 0.0\\nsamples = 2\\nvalue = [0, 2]'),\n",
              " Text(0.09667484060814124, 0.6931818181818182, 'x[10] <= -0.5\\ngini = 0.087\\nsamples = 66\\nvalue = [63, 3]'),\n",
              " Text(0.09562857609939512, 0.6704545454545454, 'x[5] <= 25.5\\ngini = 0.061\\nsamples = 64\\nvalue = [62, 2]'),\n",
              " Text(0.09479156449239823, 0.6477272727272727, 'x[23] <= 613.5\\ngini = 0.32\\nsamples = 5\\nvalue = [4, 1]'),\n",
              " Text(0.0943730586888998, 0.625, 'gini = 0.0\\nsamples = 1\\nvalue = [0, 1]'),\n",
              " Text(0.09521007029589668, 0.625, 'gini = 0.0\\nsamples = 4\\nvalue = [4, 0]'),\n",
              " Text(0.09646558770639202, 0.6477272727272727, 'x[22] <= 3635.0\\ngini = 0.033\\nsamples = 59\\nvalue = [58, 1]'),\n",
              " Text(0.09604708190289357, 0.625, 'gini = 0.0\\nsamples = 47\\nvalue = [47, 0]'),\n",
              " Text(0.09688409350989047, 0.625, 'x[17] <= 4190.0\\ngini = 0.153\\nsamples = 12\\nvalue = [11, 1]'),\n",
              " Text(0.09646558770639202, 0.6022727272727273, 'gini = 0.0\\nsamples = 1\\nvalue = [0, 1]'),\n",
              " Text(0.09730259931338892, 0.6022727272727273, 'gini = 0.0\\nsamples = 11\\nvalue = [11, 0]'),\n",
              " Text(0.09772110511688736, 0.6704545454545454, 'x[5] <= 50.5\\ngini = 0.5\\nsamples = 2\\nvalue = [1, 1]'),\n",
              " Text(0.09730259931338892, 0.6477272727272727, 'gini = 0.0\\nsamples = 1\\nvalue = [1, 0]'),\n",
              " Text(0.09813961092038581, 0.6477272727272727, 'gini = 0.0\\nsamples = 1\\nvalue = [0, 1]'),\n",
              " Text(0.09793035801863659, 0.7159090909090909, 'x[4] <= 1.5\\ngini = 0.48\\nsamples = 5\\nvalue = [2, 3]'),\n",
              " Text(0.09751185221513814, 0.6931818181818182, 'gini = 0.0\\nsamples = 3\\nvalue = [0, 3]'),\n",
              " Text(0.09834886382213504, 0.6931818181818182, 'gini = 0.0\\nsamples = 2\\nvalue = [2, 0]'),\n",
              " Text(0.09617786496648684, 0.7613636363636364, 'gini = 0.0\\nsamples = 2\\nvalue = [0, 2]'),\n",
              " Text(0.09745953898970083, 0.7840909090909091, 'x[1] <= 490000.0\\ngini = 0.043\\nsamples = 46\\nvalue = [45, 1]'),\n",
              " Text(0.09704103318620239, 0.7613636363636364, 'gini = 0.0\\nsamples = 39\\nvalue = [39, 0]'),\n",
              " Text(0.09787804479319928, 0.7613636363636364, 'x[14] <= 582.0\\ngini = 0.245\\nsamples = 7\\nvalue = [6, 1]'),\n",
              " Text(0.09745953898970083, 0.7386363636363636, 'gini = 0.0\\nsamples = 6\\nvalue = [6, 0]'),\n",
              " Text(0.09829655059669773, 0.7386363636363636, 'gini = 0.0\\nsamples = 1\\nvalue = [0, 1]'),\n",
              " Text(0.10085989864312571, 0.8068181818181818, 'x[5] <= 37.5\\ngini = 0.482\\nsamples = 32\\nvalue = [19, 13]'),\n",
              " Text(0.10002288703612883, 0.7840909090909091, 'x[19] <= 1830.0\\ngini = 0.475\\nsamples = 18\\nvalue = [7, 11]'),\n",
              " Text(0.09960438123263038, 0.7613636363636364, 'x[23] <= 375.0\\ngini = 0.337\\nsamples = 14\\nvalue = [3, 11]'),\n",
              " Text(0.09918587542913193, 0.7386363636363636, 'gini = 0.0\\nsamples = 2\\nvalue = [2, 0]'),\n",
              " Text(0.10002288703612883, 0.7386363636363636, 'x[0] <= 10216.5\\ngini = 0.153\\nsamples = 12\\nvalue = [1, 11]'),\n",
              " Text(0.09960438123263038, 0.7159090909090909, 'x[1] <= 190000.0\\ngini = 0.444\\nsamples = 3\\nvalue = [1, 2]'),\n",
              " Text(0.09918587542913193, 0.6931818181818182, 'gini = 0.0\\nsamples = 2\\nvalue = [0, 2]'),\n",
              " Text(0.10002288703612883, 0.6931818181818182, 'gini = 0.0\\nsamples = 1\\nvalue = [1, 0]'),\n",
              " Text(0.10044139283962727, 0.7159090909090909, 'gini = 0.0\\nsamples = 9\\nvalue = [0, 9]'),\n",
              " Text(0.10044139283962727, 0.7613636363636364, 'gini = 0.0\\nsamples = 4\\nvalue = [4, 0]'),\n",
              " Text(0.1016969102501226, 0.7840909090909091, 'x[0] <= 4399.0\\ngini = 0.245\\nsamples = 14\\nvalue = [12, 2]'),\n",
              " Text(0.10127840444662416, 0.7613636363636364, 'x[4] <= 1.5\\ngini = 0.444\\nsamples = 3\\nvalue = [1, 2]'),\n",
              " Text(0.10085989864312571, 0.7386363636363636, 'gini = 0.0\\nsamples = 2\\nvalue = [0, 2]'),\n",
              " Text(0.1016969102501226, 0.7386363636363636, 'gini = 0.0\\nsamples = 1\\nvalue = [1, 0]'),\n",
              " Text(0.10211541605362105, 0.7613636363636364, 'gini = 0.0\\nsamples = 11\\nvalue = [11, 0]'),\n",
              " Text(0.10766061794997547, 0.8522727272727273, 'x[1] <= 320000.0\\ngini = 0.5\\nsamples = 92\\nvalue = [47, 45]'),\n",
              " Text(0.10724211214647703, 0.8295454545454546, 'x[1] <= 145000.0\\ngini = 0.496\\nsamples = 86\\nvalue = [47, 39]'),\n",
              " Text(0.10462645087461174, 0.8068181818181818, 'x[13] <= 324.0\\ngini = 0.487\\nsamples = 43\\nvalue = [18, 25]'),\n",
              " Text(0.1033709334641164, 0.7840909090909091, 'x[23] <= 6550.0\\ngini = 0.26\\nsamples = 13\\nvalue = [2, 11]'),\n",
              " Text(0.10295242766061795, 0.7613636363636364, 'x[0] <= 2789.5\\ngini = 0.153\\nsamples = 12\\nvalue = [1, 11]'),\n",
              " Text(0.1025339218571195, 0.7386363636363636, 'x[5] <= 39.0\\ngini = 0.5\\nsamples = 2\\nvalue = [1, 1]'),\n",
              " Text(0.10211541605362105, 0.7159090909090909, 'gini = 0.0\\nsamples = 1\\nvalue = [1, 0]'),\n",
              " Text(0.10295242766061795, 0.7159090909090909, 'gini = 0.0\\nsamples = 1\\nvalue = [0, 1]'),\n",
              " Text(0.1033709334641164, 0.7386363636363636, 'gini = 0.0\\nsamples = 10\\nvalue = [0, 10]'),\n",
              " Text(0.10378943926761484, 0.7613636363636364, 'gini = 0.0\\nsamples = 1\\nvalue = [1, 0]'),\n",
              " Text(0.10588196828510708, 0.7840909090909091, 'x[19] <= 3650.0\\ngini = 0.498\\nsamples = 30\\nvalue = [16, 14]'),\n",
              " Text(0.10546346248160864, 0.7613636363636364, 'x[19] <= 1600.5\\ngini = 0.486\\nsamples = 24\\nvalue = [10, 14]'),\n",
              " Text(0.10504495667811019, 0.7386363636363636, 'x[18] <= 982.0\\ngini = 0.499\\nsamples = 19\\nvalue = [10, 9]'),\n",
              " Text(0.10378943926761484, 0.7159090909090909, 'x[2] <= 1.5\\ngini = 0.346\\nsamples = 9\\nvalue = [7, 2]'),\n",
              " Text(0.1033709334641164, 0.6931818181818182, 'gini = 0.0\\nsamples = 6\\nvalue = [6, 0]'),\n",
              " Text(0.10420794507111329, 0.6931818181818182, 'x[0] <= 20795.0\\ngini = 0.444\\nsamples = 3\\nvalue = [1, 2]'),\n",
              " Text(0.10378943926761484, 0.6704545454545454, 'gini = 0.0\\nsamples = 2\\nvalue = [0, 2]'),\n",
              " Text(0.10462645087461174, 0.6704545454545454, 'gini = 0.0\\nsamples = 1\\nvalue = [1, 0]'),\n",
              " Text(0.10630047408860553, 0.7159090909090909, 'x[19] <= 1066.5\\ngini = 0.42\\nsamples = 10\\nvalue = [3, 7]'),\n",
              " Text(0.10588196828510708, 0.6931818181818182, 'x[23] <= 31993.5\\ngini = 0.219\\nsamples = 8\\nvalue = [1, 7]'),\n",
              " Text(0.10546346248160864, 0.6704545454545454, 'gini = 0.0\\nsamples = 7\\nvalue = [0, 7]'),\n",
              " Text(0.10630047408860553, 0.6704545454545454, 'gini = 0.0\\nsamples = 1\\nvalue = [1, 0]'),\n",
              " Text(0.10671897989210397, 0.6931818181818182, 'gini = 0.0\\nsamples = 2\\nvalue = [2, 0]'),\n",
              " Text(0.10588196828510708, 0.7386363636363636, 'gini = 0.0\\nsamples = 5\\nvalue = [0, 5]'),\n",
              " Text(0.10630047408860553, 0.7613636363636364, 'gini = 0.0\\nsamples = 6\\nvalue = [6, 0]'),\n",
              " Text(0.10985777341834232, 0.8068181818181818, 'x[14] <= 5398.0\\ngini = 0.439\\nsamples = 43\\nvalue = [29, 14]'),\n",
              " Text(0.10902076181134543, 0.7840909090909091, 'x[13] <= 3592.5\\ngini = 0.495\\nsamples = 29\\nvalue = [16, 13]'),\n",
              " Text(0.10860225600784698, 0.7613636363636364, 'x[15] <= 775.0\\ngini = 0.461\\nsamples = 25\\nvalue = [16, 9]'),\n",
              " Text(0.10755599149910086, 0.7386363636363636, 'x[0] <= 14715.5\\ngini = 0.444\\nsamples = 6\\nvalue = [2, 4]'),\n",
              " Text(0.10713748569560241, 0.7159090909090909, 'gini = 0.0\\nsamples = 4\\nvalue = [0, 4]'),\n",
              " Text(0.10797449730259931, 0.7159090909090909, 'gini = 0.0\\nsamples = 2\\nvalue = [2, 0]'),\n",
              " Text(0.1096485205165931, 0.7386363636363636, 'x[7] <= -1.5\\ngini = 0.388\\nsamples = 19\\nvalue = [14, 5]'),\n",
              " Text(0.1088115089095962, 0.7159090909090909, 'x[19] <= 3560.5\\ngini = 0.48\\nsamples = 5\\nvalue = [2, 3]'),\n",
              " Text(0.10839300310609776, 0.6931818181818182, 'gini = 0.0\\nsamples = 3\\nvalue = [0, 3]'),\n",
              " Text(0.10923001471309465, 0.6931818181818182, 'gini = 0.0\\nsamples = 2\\nvalue = [2, 0]'),\n",
              " Text(0.11048553212359, 0.7159090909090909, 'x[17] <= 1818.5\\ngini = 0.245\\nsamples = 14\\nvalue = [12, 2]'),\n",
              " Text(0.11006702632009155, 0.6931818181818182, 'x[16] <= -498.5\\ngini = 0.142\\nsamples = 13\\nvalue = [12, 1]'),\n",
              " Text(0.1096485205165931, 0.6704545454545454, 'gini = 0.0\\nsamples = 1\\nvalue = [0, 1]'),\n",
              " Text(0.11048553212359, 0.6704545454545454, 'gini = 0.0\\nsamples = 12\\nvalue = [12, 0]'),\n",
              " Text(0.11090403792708844, 0.6931818181818182, 'gini = 0.0\\nsamples = 1\\nvalue = [0, 1]'),\n",
              " Text(0.10943926761484388, 0.7613636363636364, 'gini = 0.0\\nsamples = 4\\nvalue = [0, 4]'),\n",
              " Text(0.11069478502533922, 0.7840909090909091, 'x[0] <= 931.0\\ngini = 0.133\\nsamples = 14\\nvalue = [13, 1]'),\n",
              " Text(0.11027627922184077, 0.7613636363636364, 'gini = 0.0\\nsamples = 1\\nvalue = [0, 1]'),\n",
              " Text(0.11111329082883767, 0.7613636363636364, 'gini = 0.0\\nsamples = 13\\nvalue = [13, 0]'),\n",
              " Text(0.10807912375347392, 0.8295454545454546, 'gini = 0.0\\nsamples = 6\\nvalue = [0, 6]'),\n",
              " Text(0.12646395291809712, 0.875, 'x[1] <= 115000.0\\ngini = 0.326\\nsamples = 555\\nvalue = [441, 114]'),\n",
              " Text(0.11728625143043976, 0.8522727272727273, 'x[19] <= 398.0\\ngini = 0.441\\nsamples = 143\\nvalue = [96, 47]'),\n",
              " Text(0.11467059015857446, 0.8295454545454546, 'x[14] <= 39.0\\ngini = 0.487\\nsamples = 100\\nvalue = [58, 42]'),\n",
              " Text(0.11278731404283146, 0.8068181818181818, 'x[0] <= 26832.0\\ngini = 0.337\\nsamples = 28\\nvalue = [22, 6]'),\n",
              " Text(0.11236880823933301, 0.7840909090909091, 'x[20] <= 41.5\\ngini = 0.26\\nsamples = 26\\nvalue = [22, 4]'),\n",
              " Text(0.11195030243583456, 0.7613636363636364, 'gini = 0.0\\nsamples = 1\\nvalue = [0, 1]'),\n",
              " Text(0.11278731404283146, 0.7613636363636364, 'x[0] <= 1999.0\\ngini = 0.211\\nsamples = 25\\nvalue = [22, 3]'),\n",
              " Text(0.11236880823933301, 0.7386363636363636, 'gini = 0.0\\nsamples = 1\\nvalue = [0, 1]'),\n",
              " Text(0.1132058198463299, 0.7386363636363636, 'x[22] <= 1867.0\\ngini = 0.153\\nsamples = 24\\nvalue = [22, 2]'),\n",
              " Text(0.11236880823933301, 0.7159090909090909, 'x[5] <= 26.5\\ngini = 0.087\\nsamples = 22\\nvalue = [21, 1]'),\n",
              " Text(0.11195030243583456, 0.6931818181818182, 'x[15] <= 762.5\\ngini = 0.245\\nsamples = 7\\nvalue = [6, 1]'),\n",
              " Text(0.11153179663233612, 0.6704545454545454, 'gini = 0.0\\nsamples = 5\\nvalue = [5, 0]'),\n",
              " Text(0.11236880823933301, 0.6704545454545454, 'x[5] <= 24.0\\ngini = 0.5\\nsamples = 2\\nvalue = [1, 1]'),\n",
              " Text(0.11195030243583456, 0.6477272727272727, 'gini = 0.0\\nsamples = 1\\nvalue = [1, 0]'),\n",
              " Text(0.11278731404283146, 0.6477272727272727, 'gini = 0.0\\nsamples = 1\\nvalue = [0, 1]'),\n",
              " Text(0.11278731404283146, 0.6931818181818182, 'gini = 0.0\\nsamples = 15\\nvalue = [15, 0]'),\n",
              " Text(0.11404283145332679, 0.7159090909090909, 'x[22] <= 2646.0\\ngini = 0.5\\nsamples = 2\\nvalue = [1, 1]'),\n",
              " Text(0.11362432564982834, 0.6931818181818182, 'gini = 0.0\\nsamples = 1\\nvalue = [0, 1]'),\n",
              " Text(0.11446133725682524, 0.6931818181818182, 'gini = 0.0\\nsamples = 1\\nvalue = [1, 0]'),\n",
              " Text(0.1132058198463299, 0.7840909090909091, 'gini = 0.0\\nsamples = 2\\nvalue = [0, 2]'),\n",
              " Text(0.11655386627431748, 0.8068181818181818, 'x[14] <= 329.5\\ngini = 0.5\\nsamples = 72\\nvalue = [36, 36]'),\n",
              " Text(0.11529834886382213, 0.7840909090909091, 'x[12] <= 303.5\\ngini = 0.42\\nsamples = 20\\nvalue = [6, 14]'),\n",
              " Text(0.11487984306032369, 0.7613636363636364, 'x[21] <= 140.0\\ngini = 0.496\\nsamples = 11\\nvalue = [6, 5]'),\n",
              " Text(0.11446133725682524, 0.7386363636363636, 'gini = 0.0\\nsamples = 4\\nvalue = [0, 4]'),\n",
              " Text(0.11529834886382213, 0.7386363636363636, 'x[23] <= 72.0\\ngini = 0.245\\nsamples = 7\\nvalue = [6, 1]'),\n",
              " Text(0.11487984306032369, 0.7159090909090909, 'gini = 0.0\\nsamples = 1\\nvalue = [0, 1]'),\n",
              " Text(0.11571685466732058, 0.7159090909090909, 'gini = 0.0\\nsamples = 6\\nvalue = [6, 0]'),\n",
              " Text(0.11571685466732058, 0.7613636363636364, 'gini = 0.0\\nsamples = 9\\nvalue = [0, 9]'),\n",
              " Text(0.11780938368481282, 0.7840909090909091, 'x[13] <= 1427.0\\ngini = 0.488\\nsamples = 52\\nvalue = [30, 22]'),\n",
              " Text(0.11739087788131437, 0.7613636363636364, 'x[14] <= 393.0\\ngini = 0.499\\nsamples = 46\\nvalue = [24, 22]'),\n",
              " Text(0.11697237207781593, 0.7386363636363636, 'x[21] <= 990.0\\ngini = 0.49\\nsamples = 42\\nvalue = [24, 18]'),\n",
              " Text(0.11655386627431748, 0.7159090909090909, 'x[0] <= 27205.5\\ngini = 0.499\\nsamples = 38\\nvalue = [20, 18]'),\n",
              " Text(0.11613536047081903, 0.6931818181818182, 'x[5] <= 45.5\\ngini = 0.484\\nsamples = 34\\nvalue = [20, 14]'),\n",
              " Text(0.11508909596207291, 0.6704545454545454, 'x[0] <= 17747.5\\ngini = 0.413\\nsamples = 24\\nvalue = [17, 7]'),\n",
              " Text(0.11467059015857446, 0.6477272727272727, 'x[5] <= 24.5\\ngini = 0.498\\nsamples = 15\\nvalue = [8, 7]'),\n",
              " Text(0.11383357855157757, 0.625, 'x[18] <= 633.5\\ngini = 0.278\\nsamples = 6\\nvalue = [5, 1]'),\n",
              " Text(0.11341507274807912, 0.6022727272727273, 'gini = 0.0\\nsamples = 5\\nvalue = [5, 0]'),\n",
              " Text(0.11425208435507601, 0.6022727272727273, 'gini = 0.0\\nsamples = 1\\nvalue = [0, 1]'),\n",
              " Text(0.11550760176557136, 0.625, 'x[5] <= 41.0\\ngini = 0.444\\nsamples = 9\\nvalue = [3, 6]'),\n",
              " Text(0.11508909596207291, 0.6022727272727273, 'x[16] <= 660.0\\ngini = 0.245\\nsamples = 7\\nvalue = [1, 6]'),\n",
              " Text(0.11467059015857446, 0.5795454545454546, 'gini = 0.0\\nsamples = 6\\nvalue = [0, 6]'),\n",
              " Text(0.11550760176557136, 0.5795454545454546, 'gini = 0.0\\nsamples = 1\\nvalue = [1, 0]'),\n",
              " Text(0.1159261075690698, 0.6022727272727273, 'gini = 0.0\\nsamples = 2\\nvalue = [2, 0]'),\n",
              " Text(0.11550760176557136, 0.6477272727272727, 'gini = 0.0\\nsamples = 9\\nvalue = [9, 0]'),\n",
              " Text(0.11718162497956515, 0.6704545454545454, 'x[1] <= 55000.0\\ngini = 0.42\\nsamples = 10\\nvalue = [3, 7]'),\n",
              " Text(0.1167631191760667, 0.6477272727272727, 'x[0] <= 8767.0\\ngini = 0.375\\nsamples = 4\\nvalue = [3, 1]'),\n",
              " Text(0.11634461337256825, 0.625, 'gini = 0.0\\nsamples = 1\\nvalue = [0, 1]'),\n",
              " Text(0.11718162497956515, 0.625, 'gini = 0.0\\nsamples = 3\\nvalue = [3, 0]'),\n",
              " Text(0.1176001307830636, 0.6477272727272727, 'gini = 0.0\\nsamples = 6\\nvalue = [0, 6]'),\n",
              " Text(0.11697237207781593, 0.6931818181818182, 'gini = 0.0\\nsamples = 4\\nvalue = [0, 4]'),\n",
              " Text(0.11739087788131437, 0.7159090909090909, 'gini = 0.0\\nsamples = 4\\nvalue = [4, 0]'),\n",
              " Text(0.11780938368481282, 0.7386363636363636, 'gini = 0.0\\nsamples = 4\\nvalue = [0, 4]'),\n",
              " Text(0.11822788948831127, 0.7613636363636364, 'gini = 0.0\\nsamples = 6\\nvalue = [6, 0]'),\n",
              " Text(0.11990191270230505, 0.8295454545454546, 'x[0] <= 3339.5\\ngini = 0.206\\nsamples = 43\\nvalue = [38, 5]'),\n",
              " Text(0.11906490109530815, 0.8068181818181818, 'x[23] <= 0.5\\ngini = 0.48\\nsamples = 5\\nvalue = [2, 3]'),\n",
              " Text(0.11864639529180972, 0.7840909090909091, 'gini = 0.0\\nsamples = 3\\nvalue = [0, 3]'),\n",
              " Text(0.1194834068988066, 0.7840909090909091, 'gini = 0.0\\nsamples = 2\\nvalue = [2, 0]'),\n",
              " Text(0.12073892430930194, 0.8068181818181818, 'x[13] <= -3132.0\\ngini = 0.1\\nsamples = 38\\nvalue = [36, 2]'),\n",
              " Text(0.1203204185058035, 0.7840909090909091, 'gini = 0.0\\nsamples = 1\\nvalue = [0, 1]'),\n",
              " Text(0.12115743011280039, 0.7840909090909091, 'x[12] <= 505.0\\ngini = 0.053\\nsamples = 37\\nvalue = [36, 1]'),\n",
              " Text(0.12073892430930194, 0.7613636363636364, 'gini = 0.0\\nsamples = 36\\nvalue = [36, 0]'),\n",
              " Text(0.12157593591629884, 0.7613636363636364, 'gini = 0.0\\nsamples = 1\\nvalue = [0, 1]'),\n",
              " Text(0.13564165440575446, 0.8522727272727273, 'x[5] <= 46.5\\ngini = 0.272\\nsamples = 412\\nvalue = [345, 67]'),\n",
              " Text(0.13087461173777995, 0.8295454545454546, 'x[23] <= 1198.5\\ngini = 0.245\\nsamples = 350\\nvalue = [300, 50]'),\n",
              " Text(0.1261533431420631, 0.8068181818181818, 'x[22] <= 111.0\\ngini = 0.273\\nsamples = 288\\nvalue = [241, 47]'),\n",
              " Text(0.12283145332679418, 0.7840909090909091, 'x[13] <= 1.5\\ngini = 0.12\\nsamples = 78\\nvalue = [73, 5]'),\n",
              " Text(0.12241294752329573, 0.7613636363636364, 'x[20] <= 487.0\\ngini = 0.33\\nsamples = 24\\nvalue = [19, 5]'),\n",
              " Text(0.12157593591629884, 0.7386363636363636, 'x[1] <= 145000.0\\ngini = 0.198\\nsamples = 18\\nvalue = [16, 2]'),\n",
              " Text(0.12115743011280039, 0.7159090909090909, 'x[16] <= 812.5\\ngini = 0.444\\nsamples = 3\\nvalue = [1, 2]'),\n",
              " Text(0.12073892430930194, 0.6931818181818182, 'gini = 0.0\\nsamples = 2\\nvalue = [0, 2]'),\n",
              " Text(0.12157593591629884, 0.6931818181818182, 'gini = 0.0\\nsamples = 1\\nvalue = [1, 0]'),\n",
              " Text(0.12199444171979729, 0.7159090909090909, 'gini = 0.0\\nsamples = 15\\nvalue = [15, 0]'),\n",
              " Text(0.12324995913029263, 0.7386363636363636, 'x[21] <= 69.5\\ngini = 0.5\\nsamples = 6\\nvalue = [3, 3]'),\n",
              " Text(0.12283145332679418, 0.7159090909090909, 'gini = 0.0\\nsamples = 3\\nvalue = [3, 0]'),\n",
              " Text(0.12366846493379108, 0.7159090909090909, 'gini = 0.0\\nsamples = 3\\nvalue = [0, 3]'),\n",
              " Text(0.12324995913029263, 0.7613636363636364, 'gini = 0.0\\nsamples = 54\\nvalue = [54, 0]'),\n",
              " Text(0.12947523295733201, 0.7840909090909091, 'x[19] <= 493.0\\ngini = 0.32\\nsamples = 210\\nvalue = [168, 42]'),\n",
              " Text(0.1264933791074056, 0.7613636363636364, 'x[9] <= -1.5\\ngini = 0.245\\nsamples = 161\\nvalue = [138, 23]'),\n",
              " Text(0.12607487330390715, 0.7386363636363636, 'gini = 0.0\\nsamples = 36\\nvalue = [36, 0]'),\n",
              " Text(0.12691188491090405, 0.7386363636363636, 'x[23] <= 332.5\\ngini = 0.3\\nsamples = 125\\nvalue = [102, 23]'),\n",
              " Text(0.12450547654078797, 0.7159090909090909, 'x[16] <= 195.5\\ngini = 0.382\\nsamples = 66\\nvalue = [49, 17]'),\n",
              " Text(0.12408697073728953, 0.6931818181818182, 'gini = 0.0\\nsamples = 16\\nvalue = [16, 0]'),\n",
              " Text(0.12492398234428642, 0.6931818181818182, 'x[20] <= 492.5\\ngini = 0.449\\nsamples = 50\\nvalue = [33, 17]'),\n",
              " Text(0.12408697073728953, 0.6704545454545454, 'x[12] <= 403.0\\ngini = 0.397\\nsamples = 44\\nvalue = [32, 12]'),\n",
              " Text(0.12366846493379108, 0.6477272727272727, 'x[16] <= 198.5\\ngini = 0.363\\nsamples = 42\\nvalue = [32, 10]'),\n",
              " Text(0.12324995913029263, 0.625, 'gini = 0.0\\nsamples = 1\\nvalue = [0, 1]'),\n",
              " Text(0.12408697073728953, 0.625, 'x[17] <= 487.5\\ngini = 0.343\\nsamples = 41\\nvalue = [32, 9]'),\n",
              " Text(0.12366846493379108, 0.6022727272727273, 'x[19] <= 241.0\\ngini = 0.412\\nsamples = 31\\nvalue = [22, 9]'),\n",
              " Text(0.12324995913029263, 0.5795454545454546, 'gini = 0.0\\nsamples = 2\\nvalue = [0, 2]'),\n",
              " Text(0.12408697073728953, 0.5795454545454546, 'x[1] <= 215000.0\\ngini = 0.366\\nsamples = 29\\nvalue = [22, 7]'),\n",
              " Text(0.1230407062285434, 0.5568181818181818, 'x[0] <= 26603.0\\ngini = 0.48\\nsamples = 15\\nvalue = [9, 6]'),\n",
              " Text(0.12262220042504496, 0.5340909090909091, 'x[0] <= 15315.5\\ngini = 0.5\\nsamples = 12\\nvalue = [6, 6]'),\n",
              " Text(0.12178518881804806, 0.5113636363636364, 'x[21] <= 458.5\\ngini = 0.408\\nsamples = 7\\nvalue = [5, 2]'),\n",
              " Text(0.12136668301454961, 0.48863636363636365, 'x[3] <= 1.5\\ngini = 0.278\\nsamples = 6\\nvalue = [5, 1]'),\n",
              " Text(0.12094817721105117, 0.4659090909090909, 'gini = 0.0\\nsamples = 4\\nvalue = [4, 0]'),\n",
              " Text(0.12178518881804806, 0.4659090909090909, 'x[14] <= 321.0\\ngini = 0.5\\nsamples = 2\\nvalue = [1, 1]'),\n",
              " Text(0.12136668301454961, 0.4431818181818182, 'gini = 0.0\\nsamples = 1\\nvalue = [1, 0]'),\n",
              " Text(0.12220369462154651, 0.4431818181818182, 'gini = 0.0\\nsamples = 1\\nvalue = [0, 1]'),\n",
              " Text(0.12220369462154651, 0.48863636363636365, 'gini = 0.0\\nsamples = 1\\nvalue = [0, 1]'),\n",
              " Text(0.12345921203204185, 0.5113636363636364, 'x[12] <= 325.5\\ngini = 0.32\\nsamples = 5\\nvalue = [1, 4]'),\n",
              " Text(0.1230407062285434, 0.48863636363636365, 'gini = 0.0\\nsamples = 3\\nvalue = [0, 3]'),\n",
              " Text(0.1238777178355403, 0.48863636363636365, 'x[5] <= 36.0\\ngini = 0.5\\nsamples = 2\\nvalue = [1, 1]'),\n",
              " Text(0.12345921203204185, 0.4659090909090909, 'gini = 0.0\\nsamples = 1\\nvalue = [1, 0]'),\n",
              " Text(0.12429622363903875, 0.4659090909090909, 'gini = 0.0\\nsamples = 1\\nvalue = [0, 1]'),\n",
              " Text(0.12345921203204185, 0.5340909090909091, 'gini = 0.0\\nsamples = 3\\nvalue = [3, 0]'),\n",
              " Text(0.12513323524603565, 0.5568181818181818, 'x[0] <= 1271.0\\ngini = 0.133\\nsamples = 14\\nvalue = [13, 1]'),\n",
              " Text(0.1247147294425372, 0.5340909090909091, 'x[5] <= 44.0\\ngini = 0.5\\nsamples = 2\\nvalue = [1, 1]'),\n",
              " Text(0.12429622363903875, 0.5113636363636364, 'gini = 0.0\\nsamples = 1\\nvalue = [0, 1]'),\n",
              " Text(0.12513323524603565, 0.5113636363636364, 'gini = 0.0\\nsamples = 1\\nvalue = [1, 0]'),\n",
              " Text(0.1255517410495341, 0.5340909090909091, 'gini = 0.0\\nsamples = 12\\nvalue = [12, 0]'),\n",
              " Text(0.12450547654078797, 0.6022727272727273, 'gini = 0.0\\nsamples = 10\\nvalue = [10, 0]'),\n",
              " Text(0.12450547654078797, 0.6477272727272727, 'gini = 0.0\\nsamples = 2\\nvalue = [0, 2]'),\n",
              " Text(0.12576099395128332, 0.6704545454545454, 'x[15] <= 737.0\\ngini = 0.278\\nsamples = 6\\nvalue = [1, 5]'),\n",
              " Text(0.12534248814778487, 0.6477272727272727, 'gini = 0.0\\nsamples = 5\\nvalue = [0, 5]'),\n",
              " Text(0.12617949975478177, 0.6477272727272727, 'gini = 0.0\\nsamples = 1\\nvalue = [1, 0]'),\n",
              " Text(0.1293182932810201, 0.7159090909090909, 'x[23] <= 1183.5\\ngini = 0.183\\nsamples = 59\\nvalue = [53, 6]'),\n",
              " Text(0.12889978747752165, 0.6931818181818182, 'x[12] <= 458.0\\ngini = 0.158\\nsamples = 58\\nvalue = [53, 5]'),\n",
              " Text(0.12785352296877556, 0.6704545454545454, 'x[0] <= 25341.0\\ngini = 0.133\\nsamples = 56\\nvalue = [52, 4]'),\n",
              " Text(0.12701651136177866, 0.6477272727272727, 'x[7] <= -0.5\\ngini = 0.046\\nsamples = 42\\nvalue = [41, 1]'),\n",
              " Text(0.1265980055582802, 0.625, 'gini = 0.0\\nsamples = 41\\nvalue = [41, 0]'),\n",
              " Text(0.1274350171652771, 0.625, 'gini = 0.0\\nsamples = 1\\nvalue = [0, 1]'),\n",
              " Text(0.12869053457577243, 0.6477272727272727, 'x[0] <= 26119.0\\ngini = 0.337\\nsamples = 14\\nvalue = [11, 3]'),\n",
              " Text(0.12827202877227398, 0.625, 'gini = 0.0\\nsamples = 2\\nvalue = [0, 2]'),\n",
              " Text(0.12910904037927087, 0.625, 'x[0] <= 29430.5\\ngini = 0.153\\nsamples = 12\\nvalue = [11, 1]'),\n",
              " Text(0.12869053457577243, 0.6022727272727273, 'gini = 0.0\\nsamples = 10\\nvalue = [10, 0]'),\n",
              " Text(0.12952754618276932, 0.6022727272727273, 'x[4] <= 1.5\\ngini = 0.5\\nsamples = 2\\nvalue = [1, 1]'),\n",
              " Text(0.12910904037927087, 0.5795454545454546, 'gini = 0.0\\nsamples = 1\\nvalue = [0, 1]'),\n",
              " Text(0.12994605198626777, 0.5795454545454546, 'gini = 0.0\\nsamples = 1\\nvalue = [1, 0]'),\n",
              " Text(0.12994605198626777, 0.6704545454545454, 'x[20] <= 513.0\\ngini = 0.5\\nsamples = 2\\nvalue = [1, 1]'),\n",
              " Text(0.12952754618276932, 0.6477272727272727, 'gini = 0.0\\nsamples = 1\\nvalue = [1, 0]'),\n",
              " Text(0.13036455778976622, 0.6477272727272727, 'gini = 0.0\\nsamples = 1\\nvalue = [0, 1]'),\n",
              " Text(0.12973679908451854, 0.6931818181818182, 'gini = 0.0\\nsamples = 1\\nvalue = [0, 1]'),\n",
              " Text(0.13245708680725846, 0.7613636363636364, 'x[9] <= -1.5\\ngini = 0.475\\nsamples = 49\\nvalue = [30, 19]'),\n",
              " Text(0.13141082229851234, 0.7386363636363636, 'x[12] <= 443.0\\ngini = 0.375\\nsamples = 12\\nvalue = [3, 9]'),\n",
              " Text(0.1309923164950139, 0.7159090909090909, 'x[16] <= -513.5\\ngini = 0.18\\nsamples = 10\\nvalue = [1, 9]'),\n",
              " Text(0.13057381069151544, 0.6931818181818182, 'gini = 0.0\\nsamples = 1\\nvalue = [1, 0]'),\n",
              " Text(0.13141082229851234, 0.6931818181818182, 'gini = 0.0\\nsamples = 9\\nvalue = [0, 9]'),\n",
              " Text(0.13182932810201078, 0.7159090909090909, 'gini = 0.0\\nsamples = 2\\nvalue = [2, 0]'),\n",
              " Text(0.13350335131600458, 0.7386363636363636, 'x[22] <= 499.0\\ngini = 0.394\\nsamples = 37\\nvalue = [27, 10]'),\n",
              " Text(0.13266633970900768, 0.7159090909090909, 'x[19] <= 1782.5\\ngini = 0.497\\nsamples = 13\\nvalue = [6, 7]'),\n",
              " Text(0.13224783390550923, 0.6931818181818182, 'gini = 0.0\\nsamples = 6\\nvalue = [0, 6]'),\n",
              " Text(0.13308484551250613, 0.6931818181818182, 'x[0] <= 17756.5\\ngini = 0.245\\nsamples = 7\\nvalue = [6, 1]'),\n",
              " Text(0.13266633970900768, 0.6704545454545454, 'gini = 0.0\\nsamples = 6\\nvalue = [6, 0]'),\n",
              " Text(0.13350335131600458, 0.6704545454545454, 'gini = 0.0\\nsamples = 1\\nvalue = [0, 1]'),\n",
              " Text(0.13434036292300147, 0.7159090909090909, 'x[16] <= 1747.5\\ngini = 0.219\\nsamples = 24\\nvalue = [21, 3]'),\n",
              " Text(0.13392185711950302, 0.6931818181818182, 'gini = 0.0\\nsamples = 17\\nvalue = [17, 0]'),\n",
              " Text(0.13475886872649992, 0.6931818181818182, 'x[22] <= 3617.0\\ngini = 0.49\\nsamples = 7\\nvalue = [4, 3]'),\n",
              " Text(0.13434036292300147, 0.6704545454545454, 'gini = 0.0\\nsamples = 3\\nvalue = [3, 0]'),\n",
              " Text(0.13517737452999837, 0.6704545454545454, 'x[21] <= 4726.0\\ngini = 0.375\\nsamples = 4\\nvalue = [1, 3]'),\n",
              " Text(0.13475886872649992, 0.6477272727272727, 'gini = 0.0\\nsamples = 3\\nvalue = [0, 3]'),\n",
              " Text(0.13559588033349682, 0.6477272727272727, 'gini = 0.0\\nsamples = 1\\nvalue = [1, 0]'),\n",
              " Text(0.13559588033349682, 0.8068181818181818, 'x[0] <= 5794.0\\ngini = 0.092\\nsamples = 62\\nvalue = [59, 3]'),\n",
              " Text(0.13517737452999837, 0.7840909090909091, 'x[16] <= 335.5\\ngini = 0.337\\nsamples = 14\\nvalue = [11, 3]'),\n",
              " Text(0.13475886872649992, 0.7613636363636364, 'x[13] <= 301.5\\ngini = 0.48\\nsamples = 5\\nvalue = [2, 3]'),\n",
              " Text(0.13434036292300147, 0.7386363636363636, 'gini = 0.0\\nsamples = 2\\nvalue = [2, 0]'),\n",
              " Text(0.13517737452999837, 0.7386363636363636, 'gini = 0.0\\nsamples = 3\\nvalue = [0, 3]'),\n",
              " Text(0.13559588033349682, 0.7613636363636364, 'gini = 0.0\\nsamples = 9\\nvalue = [9, 0]'),\n",
              " Text(0.13601438613699526, 0.7840909090909091, 'gini = 0.0\\nsamples = 48\\nvalue = [48, 0]'),\n",
              " Text(0.14040869707372894, 0.8295454545454546, 'x[15] <= 783.0\\ngini = 0.398\\nsamples = 62\\nvalue = [45, 17]'),\n",
              " Text(0.13999019127023052, 0.8068181818181818, 'x[0] <= 17704.5\\ngini = 0.375\\nsamples = 60\\nvalue = [45, 15]'),\n",
              " Text(0.13915317966323362, 0.7840909090909091, 'x[0] <= 16365.5\\ngini = 0.455\\nsamples = 40\\nvalue = [26, 14]'),\n",
              " Text(0.13873467385973517, 0.7613636363636364, 'x[21] <= 113.5\\ngini = 0.432\\nsamples = 38\\nvalue = [26, 12]'),\n",
              " Text(0.13831616805623673, 0.7386363636363636, 'gini = 0.0\\nsamples = 8\\nvalue = [8, 0]'),\n",
              " Text(0.13915317966323362, 0.7386363636363636, 'x[23] <= 1084.0\\ngini = 0.48\\nsamples = 30\\nvalue = [18, 12]'),\n",
              " Text(0.13873467385973517, 0.7159090909090909, 'x[0] <= 9063.5\\ngini = 0.499\\nsamples = 25\\nvalue = [13, 12]'),\n",
              " Text(0.13768840935098905, 0.6931818181818182, 'x[0] <= 5791.0\\ngini = 0.457\\nsamples = 17\\nvalue = [11, 6]'),\n",
              " Text(0.13685139774399216, 0.6704545454545454, 'x[21] <= 353.0\\ngini = 0.494\\nsamples = 9\\nvalue = [4, 5]'),\n",
              " Text(0.1364328919404937, 0.6477272727272727, 'x[9] <= -1.5\\ngini = 0.32\\nsamples = 5\\nvalue = [4, 1]'),\n",
              " Text(0.13601438613699526, 0.625, 'gini = 0.0\\nsamples = 1\\nvalue = [0, 1]'),\n",
              " Text(0.13685139774399216, 0.625, 'gini = 0.0\\nsamples = 4\\nvalue = [4, 0]'),\n",
              " Text(0.1372699035474906, 0.6477272727272727, 'gini = 0.0\\nsamples = 4\\nvalue = [0, 4]'),\n",
              " Text(0.13852542095798595, 0.6704545454545454, 'x[1] <= 140000.0\\ngini = 0.219\\nsamples = 8\\nvalue = [7, 1]'),\n",
              " Text(0.1381069151544875, 0.6477272727272727, 'gini = 0.0\\nsamples = 1\\nvalue = [0, 1]'),\n",
              " Text(0.1389439267614844, 0.6477272727272727, 'gini = 0.0\\nsamples = 7\\nvalue = [7, 0]'),\n",
              " Text(0.1397809383684813, 0.6931818181818182, 'x[1] <= 225000.0\\ngini = 0.375\\nsamples = 8\\nvalue = [2, 6]'),\n",
              " Text(0.13936243256498285, 0.6704545454545454, 'gini = 0.0\\nsamples = 5\\nvalue = [0, 5]'),\n",
              " Text(0.14019944417197974, 0.6704545454545454, 'x[5] <= 57.0\\ngini = 0.444\\nsamples = 3\\nvalue = [2, 1]'),\n",
              " Text(0.1397809383684813, 0.6477272727272727, 'gini = 0.0\\nsamples = 2\\nvalue = [2, 0]'),\n",
              " Text(0.14061794997547816, 0.6477272727272727, 'gini = 0.0\\nsamples = 1\\nvalue = [0, 1]'),\n",
              " Text(0.13957168546673207, 0.7159090909090909, 'gini = 0.0\\nsamples = 5\\nvalue = [5, 0]'),\n",
              " Text(0.13957168546673207, 0.7613636363636364, 'gini = 0.0\\nsamples = 2\\nvalue = [0, 2]'),\n",
              " Text(0.1408272028772274, 0.7840909090909091, 'x[14] <= -1.5\\ngini = 0.095\\nsamples = 20\\nvalue = [19, 1]'),\n",
              " Text(0.14040869707372894, 0.7613636363636364, 'gini = 0.0\\nsamples = 1\\nvalue = [0, 1]'),\n",
              " Text(0.14124570868072583, 0.7613636363636364, 'gini = 0.0\\nsamples = 19\\nvalue = [19, 0]'),\n",
              " Text(0.1408272028772274, 0.8068181818181818, 'gini = 0.0\\nsamples = 2\\nvalue = [0, 2]'),\n",
              " Text(0.2685369953868318, 0.8977272727272727, 'x[9] <= 1.0\\ngini = 0.283\\nsamples = 3166\\nvalue = [2626, 540]'),\n",
              " Text(0.2411609615109531, 0.875, 'x[19] <= 4189.0\\ngini = 0.257\\nsamples = 2645\\nvalue = [2245, 400]'),\n",
              " Text(0.21944469562285435, 0.8522727272727273, 'x[8] <= 1.5\\ngini = 0.272\\nsamples = 2253\\nvalue = [1887, 366]'),\n",
              " Text(0.1958944590894229, 0.8295454545454546, 'x[12] <= 6681.0\\ngini = 0.265\\nsamples = 2164\\nvalue = [1824, 340]'),\n",
              " Text(0.16960116274317477, 0.8068181818181818, 'x[7] <= -1.5\\ngini = 0.301\\nsamples = 941\\nvalue = [767, 174]'),\n",
              " Text(0.14830799411476214, 0.7840909090909091, 'x[12] <= 6489.5\\ngini = 0.19\\nsamples = 244\\nvalue = [218, 26]'),\n",
              " Text(0.1478894883112637, 0.7613636363636364, 'x[20] <= 835.5\\ngini = 0.179\\nsamples = 242\\nvalue = [218, 24]'),\n",
              " Text(0.1470524767042668, 0.7386363636363636, 'x[3] <= 5.5\\ngini = 0.167\\nsamples = 239\\nvalue = [217, 22]'),\n",
              " Text(0.14663397090076835, 0.7159090909090909, 'x[10] <= 1.0\\ngini = 0.161\\nsamples = 238\\nvalue = [217, 21]'),\n",
              " Text(0.1462154650972699, 0.6931818181818182, 'x[5] <= 47.5\\ngini = 0.155\\nsamples = 237\\nvalue = [217, 20]'),\n",
              " Text(0.1436521170508419, 0.6704545454545454, 'x[1] <= 165000.0\\ngini = 0.125\\nsamples = 209\\nvalue = [195, 14]'),\n",
              " Text(0.14145496158247506, 0.6477272727272727, 'x[15] <= 555.5\\ngini = 0.216\\nsamples = 65\\nvalue = [57, 8]'),\n",
              " Text(0.14040869707372894, 0.625, 'x[23] <= 4337.5\\ngini = 0.135\\nsamples = 55\\nvalue = [51, 4]'),\n",
              " Text(0.13957168546673207, 0.6022727272727273, 'x[12] <= 3737.5\\ngini = 0.078\\nsamples = 49\\nvalue = [47, 2]'),\n",
              " Text(0.13915317966323362, 0.5795454545454546, 'gini = 0.0\\nsamples = 37\\nvalue = [37, 0]'),\n",
              " Text(0.13999019127023052, 0.5795454545454546, 'x[12] <= 3850.5\\ngini = 0.278\\nsamples = 12\\nvalue = [10, 2]'),\n",
              " Text(0.13957168546673207, 0.5568181818181818, 'gini = 0.0\\nsamples = 1\\nvalue = [0, 1]'),\n",
              " Text(0.14040869707372894, 0.5568181818181818, 'x[5] <= 28.0\\ngini = 0.165\\nsamples = 11\\nvalue = [10, 1]'),\n",
              " Text(0.13999019127023052, 0.5340909090909091, 'x[19] <= 1990.5\\ngini = 0.5\\nsamples = 2\\nvalue = [1, 1]'),\n",
              " Text(0.13957168546673207, 0.5113636363636364, 'gini = 0.0\\nsamples = 1\\nvalue = [0, 1]'),\n",
              " Text(0.14040869707372894, 0.5113636363636364, 'gini = 0.0\\nsamples = 1\\nvalue = [1, 0]'),\n",
              " Text(0.1408272028772274, 0.5340909090909091, 'gini = 0.0\\nsamples = 9\\nvalue = [9, 0]'),\n",
              " Text(0.14124570868072583, 0.6022727272727273, 'x[16] <= 529.0\\ngini = 0.444\\nsamples = 6\\nvalue = [4, 2]'),\n",
              " Text(0.1408272028772274, 0.5795454545454546, 'gini = 0.0\\nsamples = 2\\nvalue = [0, 2]'),\n",
              " Text(0.14166421448422428, 0.5795454545454546, 'gini = 0.0\\nsamples = 4\\nvalue = [4, 0]'),\n",
              " Text(0.14250122609122118, 0.625, 'x[20] <= 585.0\\ngini = 0.48\\nsamples = 10\\nvalue = [6, 4]'),\n",
              " Text(0.14208272028772273, 0.6022727272727273, 'gini = 0.0\\nsamples = 2\\nvalue = [0, 2]'),\n",
              " Text(0.14291973189471963, 0.6022727272727273, 'x[23] <= 792.5\\ngini = 0.375\\nsamples = 8\\nvalue = [6, 2]'),\n",
              " Text(0.14250122609122118, 0.5795454545454546, 'gini = 0.0\\nsamples = 6\\nvalue = [6, 0]'),\n",
              " Text(0.14333823769821807, 0.5795454545454546, 'gini = 0.0\\nsamples = 2\\nvalue = [0, 2]'),\n",
              " Text(0.14584927251920876, 0.6477272727272727, 'x[8] <= -1.5\\ngini = 0.08\\nsamples = 144\\nvalue = [138, 6]'),\n",
              " Text(0.14501226091221187, 0.625, 'x[18] <= 2.0\\ngini = 0.068\\nsamples = 141\\nvalue = [136, 5]'),\n",
              " Text(0.14459375510871342, 0.6022727272727273, 'x[0] <= 14960.0\\ngini = 0.168\\nsamples = 54\\nvalue = [49, 5]'),\n",
              " Text(0.14417524930521497, 0.5795454545454546, 'gini = 0.0\\nsamples = 25\\nvalue = [25, 0]'),\n",
              " Text(0.14501226091221187, 0.5795454545454546, 'x[0] <= 16368.5\\ngini = 0.285\\nsamples = 29\\nvalue = [24, 5]'),\n",
              " Text(0.14459375510871342, 0.5568181818181818, 'gini = 0.0\\nsamples = 2\\nvalue = [0, 2]'),\n",
              " Text(0.1454307667157103, 0.5568181818181818, 'x[12] <= 4118.0\\ngini = 0.198\\nsamples = 27\\nvalue = [24, 3]'),\n",
              " Text(0.14501226091221187, 0.5340909090909091, 'x[1] <= 305000.0\\ngini = 0.142\\nsamples = 26\\nvalue = [24, 2]'),\n",
              " Text(0.14459375510871342, 0.5113636363636364, 'gini = 0.0\\nsamples = 16\\nvalue = [16, 0]'),\n",
              " Text(0.1454307667157103, 0.5113636363636364, 'x[4] <= 1.5\\ngini = 0.32\\nsamples = 10\\nvalue = [8, 2]'),\n",
              " Text(0.14501226091221187, 0.48863636363636365, 'x[22] <= 171.5\\ngini = 0.5\\nsamples = 4\\nvalue = [2, 2]'),\n",
              " Text(0.14459375510871342, 0.4659090909090909, 'gini = 0.0\\nsamples = 2\\nvalue = [2, 0]'),\n",
              " Text(0.1454307667157103, 0.4659090909090909, 'gini = 0.0\\nsamples = 2\\nvalue = [0, 2]'),\n",
              " Text(0.14584927251920876, 0.48863636363636365, 'gini = 0.0\\nsamples = 6\\nvalue = [6, 0]'),\n",
              " Text(0.14584927251920876, 0.5340909090909091, 'gini = 0.0\\nsamples = 1\\nvalue = [0, 1]'),\n",
              " Text(0.1454307667157103, 0.6022727272727273, 'gini = 0.0\\nsamples = 87\\nvalue = [87, 0]'),\n",
              " Text(0.14668628412620566, 0.625, 'x[21] <= 67.0\\ngini = 0.444\\nsamples = 3\\nvalue = [2, 1]'),\n",
              " Text(0.1462677783227072, 0.6022727272727273, 'gini = 0.0\\nsamples = 1\\nvalue = [0, 1]'),\n",
              " Text(0.1471047899297041, 0.6022727272727273, 'gini = 0.0\\nsamples = 2\\nvalue = [2, 0]'),\n",
              " Text(0.1487788131436979, 0.6704545454545454, 'x[1] <= 245000.0\\ngini = 0.337\\nsamples = 28\\nvalue = [22, 6]'),\n",
              " Text(0.14836030734019945, 0.6477272727272727, 'gini = 0.0\\nsamples = 12\\nvalue = [12, 0]'),\n",
              " Text(0.14919731894719634, 0.6477272727272727, 'x[5] <= 50.0\\ngini = 0.469\\nsamples = 16\\nvalue = [10, 6]'),\n",
              " Text(0.14836030734019945, 0.625, 'x[10] <= -1.5\\ngini = 0.278\\nsamples = 6\\nvalue = [1, 5]'),\n",
              " Text(0.147941801536701, 0.6022727272727273, 'gini = 0.0\\nsamples = 5\\nvalue = [0, 5]'),\n",
              " Text(0.1487788131436979, 0.6022727272727273, 'gini = 0.0\\nsamples = 1\\nvalue = [1, 0]'),\n",
              " Text(0.15003433055419324, 0.625, 'x[0] <= 29117.0\\ngini = 0.18\\nsamples = 10\\nvalue = [9, 1]'),\n",
              " Text(0.1496158247506948, 0.6022727272727273, 'gini = 0.0\\nsamples = 9\\nvalue = [9, 0]'),\n",
              " Text(0.1504528363576917, 0.6022727272727273, 'gini = 0.0\\nsamples = 1\\nvalue = [0, 1]'),\n",
              " Text(0.1470524767042668, 0.6931818181818182, 'gini = 0.0\\nsamples = 1\\nvalue = [0, 1]'),\n",
              " Text(0.14747098250776525, 0.7159090909090909, 'gini = 0.0\\nsamples = 1\\nvalue = [0, 1]'),\n",
              " Text(0.1487264999182606, 0.7386363636363636, 'x[16] <= -2.0\\ngini = 0.444\\nsamples = 3\\nvalue = [1, 2]'),\n",
              " Text(0.14830799411476214, 0.7159090909090909, 'gini = 0.0\\nsamples = 1\\nvalue = [1, 0]'),\n",
              " Text(0.14914500572175904, 0.7159090909090909, 'gini = 0.0\\nsamples = 2\\nvalue = [0, 2]'),\n",
              " Text(0.1487264999182606, 0.7613636363636364, 'gini = 0.0\\nsamples = 2\\nvalue = [0, 2]'),\n",
              " Text(0.19089433137158737, 0.7840909090909091, 'x[22] <= 5293.5\\ngini = 0.335\\nsamples = 697\\nvalue = [549, 148]'),\n",
              " Text(0.18854360797776687, 0.7613636363636364, 'x[13] <= 17171.5\\ngini = 0.348\\nsamples = 656\\nvalue = [509, 147]'),\n",
              " Text(0.1859346902076181, 0.7386363636363636, 'x[19] <= 4047.0\\ngini = 0.339\\nsamples = 637\\nvalue = [499, 138]'),\n",
              " Text(0.1836463952918097, 0.7159090909090909, 'x[12] <= 6006.5\\ngini = 0.335\\nsamples = 631\\nvalue = [497, 134]'),\n",
              " Text(0.18032532287068825, 0.6931818181818182, 'x[12] <= 4736.5\\ngini = 0.324\\nsamples = 601\\nvalue = [479, 122]'),\n",
              " Text(0.17661271865293446, 0.6704545454545454, 'x[12] <= 4697.0\\ngini = 0.341\\nsamples = 537\\nvalue = [420, 117]'),\n",
              " Text(0.176194212849436, 0.6477272727272727, 'x[22] <= 5027.0\\ngini = 0.337\\nsamples = 535\\nvalue = [420, 115]'),\n",
              " Text(0.17577570704593756, 0.625, 'x[0] <= 27999.0\\ngini = 0.334\\nsamples = 533\\nvalue = [420, 113]'),\n",
              " Text(0.17169854503841753, 0.6022727272727273, 'x[0] <= 26229.5\\ngini = 0.345\\nsamples = 500\\nvalue = [389, 111]'),\n",
              " Text(0.1656367500408697, 0.5795454545454546, 'x[0] <= 14943.0\\ngini = 0.331\\nsamples = 477\\nvalue = [377, 100]'),\n",
              " Text(0.1572797122772601, 0.5568181818181818, 'x[12] <= 1875.5\\ngini = 0.362\\nsamples = 345\\nvalue = [263, 82]'),\n",
              " Text(0.15123753473925128, 0.5340909090909091, 'x[22] <= 317.0\\ngini = 0.292\\nsamples = 197\\nvalue = [162, 35]'),\n",
              " Text(0.14752329573320255, 0.5113636363636364, 'x[5] <= 45.5\\ngini = 0.174\\nsamples = 83\\nvalue = [75, 8]'),\n",
              " Text(0.14668628412620566, 0.48863636363636365, 'x[19] <= 3567.0\\ngini = 0.083\\nsamples = 69\\nvalue = [66, 3]'),\n",
              " Text(0.1462677783227072, 0.4659090909090909, 'x[18] <= 2045.5\\ngini = 0.057\\nsamples = 68\\nvalue = [66, 2]'),\n",
              " Text(0.14584927251920876, 0.4431818181818182, 'gini = 0.0\\nsamples = 57\\nvalue = [57, 0]'),\n",
              " Text(0.14668628412620566, 0.4431818181818182, 'x[21] <= 461.5\\ngini = 0.298\\nsamples = 11\\nvalue = [9, 2]'),\n",
              " Text(0.1462677783227072, 0.42045454545454547, 'gini = 0.0\\nsamples = 9\\nvalue = [9, 0]'),\n",
              " Text(0.1471047899297041, 0.42045454545454547, 'gini = 0.0\\nsamples = 2\\nvalue = [0, 2]'),\n",
              " Text(0.1471047899297041, 0.4659090909090909, 'gini = 0.0\\nsamples = 1\\nvalue = [0, 1]'),\n",
              " Text(0.14836030734019945, 0.48863636363636365, 'x[19] <= 1075.0\\ngini = 0.459\\nsamples = 14\\nvalue = [9, 5]'),\n",
              " Text(0.147941801536701, 0.4659090909090909, 'x[12] <= 696.0\\ngini = 0.298\\nsamples = 11\\nvalue = [9, 2]'),\n",
              " Text(0.14752329573320255, 0.4431818181818182, 'gini = 0.0\\nsamples = 1\\nvalue = [0, 1]'),\n",
              " ...]"
            ]
          },
          "metadata": {},
          "execution_count": 46
        },
        {
          "output_type": "display_data",
          "data": {
            "text/plain": [
              "<Figure size 640x480 with 1 Axes>"
            ],
            "image/png": "[encoded data removed]"
          },
          "metadata": {}
        }
      ]
    },
    {
      "cell_type": "code",
      "source": [
        "import xgboost as xgb"
      ],
      "metadata": {
        "id": "-s0XX98NyN_x"
      },
      "execution_count": 47,
      "outputs": []
    },
    {
      "cell_type": "code",
      "source": [
        "model = xgb.XGBClassifier(objectives='binary:logistic',random_state=42)"
      ],
      "metadata": {
        "id": "DwbCRPduyXrp"
      },
      "execution_count": 48,
      "outputs": []
    },
    {
      "cell_type": "code",
      "source": [
        "model.fit(X_train, y_train)"
      ],
      "metadata": {
        "id": "-A4qEILqyp4n",
        "colab": {
          "base_uri": "https://localhost:8080/",
          "height": 300
        },
        "outputId": "5ae86b41-c742-4b51-cc69-1c72b21ef4d3"
      },
      "execution_count": 49,
      "outputs": [
        {
          "output_type": "stream",
          "name": "stdout",
          "text": [
            "[16:48:25] WARNING: ../src/learner.cc:767: \n",
            "Parameters: { \"objectives\" } are not used.\n",
            "\n"
          ]
        },
        {
          "output_type": "execute_result",
          "data": {
            "text/plain": [
              "XGBClassifier(base_score=None, booster=None, callbacks=None,\n",
              "              colsample_bylevel=None, colsample_bynode=None,\n",
              "              colsample_bytree=None, early_stopping_rounds=None,\n",
              "              enable_categorical=False, eval_metric=None, feature_types=None,\n",
              "              gamma=None, gpu_id=None, grow_policy=None, importance_type=None,\n",
              "              interaction_constraints=None, learning_rate=None, max_bin=None,\n",
              "              max_cat_threshold=None, max_cat_to_onehot=None,\n",
              "              max_delta_step=None, max_depth=None, max_leaves=None,\n",
              "              min_child_weight=None, missing=nan, monotone_constraints=None,\n",
              "              n_estimators=100, n_jobs=None, num_parallel_tree=None,\n",
              "              objectives='binary:logistic', predictor=None, ...)"
            ],
            "text/html": [
              "<style>#sk-container-id-4 {color: black;background-color: white;}#sk-container-id-4 pre{padding: 0;}#sk-container-id-4 div.sk-toggleable {background-color: white;}#sk-container-id-4 label.sk-toggleable__label {cursor: pointer;display: block;width: 100%;margin-bottom: 0;padding: 0.3em;box-sizing: border-box;text-align: center;}#sk-container-id-4 label.sk-toggleable__label-arrow:before {content: \"▸\";float: left;margin-right: 0.25em;color: #696969;}#sk-container-id-4 label.sk-toggleable__label-arrow:hover:before {color: black;}#sk-container-id-4 div.sk-estimator:hover label.sk-toggleable__label-arrow:before {color: black;}#sk-container-id-4 div.sk-toggleable__content {max-height: 0;max-width: 0;overflow: hidden;text-align: left;background-color: #f0f8ff;}#sk-container-id-4 div.sk-toggleable__content pre {margin: 0.2em;color: black;border-radius: 0.25em;background-color: #f0f8ff;}#sk-container-id-4 input.sk-toggleable__control:checked~div.sk-toggleable__content {max-height: 200px;max-width: 100%;overflow: auto;}#sk-container-id-4 input.sk-toggleable__control:checked~label.sk-toggleable__label-arrow:before {content: \"▾\";}#sk-container-id-4 div.sk-estimator input.sk-toggleable__control:checked~label.sk-toggleable__label {background-color: #d4ebff;}#sk-container-id-4 div.sk-label input.sk-toggleable__control:checked~label.sk-toggleable__label {background-color: #d4ebff;}#sk-container-id-4 input.sk-hidden--visually {border: 0;clip: rect(1px 1px 1px 1px);clip: rect(1px, 1px, 1px, 1px);height: 1px;margin: -1px;overflow: hidden;padding: 0;position: absolute;width: 1px;}#sk-container-id-4 div.sk-estimator {font-family: monospace;background-color: #f0f8ff;border: 1px dotted black;border-radius: 0.25em;box-sizing: border-box;margin-bottom: 0.5em;}#sk-container-id-4 div.sk-estimator:hover {background-color: #d4ebff;}#sk-container-id-4 div.sk-parallel-item::after {content: \"\";width: 100%;border-bottom: 1px solid gray;flex-grow: 1;}#sk-container-id-4 div.sk-label:hover label.sk-toggleable__label {background-color: #d4ebff;}#sk-container-id-4 div.sk-serial::before {content: \"\";position: absolute;border-left: 1px solid gray;box-sizing: border-box;top: 0;bottom: 0;left: 50%;z-index: 0;}#sk-container-id-4 div.sk-serial {display: flex;flex-direction: column;align-items: center;background-color: white;padding-right: 0.2em;padding-left: 0.2em;position: relative;}#sk-container-id-4 div.sk-item {position: relative;z-index: 1;}#sk-container-id-4 div.sk-parallel {display: flex;align-items: stretch;justify-content: center;background-color: white;position: relative;}#sk-container-id-4 div.sk-item::before, #sk-container-id-4 div.sk-parallel-item::before {content: \"\";position: absolute;border-left: 1px solid gray;box-sizing: border-box;top: 0;bottom: 0;left: 50%;z-index: -1;}#sk-container-id-4 div.sk-parallel-item {display: flex;flex-direction: column;z-index: 1;position: relative;background-color: white;}#sk-container-id-4 div.sk-parallel-item:first-child::after {align-self: flex-end;width: 50%;}#sk-container-id-4 div.sk-parallel-item:last-child::after {align-self: flex-start;width: 50%;}#sk-container-id-4 div.sk-parallel-item:only-child::after {width: 0;}#sk-container-id-4 div.sk-dashed-wrapped {border: 1px dashed gray;margin: 0 0.4em 0.5em 0.4em;box-sizing: border-box;padding-bottom: 0.4em;background-color: white;}#sk-container-id-4 div.sk-label label {font-family: monospace;font-weight: bold;display: inline-block;line-height: 1.2em;}#sk-container-id-4 div.sk-label-container {text-align: center;}#sk-container-id-4 div.sk-container {/* jupyter's `normalize.less` sets `[hidden] { display: none; }` but bootstrap.min.css set `[hidden] { display: none !important; }` so we also need the `!important` here to be able to override the default hidden behavior on the sphinx rendered scikit-learn.org. See: https://github.com/scikit-learn/scikit-learn/issues/21755 */display: inline-block !important;position: relative;}#sk-container-id-4 div.sk-text-repr-fallback {display: none;}</style><div id=\"sk-container-id-4\" class=\"sk-top-container\"><div class=\"sk-text-repr-fallback\"><pre>XGBClassifier(base_score=None, booster=None, callbacks=None,\n",
              "              colsample_bylevel=None, colsample_bynode=None,\n",
              "              colsample_bytree=None, early_stopping_rounds=None,\n",
              "              enable_categorical=False, eval_metric=None, feature_types=None,\n",
              "              gamma=None, gpu_id=None, grow_policy=None, importance_type=None,\n",
              "              interaction_constraints=None, learning_rate=None, max_bin=None,\n",
              "              max_cat_threshold=None, max_cat_to_onehot=None,\n",
              "              max_delta_step=None, max_depth=None, max_leaves=None,\n",
              "              min_child_weight=None, missing=nan, monotone_constraints=None,\n",
              "              n_estimators=100, n_jobs=None, num_parallel_tree=None,\n",
              "              objectives=&#x27;binary:logistic&#x27;, predictor=None, ...)</pre><b>In a Jupyter environment, please rerun this cell to show the HTML representation or trust the notebook. <br />On GitHub, the HTML representation is unable to render, please try loading this page with nbviewer.org.</b></div><div class=\"sk-container\" hidden><div class=\"sk-item\"><div class=\"sk-estimator sk-toggleable\"><input class=\"sk-toggleable__control sk-hidden--visually\" id=\"sk-estimator-id-4\" type=\"checkbox\" checked><label for=\"sk-estimator-id-4\" class=\"sk-toggleable__label sk-toggleable__label-arrow\">XGBClassifier</label><div class=\"sk-toggleable__content\"><pre>XGBClassifier(base_score=None, booster=None, callbacks=None,\n",
              "              colsample_bylevel=None, colsample_bynode=None,\n",
              "              colsample_bytree=None, early_stopping_rounds=None,\n",
              "              enable_categorical=False, eval_metric=None, feature_types=None,\n",
              "              gamma=None, gpu_id=None, grow_policy=None, importance_type=None,\n",
              "              interaction_constraints=None, learning_rate=None, max_bin=None,\n",
              "              max_cat_threshold=None, max_cat_to_onehot=None,\n",
              "              max_delta_step=None, max_depth=None, max_leaves=None,\n",
              "              min_child_weight=None, missing=nan, monotone_constraints=None,\n",
              "              n_estimators=100, n_jobs=None, num_parallel_tree=None,\n",
              "              objectives=&#x27;binary:logistic&#x27;, predictor=None, ...)</pre></div></div></div></div></div>"
            ]
          },
          "metadata": {},
          "execution_count": 49
        }
      ]
    },
    {
      "cell_type": "code",
      "source": [
        "y_pred=model.predict(X_test)\n",
        "accuracy=accuracy_score(y_test, y_pred)\n",
        "print(\"Accuracy:\", accuracy)\n"
      ],
      "metadata": {
        "id": "D6uLwNu6y814",
        "colab": {
          "base_uri": "https://localhost:8080/"
        },
        "outputId": "e7302153-201a-4579-f7c9-f91d309474a5"
      },
      "execution_count": 50,
      "outputs": [
        {
          "output_type": "stream",
          "name": "stdout",
          "text": [
            "Accuracy: 0.8145555555555556\n"
          ]
        }
      ]
    }
  ],
  "metadata": {
    "kernelspec": {
      "display_name": "Python",
      "language": "python",
      "name": "conda-env-python-py"
    },
    "language_info": {
      "codemirror_mode": {
        "name": "ipython",
        "version": 3
      },
      "file_extension": ".py",
      "mimetype": "text/x-python",
      "name": "python",
      "nbconvert_exporter": "python",
      "pygments_lexer": "ipython3",
      "version": "3.6.12"
    },
    "colab": {
      "provenance": [],
      "include_colab_link": true
    }
  },
  "nbformat": 4,
  "nbformat_minor": 0
}